{
  "cells": [
    {
      "cell_type": "markdown",
      "metadata": {
        "id": "LGcl5Bv9ed6u"
      },
      "source": [
        "# **Problem Statement**"
      ]
    },
    {
      "cell_type": "markdown",
      "metadata": {
        "id": "jJAmGx75jJk1"
      },
      "source": [
        "Our client is an Insurance company that has provided Health Insurance to its customers now they need your help in building a model to predict whether the policyholders (customers) from past year will also be interested in Vehicle Insurance provided by the company.\n",
        "\n",
        "An insurance policy is an arrangement by which a company undertakes to provide a guarantee of compensation for specified loss, damage, illness, or death in return for the payment of a specified premium. A premium is a sum of money that the customer needs to pay regularly to an insurance company for this guarantee.\n",
        "\n",
        "For example, you may pay a premium of Rs. 5000 each year for a health insurance cover of Rs. 200,000/- so that if, God forbid, you fall ill and need to be hospitalised in that year, the insurance provider company will bear the cost of hospitalisation etc. for upto Rs. 200,000. Now if you are wondering how can company bear such high hospitalisation cost when it charges a premium of only Rs. 5000/-, that is where the concept of probabilities comes in picture. For example, like you, there may be 100 customers who would be paying a premium of Rs. 5000 every year, but only a few of them (say 2-3) would get hospitalised that year and not everyone. This way everyone shares the risk of everyone else.\n",
        "\n",
        "Just like medical insurance, there is vehicle insurance where every year customer needs to pay a premium of certain amount to insurance provider company so that in case of unfortunate accident by the vehicle, the insurance provider company will provide a compensation (called ‘sum assured’) to the customer.\n",
        "\n",
        "Building a model to predict whether a customer would be interested in Vehicle Insurance is extremely helpful for the company because it can then accordingly plan its communication strategy to reach out to those customers and optimise its business model and revenue.\n",
        "\n",
        "Now, in order to predict, whether the customer would be interested in Vehicle insurance, you have information about demographics (gender, age, region code type), Vehicles (Vehicle Age, Damage), Policy (Premium, sourcing channel) etc."
      ]
    },
    {
      "cell_type": "markdown",
      "metadata": {
        "id": "AzGDqdC4fZ-b"
      },
      "source": [
        "# **Attribute Information**"
      ]
    },
    {
      "cell_type": "markdown",
      "metadata": {
        "id": "oEJxl68MjYbs"
      },
      "source": [
        "1. id :\tUnique ID for the customer\n",
        "\n",
        "2. Gender\t: Gender of the customer\n",
        "\n",
        "3. Age :\tAge of the customer\n",
        "\n",
        "4. Driving_License\t0 : Customer does not have DL, 1 : Customer already has DL\n",
        "\n",
        "5. Region_Code :\tUnique code for the region of the customer\n",
        "\n",
        "6. Previously_Insured\t: 1 : Customer already has Vehicle Insurance, 0 : Customer doesn't have Vehicle Insurance\n",
        "\n",
        "7. Vehicle_Age :\tAge of the Vehicle\n",
        "\n",
        "8. Vehicle_Damage\t :1 : Customer got his/her vehicle damaged in the past. 0 : Customer didn't get his/her vehicle damaged in the past.\n",
        "\n",
        "9. Annual_Premium\t: The amount customer needs to pay as premium in the year\n",
        "\n",
        "10. PolicySalesChannel :\tAnonymized Code for the channel of outreaching to the customer ie. Different Agents, Over Mail, Over Phone, In Person, etc.\n",
        "\n",
        "11. Vintage :\tNumber of Days, Customer has been associated with the company\n",
        "\n",
        "12. Response :\t1 : Customer is interested, 0 : Customer is not interested"
      ]
    },
    {
      "cell_type": "markdown",
      "metadata": {
        "id": "M9-Gsc7dRZ9X"
      },
      "source": [
        "###Import the libraries"
      ]
    },
    {
      "cell_type": "code",
      "execution_count": null,
      "metadata": {
        "id": "0CKcbI3YPmWC"
      },
      "outputs": [],
      "source": [
        "# import the required libraries\n",
        "\n",
        "import numpy as np\n",
        "import pandas as pd\n",
        "import matplotlib.pyplot as plt\n",
        "import seaborn as sns\n",
        "from imblearn.over_sampling import RandomOverSampler\n",
        "sns.set(style='whitegrid')\n",
        "\n",
        "import warnings\n",
        "warnings.filterwarnings(\"ignore\")"
      ]
    },
    {
      "cell_type": "markdown",
      "metadata": {
        "id": "zfPc4OoJRdUa"
      },
      "source": [
        "###Import the dataset"
      ]
    },
    {
      "cell_type": "code",
      "execution_count": null,
      "metadata": {
        "colab": {
          "base_uri": "https://localhost:8080/"
        },
        "id": "XPHcvr5MP0Qs",
        "outputId": "c7dd5247-37cf-44c7-94e0-0d31f12f72d2"
      },
      "outputs": [
        {
          "name": "stdout",
          "output_type": "stream",
          "text": [
            "Mounted at /content/drive\n"
          ]
        }
      ],
      "source": [
        "from google.colab import drive\n",
        "drive.mount('/content/drive')"
      ]
    },
    {
      "cell_type": "code",
      "execution_count": null,
      "metadata": {
        "id": "gMko4iIrPmPf"
      },
      "outputs": [],
      "source": [
        "df = pd.read_csv('/content/drive/MyDrive/Colab Notebooks/data/Project datasets/TRAIN-HEALTH INSURANCE CROSS SELL PREDICTION.csv')"
      ]
    },
    {
      "cell_type": "markdown",
      "metadata": {
        "id": "DSW3AfnDRppM"
      },
      "source": [
        "###Understand the data"
      ]
    },
    {
      "cell_type": "code",
      "execution_count": null,
      "metadata": {
        "colab": {
          "base_uri": "https://localhost:8080/",
          "height": 206
        },
        "id": "9JSZUC2TPmMq",
        "outputId": "d2ba4b00-d13c-47e3-92cf-fcdd92ed63e4"
      },
      "outputs": [
        {
          "data": {
            "text/html": [
              "\n",
              "  <div id=\"df-e036a1b8-71db-421d-b067-7b26cbe1fc7f\">\n",
              "    <div class=\"colab-df-container\">\n",
              "      <div>\n",
              "<style scoped>\n",
              "    .dataframe tbody tr th:only-of-type {\n",
              "        vertical-align: middle;\n",
              "    }\n",
              "\n",
              "    .dataframe tbody tr th {\n",
              "        vertical-align: top;\n",
              "    }\n",
              "\n",
              "    .dataframe thead th {\n",
              "        text-align: right;\n",
              "    }\n",
              "</style>\n",
              "<table border=\"1\" class=\"dataframe\">\n",
              "  <thead>\n",
              "    <tr style=\"text-align: right;\">\n",
              "      <th></th>\n",
              "      <th>id</th>\n",
              "      <th>Gender</th>\n",
              "      <th>Age</th>\n",
              "      <th>Driving_License</th>\n",
              "      <th>Region_Code</th>\n",
              "      <th>Previously_Insured</th>\n",
              "      <th>Vehicle_Age</th>\n",
              "      <th>Vehicle_Damage</th>\n",
              "      <th>Annual_Premium</th>\n",
              "      <th>Policy_Sales_Channel</th>\n",
              "      <th>Vintage</th>\n",
              "      <th>Response</th>\n",
              "    </tr>\n",
              "  </thead>\n",
              "  <tbody>\n",
              "    <tr>\n",
              "      <th>0</th>\n",
              "      <td>1</td>\n",
              "      <td>Male</td>\n",
              "      <td>44</td>\n",
              "      <td>1</td>\n",
              "      <td>28.0</td>\n",
              "      <td>0</td>\n",
              "      <td>&gt; 2 Years</td>\n",
              "      <td>Yes</td>\n",
              "      <td>40454.0</td>\n",
              "      <td>26.0</td>\n",
              "      <td>217</td>\n",
              "      <td>1</td>\n",
              "    </tr>\n",
              "    <tr>\n",
              "      <th>1</th>\n",
              "      <td>2</td>\n",
              "      <td>Male</td>\n",
              "      <td>76</td>\n",
              "      <td>1</td>\n",
              "      <td>3.0</td>\n",
              "      <td>0</td>\n",
              "      <td>1-2 Year</td>\n",
              "      <td>No</td>\n",
              "      <td>33536.0</td>\n",
              "      <td>26.0</td>\n",
              "      <td>183</td>\n",
              "      <td>0</td>\n",
              "    </tr>\n",
              "    <tr>\n",
              "      <th>2</th>\n",
              "      <td>3</td>\n",
              "      <td>Male</td>\n",
              "      <td>47</td>\n",
              "      <td>1</td>\n",
              "      <td>28.0</td>\n",
              "      <td>0</td>\n",
              "      <td>&gt; 2 Years</td>\n",
              "      <td>Yes</td>\n",
              "      <td>38294.0</td>\n",
              "      <td>26.0</td>\n",
              "      <td>27</td>\n",
              "      <td>1</td>\n",
              "    </tr>\n",
              "    <tr>\n",
              "      <th>3</th>\n",
              "      <td>4</td>\n",
              "      <td>Male</td>\n",
              "      <td>21</td>\n",
              "      <td>1</td>\n",
              "      <td>11.0</td>\n",
              "      <td>1</td>\n",
              "      <td>&lt; 1 Year</td>\n",
              "      <td>No</td>\n",
              "      <td>28619.0</td>\n",
              "      <td>152.0</td>\n",
              "      <td>203</td>\n",
              "      <td>0</td>\n",
              "    </tr>\n",
              "    <tr>\n",
              "      <th>4</th>\n",
              "      <td>5</td>\n",
              "      <td>Female</td>\n",
              "      <td>29</td>\n",
              "      <td>1</td>\n",
              "      <td>41.0</td>\n",
              "      <td>1</td>\n",
              "      <td>&lt; 1 Year</td>\n",
              "      <td>No</td>\n",
              "      <td>27496.0</td>\n",
              "      <td>152.0</td>\n",
              "      <td>39</td>\n",
              "      <td>0</td>\n",
              "    </tr>\n",
              "  </tbody>\n",
              "</table>\n",
              "</div>\n",
              "      <button class=\"colab-df-convert\" onclick=\"convertToInteractive('df-e036a1b8-71db-421d-b067-7b26cbe1fc7f')\"\n",
              "              title=\"Convert this dataframe to an interactive table.\"\n",
              "              style=\"display:none;\">\n",
              "        \n",
              "  <svg xmlns=\"http://www.w3.org/2000/svg\" height=\"24px\"viewBox=\"0 0 24 24\"\n",
              "       width=\"24px\">\n",
              "    <path d=\"M0 0h24v24H0V0z\" fill=\"none\"/>\n",
              "    <path d=\"M18.56 5.44l.94 2.06.94-2.06 2.06-.94-2.06-.94-.94-2.06-.94 2.06-2.06.94zm-11 1L8.5 8.5l.94-2.06 2.06-.94-2.06-.94L8.5 2.5l-.94 2.06-2.06.94zm10 10l.94 2.06.94-2.06 2.06-.94-2.06-.94-.94-2.06-.94 2.06-2.06.94z\"/><path d=\"M17.41 7.96l-1.37-1.37c-.4-.4-.92-.59-1.43-.59-.52 0-1.04.2-1.43.59L10.3 9.45l-7.72 7.72c-.78.78-.78 2.05 0 2.83L4 21.41c.39.39.9.59 1.41.59.51 0 1.02-.2 1.41-.59l7.78-7.78 2.81-2.81c.8-.78.8-2.07 0-2.86zM5.41 20L4 18.59l7.72-7.72 1.47 1.35L5.41 20z\"/>\n",
              "  </svg>\n",
              "      </button>\n",
              "      \n",
              "  <style>\n",
              "    .colab-df-container {\n",
              "      display:flex;\n",
              "      flex-wrap:wrap;\n",
              "      gap: 12px;\n",
              "    }\n",
              "\n",
              "    .colab-df-convert {\n",
              "      background-color: #E8F0FE;\n",
              "      border: none;\n",
              "      border-radius: 50%;\n",
              "      cursor: pointer;\n",
              "      display: none;\n",
              "      fill: #1967D2;\n",
              "      height: 32px;\n",
              "      padding: 0 0 0 0;\n",
              "      width: 32px;\n",
              "    }\n",
              "\n",
              "    .colab-df-convert:hover {\n",
              "      background-color: #E2EBFA;\n",
              "      box-shadow: 0px 1px 2px rgba(60, 64, 67, 0.3), 0px 1px 3px 1px rgba(60, 64, 67, 0.15);\n",
              "      fill: #174EA6;\n",
              "    }\n",
              "\n",
              "    [theme=dark] .colab-df-convert {\n",
              "      background-color: #3B4455;\n",
              "      fill: #D2E3FC;\n",
              "    }\n",
              "\n",
              "    [theme=dark] .colab-df-convert:hover {\n",
              "      background-color: #434B5C;\n",
              "      box-shadow: 0px 1px 3px 1px rgba(0, 0, 0, 0.15);\n",
              "      filter: drop-shadow(0px 1px 2px rgba(0, 0, 0, 0.3));\n",
              "      fill: #FFFFFF;\n",
              "    }\n",
              "  </style>\n",
              "\n",
              "      <script>\n",
              "        const buttonEl =\n",
              "          document.querySelector('#df-e036a1b8-71db-421d-b067-7b26cbe1fc7f button.colab-df-convert');\n",
              "        buttonEl.style.display =\n",
              "          google.colab.kernel.accessAllowed ? 'block' : 'none';\n",
              "\n",
              "        async function convertToInteractive(key) {\n",
              "          const element = document.querySelector('#df-e036a1b8-71db-421d-b067-7b26cbe1fc7f');\n",
              "          const dataTable =\n",
              "            await google.colab.kernel.invokeFunction('convertToInteractive',\n",
              "                                                     [key], {});\n",
              "          if (!dataTable) return;\n",
              "\n",
              "          const docLinkHtml = 'Like what you see? Visit the ' +\n",
              "            '<a target=\"_blank\" href=https://colab.research.google.com/notebooks/data_table.ipynb>data table notebook</a>'\n",
              "            + ' to learn more about interactive tables.';\n",
              "          element.innerHTML = '';\n",
              "          dataTable['output_type'] = 'display_data';\n",
              "          await google.colab.output.renderOutput(dataTable, element);\n",
              "          const docLink = document.createElement('div');\n",
              "          docLink.innerHTML = docLinkHtml;\n",
              "          element.appendChild(docLink);\n",
              "        }\n",
              "      </script>\n",
              "    </div>\n",
              "  </div>\n",
              "  "
            ],
            "text/plain": [
              "   id  Gender  Age  Driving_License  Region_Code  Previously_Insured  \\\n",
              "0   1    Male   44                1         28.0                   0   \n",
              "1   2    Male   76                1          3.0                   0   \n",
              "2   3    Male   47                1         28.0                   0   \n",
              "3   4    Male   21                1         11.0                   1   \n",
              "4   5  Female   29                1         41.0                   1   \n",
              "\n",
              "  Vehicle_Age Vehicle_Damage  Annual_Premium  Policy_Sales_Channel  Vintage  \\\n",
              "0   > 2 Years            Yes         40454.0                  26.0      217   \n",
              "1    1-2 Year             No         33536.0                  26.0      183   \n",
              "2   > 2 Years            Yes         38294.0                  26.0       27   \n",
              "3    < 1 Year             No         28619.0                 152.0      203   \n",
              "4    < 1 Year             No         27496.0                 152.0       39   \n",
              "\n",
              "   Response  \n",
              "0         1  \n",
              "1         0  \n",
              "2         1  \n",
              "3         0  \n",
              "4         0  "
            ]
          },
          "execution_count": 4,
          "metadata": {},
          "output_type": "execute_result"
        }
      ],
      "source": [
        "# first 5 rows in the data\n",
        "\n",
        "df.head()"
      ]
    },
    {
      "cell_type": "code",
      "execution_count": null,
      "metadata": {
        "colab": {
          "base_uri": "https://localhost:8080/"
        },
        "id": "JJ4CEzGZPmLD",
        "outputId": "6b93a976-8aac-4eb3-f467-15ee2e26c10c"
      },
      "outputs": [
        {
          "data": {
            "text/plain": [
              "(381109, 12)"
            ]
          },
          "execution_count": 5,
          "metadata": {},
          "output_type": "execute_result"
        }
      ],
      "source": [
        "# number of rows and columns in the data\n",
        "\n",
        "df.shape"
      ]
    },
    {
      "cell_type": "code",
      "execution_count": null,
      "metadata": {
        "colab": {
          "base_uri": "https://localhost:8080/"
        },
        "id": "q-kfOKAbRR7z",
        "outputId": "84c378b9-36a8-4d1a-d422-23b3699583cc"
      },
      "outputs": [
        {
          "data": {
            "text/plain": [
              "Index(['id', 'Gender', 'Age', 'Driving_License', 'Region_Code',\n",
              "       'Previously_Insured', 'Vehicle_Age', 'Vehicle_Damage', 'Annual_Premium',\n",
              "       'Policy_Sales_Channel', 'Vintage', 'Response'],\n",
              "      dtype='object')"
            ]
          },
          "execution_count": 6,
          "metadata": {},
          "output_type": "execute_result"
        }
      ],
      "source": [
        "# features in the data\n",
        "\n",
        "df.columns"
      ]
    },
    {
      "cell_type": "code",
      "execution_count": null,
      "metadata": {
        "colab": {
          "base_uri": "https://localhost:8080/",
          "height": 458
        },
        "id": "lBN7_Ic5PmGG",
        "outputId": "a82ef978-82d0-424a-bc37-17171aedaac2"
      },
      "outputs": [
        {
          "data": {
            "text/html": [
              "\n",
              "  <div id=\"df-e010d934-b90d-405b-b49b-6532764cc73c\">\n",
              "    <div class=\"colab-df-container\">\n",
              "      <div>\n",
              "<style scoped>\n",
              "    .dataframe tbody tr th:only-of-type {\n",
              "        vertical-align: middle;\n",
              "    }\n",
              "\n",
              "    .dataframe tbody tr th {\n",
              "        vertical-align: top;\n",
              "    }\n",
              "\n",
              "    .dataframe thead th {\n",
              "        text-align: right;\n",
              "    }\n",
              "</style>\n",
              "<table border=\"1\" class=\"dataframe\">\n",
              "  <thead>\n",
              "    <tr style=\"text-align: right;\">\n",
              "      <th></th>\n",
              "      <th>id</th>\n",
              "      <th>Gender</th>\n",
              "      <th>Age</th>\n",
              "      <th>Driving_License</th>\n",
              "      <th>Region_Code</th>\n",
              "      <th>Previously_Insured</th>\n",
              "      <th>Vehicle_Age</th>\n",
              "      <th>Vehicle_Damage</th>\n",
              "      <th>Annual_Premium</th>\n",
              "      <th>Policy_Sales_Channel</th>\n",
              "      <th>Vintage</th>\n",
              "      <th>Response</th>\n",
              "    </tr>\n",
              "  </thead>\n",
              "  <tbody>\n",
              "    <tr>\n",
              "      <th>count</th>\n",
              "      <td>381109.000000</td>\n",
              "      <td>381109</td>\n",
              "      <td>381109.000000</td>\n",
              "      <td>381109.000000</td>\n",
              "      <td>381109.000000</td>\n",
              "      <td>381109.000000</td>\n",
              "      <td>381109</td>\n",
              "      <td>381109</td>\n",
              "      <td>381109.000000</td>\n",
              "      <td>381109.000000</td>\n",
              "      <td>381109.000000</td>\n",
              "      <td>381109.000000</td>\n",
              "    </tr>\n",
              "    <tr>\n",
              "      <th>unique</th>\n",
              "      <td>NaN</td>\n",
              "      <td>2</td>\n",
              "      <td>NaN</td>\n",
              "      <td>NaN</td>\n",
              "      <td>NaN</td>\n",
              "      <td>NaN</td>\n",
              "      <td>3</td>\n",
              "      <td>2</td>\n",
              "      <td>NaN</td>\n",
              "      <td>NaN</td>\n",
              "      <td>NaN</td>\n",
              "      <td>NaN</td>\n",
              "    </tr>\n",
              "    <tr>\n",
              "      <th>top</th>\n",
              "      <td>NaN</td>\n",
              "      <td>Male</td>\n",
              "      <td>NaN</td>\n",
              "      <td>NaN</td>\n",
              "      <td>NaN</td>\n",
              "      <td>NaN</td>\n",
              "      <td>1-2 Year</td>\n",
              "      <td>Yes</td>\n",
              "      <td>NaN</td>\n",
              "      <td>NaN</td>\n",
              "      <td>NaN</td>\n",
              "      <td>NaN</td>\n",
              "    </tr>\n",
              "    <tr>\n",
              "      <th>freq</th>\n",
              "      <td>NaN</td>\n",
              "      <td>206089</td>\n",
              "      <td>NaN</td>\n",
              "      <td>NaN</td>\n",
              "      <td>NaN</td>\n",
              "      <td>NaN</td>\n",
              "      <td>200316</td>\n",
              "      <td>192413</td>\n",
              "      <td>NaN</td>\n",
              "      <td>NaN</td>\n",
              "      <td>NaN</td>\n",
              "      <td>NaN</td>\n",
              "    </tr>\n",
              "    <tr>\n",
              "      <th>mean</th>\n",
              "      <td>190555.000000</td>\n",
              "      <td>NaN</td>\n",
              "      <td>38.822584</td>\n",
              "      <td>0.997869</td>\n",
              "      <td>26.388807</td>\n",
              "      <td>0.458210</td>\n",
              "      <td>NaN</td>\n",
              "      <td>NaN</td>\n",
              "      <td>30564.389581</td>\n",
              "      <td>112.034295</td>\n",
              "      <td>154.347397</td>\n",
              "      <td>0.122563</td>\n",
              "    </tr>\n",
              "    <tr>\n",
              "      <th>std</th>\n",
              "      <td>110016.836208</td>\n",
              "      <td>NaN</td>\n",
              "      <td>15.511611</td>\n",
              "      <td>0.046110</td>\n",
              "      <td>13.229888</td>\n",
              "      <td>0.498251</td>\n",
              "      <td>NaN</td>\n",
              "      <td>NaN</td>\n",
              "      <td>17213.155057</td>\n",
              "      <td>54.203995</td>\n",
              "      <td>83.671304</td>\n",
              "      <td>0.327936</td>\n",
              "    </tr>\n",
              "    <tr>\n",
              "      <th>min</th>\n",
              "      <td>1.000000</td>\n",
              "      <td>NaN</td>\n",
              "      <td>20.000000</td>\n",
              "      <td>0.000000</td>\n",
              "      <td>0.000000</td>\n",
              "      <td>0.000000</td>\n",
              "      <td>NaN</td>\n",
              "      <td>NaN</td>\n",
              "      <td>2630.000000</td>\n",
              "      <td>1.000000</td>\n",
              "      <td>10.000000</td>\n",
              "      <td>0.000000</td>\n",
              "    </tr>\n",
              "    <tr>\n",
              "      <th>25%</th>\n",
              "      <td>95278.000000</td>\n",
              "      <td>NaN</td>\n",
              "      <td>25.000000</td>\n",
              "      <td>1.000000</td>\n",
              "      <td>15.000000</td>\n",
              "      <td>0.000000</td>\n",
              "      <td>NaN</td>\n",
              "      <td>NaN</td>\n",
              "      <td>24405.000000</td>\n",
              "      <td>29.000000</td>\n",
              "      <td>82.000000</td>\n",
              "      <td>0.000000</td>\n",
              "    </tr>\n",
              "    <tr>\n",
              "      <th>50%</th>\n",
              "      <td>190555.000000</td>\n",
              "      <td>NaN</td>\n",
              "      <td>36.000000</td>\n",
              "      <td>1.000000</td>\n",
              "      <td>28.000000</td>\n",
              "      <td>0.000000</td>\n",
              "      <td>NaN</td>\n",
              "      <td>NaN</td>\n",
              "      <td>31669.000000</td>\n",
              "      <td>133.000000</td>\n",
              "      <td>154.000000</td>\n",
              "      <td>0.000000</td>\n",
              "    </tr>\n",
              "    <tr>\n",
              "      <th>75%</th>\n",
              "      <td>285832.000000</td>\n",
              "      <td>NaN</td>\n",
              "      <td>49.000000</td>\n",
              "      <td>1.000000</td>\n",
              "      <td>35.000000</td>\n",
              "      <td>1.000000</td>\n",
              "      <td>NaN</td>\n",
              "      <td>NaN</td>\n",
              "      <td>39400.000000</td>\n",
              "      <td>152.000000</td>\n",
              "      <td>227.000000</td>\n",
              "      <td>0.000000</td>\n",
              "    </tr>\n",
              "    <tr>\n",
              "      <th>max</th>\n",
              "      <td>381109.000000</td>\n",
              "      <td>NaN</td>\n",
              "      <td>85.000000</td>\n",
              "      <td>1.000000</td>\n",
              "      <td>52.000000</td>\n",
              "      <td>1.000000</td>\n",
              "      <td>NaN</td>\n",
              "      <td>NaN</td>\n",
              "      <td>540165.000000</td>\n",
              "      <td>163.000000</td>\n",
              "      <td>299.000000</td>\n",
              "      <td>1.000000</td>\n",
              "    </tr>\n",
              "  </tbody>\n",
              "</table>\n",
              "</div>\n",
              "      <button class=\"colab-df-convert\" onclick=\"convertToInteractive('df-e010d934-b90d-405b-b49b-6532764cc73c')\"\n",
              "              title=\"Convert this dataframe to an interactive table.\"\n",
              "              style=\"display:none;\">\n",
              "        \n",
              "  <svg xmlns=\"http://www.w3.org/2000/svg\" height=\"24px\"viewBox=\"0 0 24 24\"\n",
              "       width=\"24px\">\n",
              "    <path d=\"M0 0h24v24H0V0z\" fill=\"none\"/>\n",
              "    <path d=\"M18.56 5.44l.94 2.06.94-2.06 2.06-.94-2.06-.94-.94-2.06-.94 2.06-2.06.94zm-11 1L8.5 8.5l.94-2.06 2.06-.94-2.06-.94L8.5 2.5l-.94 2.06-2.06.94zm10 10l.94 2.06.94-2.06 2.06-.94-2.06-.94-.94-2.06-.94 2.06-2.06.94z\"/><path d=\"M17.41 7.96l-1.37-1.37c-.4-.4-.92-.59-1.43-.59-.52 0-1.04.2-1.43.59L10.3 9.45l-7.72 7.72c-.78.78-.78 2.05 0 2.83L4 21.41c.39.39.9.59 1.41.59.51 0 1.02-.2 1.41-.59l7.78-7.78 2.81-2.81c.8-.78.8-2.07 0-2.86zM5.41 20L4 18.59l7.72-7.72 1.47 1.35L5.41 20z\"/>\n",
              "  </svg>\n",
              "      </button>\n",
              "      \n",
              "  <style>\n",
              "    .colab-df-container {\n",
              "      display:flex;\n",
              "      flex-wrap:wrap;\n",
              "      gap: 12px;\n",
              "    }\n",
              "\n",
              "    .colab-df-convert {\n",
              "      background-color: #E8F0FE;\n",
              "      border: none;\n",
              "      border-radius: 50%;\n",
              "      cursor: pointer;\n",
              "      display: none;\n",
              "      fill: #1967D2;\n",
              "      height: 32px;\n",
              "      padding: 0 0 0 0;\n",
              "      width: 32px;\n",
              "    }\n",
              "\n",
              "    .colab-df-convert:hover {\n",
              "      background-color: #E2EBFA;\n",
              "      box-shadow: 0px 1px 2px rgba(60, 64, 67, 0.3), 0px 1px 3px 1px rgba(60, 64, 67, 0.15);\n",
              "      fill: #174EA6;\n",
              "    }\n",
              "\n",
              "    [theme=dark] .colab-df-convert {\n",
              "      background-color: #3B4455;\n",
              "      fill: #D2E3FC;\n",
              "    }\n",
              "\n",
              "    [theme=dark] .colab-df-convert:hover {\n",
              "      background-color: #434B5C;\n",
              "      box-shadow: 0px 1px 3px 1px rgba(0, 0, 0, 0.15);\n",
              "      filter: drop-shadow(0px 1px 2px rgba(0, 0, 0, 0.3));\n",
              "      fill: #FFFFFF;\n",
              "    }\n",
              "  </style>\n",
              "\n",
              "      <script>\n",
              "        const buttonEl =\n",
              "          document.querySelector('#df-e010d934-b90d-405b-b49b-6532764cc73c button.colab-df-convert');\n",
              "        buttonEl.style.display =\n",
              "          google.colab.kernel.accessAllowed ? 'block' : 'none';\n",
              "\n",
              "        async function convertToInteractive(key) {\n",
              "          const element = document.querySelector('#df-e010d934-b90d-405b-b49b-6532764cc73c');\n",
              "          const dataTable =\n",
              "            await google.colab.kernel.invokeFunction('convertToInteractive',\n",
              "                                                     [key], {});\n",
              "          if (!dataTable) return;\n",
              "\n",
              "          const docLinkHtml = 'Like what you see? Visit the ' +\n",
              "            '<a target=\"_blank\" href=https://colab.research.google.com/notebooks/data_table.ipynb>data table notebook</a>'\n",
              "            + ' to learn more about interactive tables.';\n",
              "          element.innerHTML = '';\n",
              "          dataTable['output_type'] = 'display_data';\n",
              "          await google.colab.output.renderOutput(dataTable, element);\n",
              "          const docLink = document.createElement('div');\n",
              "          docLink.innerHTML = docLinkHtml;\n",
              "          element.appendChild(docLink);\n",
              "        }\n",
              "      </script>\n",
              "    </div>\n",
              "  </div>\n",
              "  "
            ],
            "text/plain": [
              "                   id  Gender            Age  Driving_License    Region_Code  \\\n",
              "count   381109.000000  381109  381109.000000    381109.000000  381109.000000   \n",
              "unique            NaN       2            NaN              NaN            NaN   \n",
              "top               NaN    Male            NaN              NaN            NaN   \n",
              "freq              NaN  206089            NaN              NaN            NaN   \n",
              "mean    190555.000000     NaN      38.822584         0.997869      26.388807   \n",
              "std     110016.836208     NaN      15.511611         0.046110      13.229888   \n",
              "min          1.000000     NaN      20.000000         0.000000       0.000000   \n",
              "25%      95278.000000     NaN      25.000000         1.000000      15.000000   \n",
              "50%     190555.000000     NaN      36.000000         1.000000      28.000000   \n",
              "75%     285832.000000     NaN      49.000000         1.000000      35.000000   \n",
              "max     381109.000000     NaN      85.000000         1.000000      52.000000   \n",
              "\n",
              "        Previously_Insured Vehicle_Age Vehicle_Damage  Annual_Premium  \\\n",
              "count        381109.000000      381109         381109   381109.000000   \n",
              "unique                 NaN           3              2             NaN   \n",
              "top                    NaN    1-2 Year            Yes             NaN   \n",
              "freq                   NaN      200316         192413             NaN   \n",
              "mean              0.458210         NaN            NaN    30564.389581   \n",
              "std               0.498251         NaN            NaN    17213.155057   \n",
              "min               0.000000         NaN            NaN     2630.000000   \n",
              "25%               0.000000         NaN            NaN    24405.000000   \n",
              "50%               0.000000         NaN            NaN    31669.000000   \n",
              "75%               1.000000         NaN            NaN    39400.000000   \n",
              "max               1.000000         NaN            NaN   540165.000000   \n",
              "\n",
              "        Policy_Sales_Channel        Vintage       Response  \n",
              "count          381109.000000  381109.000000  381109.000000  \n",
              "unique                   NaN            NaN            NaN  \n",
              "top                      NaN            NaN            NaN  \n",
              "freq                     NaN            NaN            NaN  \n",
              "mean              112.034295     154.347397       0.122563  \n",
              "std                54.203995      83.671304       0.327936  \n",
              "min                 1.000000      10.000000       0.000000  \n",
              "25%                29.000000      82.000000       0.000000  \n",
              "50%               133.000000     154.000000       0.000000  \n",
              "75%               152.000000     227.000000       0.000000  \n",
              "max               163.000000     299.000000       1.000000  "
            ]
          },
          "execution_count": 7,
          "metadata": {},
          "output_type": "execute_result"
        }
      ],
      "source": [
        "# statistical description the data\n",
        "\n",
        "df.describe(include='all')"
      ]
    },
    {
      "cell_type": "code",
      "execution_count": null,
      "metadata": {
        "colab": {
          "base_uri": "https://localhost:8080/"
        },
        "id": "26MLzK9nPmIv",
        "outputId": "d88ed3cf-27d4-4fd1-edcc-116c6b401b6a"
      },
      "outputs": [
        {
          "name": "stdout",
          "output_type": "stream",
          "text": [
            "<class 'pandas.core.frame.DataFrame'>\n",
            "RangeIndex: 381109 entries, 0 to 381108\n",
            "Data columns (total 12 columns):\n",
            " #   Column                Non-Null Count   Dtype  \n",
            "---  ------                --------------   -----  \n",
            " 0   id                    381109 non-null  int64  \n",
            " 1   Gender                381109 non-null  object \n",
            " 2   Age                   381109 non-null  int64  \n",
            " 3   Driving_License       381109 non-null  int64  \n",
            " 4   Region_Code           381109 non-null  float64\n",
            " 5   Previously_Insured    381109 non-null  int64  \n",
            " 6   Vehicle_Age           381109 non-null  object \n",
            " 7   Vehicle_Damage        381109 non-null  object \n",
            " 8   Annual_Premium        381109 non-null  float64\n",
            " 9   Policy_Sales_Channel  381109 non-null  float64\n",
            " 10  Vintage               381109 non-null  int64  \n",
            " 11  Response              381109 non-null  int64  \n",
            "dtypes: float64(3), int64(6), object(3)\n",
            "memory usage: 34.9+ MB\n"
          ]
        }
      ],
      "source": [
        "# basic information of the data\n",
        "\n",
        "df.info()"
      ]
    },
    {
      "cell_type": "markdown",
      "metadata": {
        "id": "PVih3zCBR3jJ"
      },
      "source": [
        "###Check for Missing Values"
      ]
    },
    {
      "cell_type": "code",
      "execution_count": null,
      "metadata": {
        "colab": {
          "base_uri": "https://localhost:8080/"
        },
        "id": "Scun53BpPmEz",
        "outputId": "bad16250-49c6-44ac-d89b-dfa151c0763f"
      },
      "outputs": [
        {
          "data": {
            "text/plain": [
              "id                      0\n",
              "Gender                  0\n",
              "Age                     0\n",
              "Driving_License         0\n",
              "Region_Code             0\n",
              "Previously_Insured      0\n",
              "Vehicle_Age             0\n",
              "Vehicle_Damage          0\n",
              "Annual_Premium          0\n",
              "Policy_Sales_Channel    0\n",
              "Vintage                 0\n",
              "Response                0\n",
              "dtype: int64"
            ]
          },
          "execution_count": 9,
          "metadata": {},
          "output_type": "execute_result"
        }
      ],
      "source": [
        "# check for missing values\n",
        "\n",
        "df.isnull().sum()"
      ]
    },
    {
      "cell_type": "markdown",
      "metadata": {
        "id": "WChQVDaHSIav"
      },
      "source": [
        "###Observations:\n",
        "\n",
        "1. There are no Missing Values."
      ]
    },
    {
      "cell_type": "markdown",
      "metadata": {
        "id": "kfMoQxQESgJC"
      },
      "source": [
        "###Exploratory Data Analysis"
      ]
    },
    {
      "cell_type": "markdown",
      "metadata": {
        "id": "qtxKu4GLUYJB"
      },
      "source": [
        "###Target Feature = Response"
      ]
    },
    {
      "cell_type": "code",
      "execution_count": null,
      "metadata": {
        "colab": {
          "base_uri": "https://localhost:8080/"
        },
        "id": "jyEC61vEUFTE",
        "outputId": "f5736a95-156a-4e82-b31e-37316bc3e7d8"
      },
      "outputs": [
        {
          "data": {
            "text/plain": [
              "0    334399\n",
              "1     46710\n",
              "Name: Response, dtype: int64"
            ]
          },
          "execution_count": 10,
          "metadata": {},
          "output_type": "execute_result"
        }
      ],
      "source": [
        "# frequency of each Response\n",
        "\n",
        "df.Response.value_counts()"
      ]
    },
    {
      "cell_type": "code",
      "execution_count": null,
      "metadata": {
        "colab": {
          "base_uri": "https://localhost:8080/",
          "height": 551
        },
        "id": "GUZj0AemUwsT",
        "outputId": "54553c19-d8cc-491a-a031-0776c271b02d"
      },
      "outputs": [
        {
          "name": "stdout",
          "output_type": "stream",
          "text": [
            "Percentage of target class\n",
            "\n",
            "0    87.743664\n",
            "1    12.256336\n",
            "Name: Response, dtype: float64\n"
          ]
        },
        {
          "data": {
            "image/png": "[encoded data removed]",
            "text/plain": [
              "<Figure size 720x504 with 2 Axes>"
            ]
          },
          "metadata": {},
          "output_type": "display_data"
        }
      ],
      "source": [
        "# plottinf the frequeny of each Response\n",
        "\n",
        "plt.subplot(1, 2, 1)\n",
        "sns.countplot(df['Response'], palette=['blue','red'], saturation=0.5)\n",
        "plt.title(\"Count of Response (target variable)\")\n",
        "\n",
        "# pie chart for percentage of Response\n",
        "\n",
        "plt.subplot(1,2,2)\n",
        "count = df['Response'].value_counts()\n",
        "count.plot.pie(autopct = '%1.1f%%', colors=['b','r'], figsize = (10,7),explode = [0,0.1],title = \"Pie chart of Percentage of Response\")\n",
        "\n",
        "print( \"Percentage of target class\\n\")\n",
        "print(df['Response'].value_counts()/len(df)*100)"
      ]
    },
    {
      "cell_type": "markdown",
      "metadata": {
        "id": "c00McuYlb9pA"
      },
      "source": [
        "###Observations:\n",
        "\n",
        "1. By the plot, we can say that this is the problem of imbalance binary classification problem.\n",
        "\n",
        "2. The individuals who are interested is 12.3 %."
      ]
    },
    {
      "cell_type": "markdown",
      "metadata": {
        "id": "X_5VrqVZUuoi"
      },
      "source": [
        "###Age Distribution of Customers"
      ]
    },
    {
      "cell_type": "code",
      "execution_count": null,
      "metadata": {
        "colab": {
          "base_uri": "https://localhost:8080/",
          "height": 302
        },
        "id": "cChPKAjwUFQZ",
        "outputId": "5182c10b-fe5b-4add-927c-86b5152d1ccd"
      },
      "outputs": [
        {
          "data": {
            "text/plain": [
              "<matplotlib.axes._subplots.AxesSubplot at 0x7f385a00af90>"
            ]
          },
          "execution_count": 12,
          "metadata": {},
          "output_type": "execute_result"
        },
        {
          "data": {
            "image/png": "[encoded data removed]",
            "text/plain": [
              "<Figure size 432x288 with 1 Axes>"
            ]
          },
          "metadata": {},
          "output_type": "display_data"
        }
      ],
      "source": [
        "# Age distribution of Customers\n",
        "\n",
        "sns.distplot(df.Age, color='blue')"
      ]
    },
    {
      "cell_type": "code",
      "execution_count": null,
      "metadata": {
        "colab": {
          "base_uri": "https://localhost:8080/",
          "height": 265
        },
        "id": "uJF66sOfUFOe",
        "outputId": "7193de95-b661-4f73-d377-ec8847285b33"
      },
      "outputs": [
        {
          "data": {
            "text/plain": [
              "<matplotlib.axes._subplots.AxesSubplot at 0x7f3857270cd0>"
            ]
          },
          "execution_count": 13,
          "metadata": {},
          "output_type": "execute_result"
        },
        {
          "data": {
            "image/png": "[encoded data removed]",
            "text/plain": [
              "<Figure size 432x288 with 1 Axes>"
            ]
          },
          "metadata": {},
          "output_type": "display_data"
        }
      ],
      "source": [
        "# boxplot to detect outliers in Age feature \n",
        "\n",
        "sns.boxplot(y = 'Age', data = df, color='red', saturation=0.5)"
      ]
    },
    {
      "cell_type": "markdown",
      "metadata": {
        "id": "Tv5OXm3yfyVe"
      },
      "source": [
        "###Observations:\n",
        "\n",
        "1. Count of the indivisuals with age 24 are greater in the dataset.\n",
        "\n",
        "2. Variable Age looks like right skewed.\n",
        "\n",
        "3. From the boxplot we observe that there are not much outliers in the data."
      ]
    },
    {
      "cell_type": "markdown",
      "metadata": {
        "id": "Chu0vG0HVQsq"
      },
      "source": [
        "###Age Vs Annual premium"
      ]
    },
    {
      "cell_type": "code",
      "execution_count": null,
      "metadata": {
        "colab": {
          "base_uri": "https://localhost:8080/",
          "height": 302
        },
        "id": "8F1XyE7WVT69",
        "outputId": "09366c8f-7813-4ef6-f25c-987937db4fe1"
      },
      "outputs": [
        {
          "data": {
            "text/plain": [
              "<matplotlib.axes._subplots.AxesSubplot at 0x7f38571e0c90>"
            ]
          },
          "execution_count": 14,
          "metadata": {},
          "output_type": "execute_result"
        },
        {
          "data": {
            "image/png": "[encoded data removed]",
            "text/plain": [
              "<Figure size 432x288 with 1 Axes>"
            ]
          },
          "metadata": {},
          "output_type": "display_data"
        }
      ],
      "source": [
        "# scatterplot for Age vs Annual Premium\n",
        "\n",
        "sns.scatterplot(x=df['Age'],y=df['Annual_Premium'])"
      ]
    },
    {
      "cell_type": "markdown",
      "metadata": {
        "id": "6L6voJeqVcXK"
      },
      "source": [
        "###Gender and Response"
      ]
    },
    {
      "cell_type": "code",
      "execution_count": null,
      "metadata": {
        "colab": {
          "base_uri": "https://localhost:8080/",
          "height": 302
        },
        "id": "IniWnggSVcBm",
        "outputId": "7353c0cd-cddb-4119-e03f-6513beae1df3"
      },
      "outputs": [
        {
          "data": {
            "text/plain": [
              "<matplotlib.axes._subplots.AxesSubplot at 0x7f385717b550>"
            ]
          },
          "execution_count": 15,
          "metadata": {},
          "output_type": "execute_result"
        },
        {
          "data": {
            "image/png": "[encoded data removed]",
            "text/plain": [
              "<Figure size 432x288 with 1 Axes>"
            ]
          },
          "metadata": {},
          "output_type": "display_data"
        }
      ],
      "source": [
        "# Response with respect to Gender\n",
        "\n",
        "sns.countplot(df.Gender, palette=['blue','red'], saturation=0.5)"
      ]
    },
    {
      "cell_type": "code",
      "execution_count": null,
      "metadata": {
        "id": "WlQlWRUMVjKg"
      },
      "outputs": [],
      "source": [
        "# grouping Gender and Response\n",
        "\n",
        "df1 = df.groupby(['Gender','Response'])['id'].count().to_frame().rename(columns={'id':'count'}).reset_index()"
      ]
    },
    {
      "cell_type": "code",
      "execution_count": null,
      "metadata": {
        "colab": {
          "base_uri": "https://localhost:8080/",
          "height": 293
        },
        "id": "6z4TTLP2VjG8",
        "outputId": "ee7329ba-ba60-4757-fe44-37854ba3893b"
      },
      "outputs": [
        {
          "data": {
            "image/png": "[encoded data removed]",
            "text/plain": [
              "<Figure size 403.2x288 with 2 Axes>"
            ]
          },
          "metadata": {},
          "output_type": "display_data"
        }
      ],
      "source": [
        "# Male and Female who have Response 1 and 0\n",
        "\n",
        "g = sns.catplot(x=\"Gender\", y=\"count\",col=\"Response\",\n",
        "                data=df1, \n",
        "                kind=\"bar\",\n",
        "                height=4, \n",
        "                aspect=.7,\n",
        "                palette=['blue','red'],\n",
        "                saturation=0.5)"
      ]
    },
    {
      "cell_type": "markdown",
      "metadata": {
        "id": "AeLAswwwfe9w"
      },
      "source": [
        "###Observations:\n",
        "\n",
        "1. The gender variable in the dataset is almost equally distributed.\n",
        "\n",
        "2. Male category is slightly greater than that of female and chances of buying the insurance is also little high."
      ]
    },
    {
      "cell_type": "markdown",
      "metadata": {
        "id": "_9hScWJ3WLqK"
      },
      "source": [
        "###Driving license by Gender"
      ]
    },
    {
      "cell_type": "code",
      "execution_count": null,
      "metadata": {
        "colab": {
          "base_uri": "https://localhost:8080/"
        },
        "id": "f4SpaWsnhsyh",
        "outputId": "3b98bcd0-4377-4030-ee08-7bf7197d83bf"
      },
      "outputs": [
        {
          "name": "stdout",
          "output_type": "stream",
          "text": [
            "Percentage of  Driving_License feature\n",
            " \n",
            "1    99.786938\n",
            "0     0.213062\n",
            "Name: Driving_License, dtype: float64\n"
          ]
        }
      ],
      "source": [
        "# percentage of Customers having Driving License\n",
        "\n",
        "print(\"Percentage of  Driving_License feature\\n \")\n",
        "print(df['Driving_License'].value_counts()/len(df)*100)"
      ]
    },
    {
      "cell_type": "code",
      "execution_count": null,
      "metadata": {
        "colab": {
          "base_uri": "https://localhost:8080/"
        },
        "id": "5aLwUwuAhKnu",
        "outputId": "a294efb1-d263-425a-8d17-9519a171fa26"
      },
      "outputs": [
        {
          "data": {
            "text/plain": [
              "<matplotlib.axes._subplots.AxesSubplot at 0x7f3857261510>"
            ]
          },
          "execution_count": 19,
          "metadata": {},
          "output_type": "execute_result"
        },
        {
          "data": {
            "image/png": "[encoded data removed]",
            "text/plain": [
              "<Figure size 432x288 with 1 Axes>"
            ]
          },
          "metadata": {},
          "output_type": "display_data"
        }
      ],
      "source": [
        "# plot for Customers who have Driving License\n",
        "\n",
        "sns.countplot(df.Driving_License, palette=['blue','red'], saturation=0.5)"
      ]
    },
    {
      "cell_type": "code",
      "execution_count": null,
      "metadata": {
        "id": "x1XOkyECVjDy"
      },
      "outputs": [],
      "source": [
        "# grouping Gender and Driving License\n",
        "\n",
        "df1 = df.groupby(['Gender'])['Driving_License'].count().to_frame().reset_index()"
      ]
    },
    {
      "cell_type": "code",
      "execution_count": null,
      "metadata": {
        "colab": {
          "base_uri": "https://localhost:8080/"
        },
        "id": "cjr0gL14VjBM",
        "outputId": "db70b42a-1d92-4af3-fc9e-0825d4e960b3"
      },
      "outputs": [
        {
          "data": {
            "text/html": [
              "\n",
              "  <div id=\"df-03ff27df-9bd8-41c1-927c-2185802fda3b\">\n",
              "    <div class=\"colab-df-container\">\n",
              "      <div>\n",
              "<style scoped>\n",
              "    .dataframe tbody tr th:only-of-type {\n",
              "        vertical-align: middle;\n",
              "    }\n",
              "\n",
              "    .dataframe tbody tr th {\n",
              "        vertical-align: top;\n",
              "    }\n",
              "\n",
              "    .dataframe thead th {\n",
              "        text-align: right;\n",
              "    }\n",
              "</style>\n",
              "<table border=\"1\" class=\"dataframe\">\n",
              "  <thead>\n",
              "    <tr style=\"text-align: right;\">\n",
              "      <th></th>\n",
              "      <th>Gender</th>\n",
              "      <th>Driving_License</th>\n",
              "    </tr>\n",
              "  </thead>\n",
              "  <tbody>\n",
              "    <tr>\n",
              "      <th>0</th>\n",
              "      <td>Female</td>\n",
              "      <td>175020</td>\n",
              "    </tr>\n",
              "    <tr>\n",
              "      <th>1</th>\n",
              "      <td>Male</td>\n",
              "      <td>206089</td>\n",
              "    </tr>\n",
              "  </tbody>\n",
              "</table>\n",
              "</div>\n",
              "      <button class=\"colab-df-convert\" onclick=\"convertToInteractive('df-03ff27df-9bd8-41c1-927c-2185802fda3b')\"\n",
              "              title=\"Convert this dataframe to an interactive table.\"\n",
              "              style=\"display:none;\">\n",
              "        \n",
              "  <svg xmlns=\"http://www.w3.org/2000/svg\" height=\"24px\"viewBox=\"0 0 24 24\"\n",
              "       width=\"24px\">\n",
              "    <path d=\"M0 0h24v24H0V0z\" fill=\"none\"/>\n",
              "    <path d=\"M18.56 5.44l.94 2.06.94-2.06 2.06-.94-2.06-.94-.94-2.06-.94 2.06-2.06.94zm-11 1L8.5 8.5l.94-2.06 2.06-.94-2.06-.94L8.5 2.5l-.94 2.06-2.06.94zm10 10l.94 2.06.94-2.06 2.06-.94-2.06-.94-.94-2.06-.94 2.06-2.06.94z\"/><path d=\"M17.41 7.96l-1.37-1.37c-.4-.4-.92-.59-1.43-.59-.52 0-1.04.2-1.43.59L10.3 9.45l-7.72 7.72c-.78.78-.78 2.05 0 2.83L4 21.41c.39.39.9.59 1.41.59.51 0 1.02-.2 1.41-.59l7.78-7.78 2.81-2.81c.8-.78.8-2.07 0-2.86zM5.41 20L4 18.59l7.72-7.72 1.47 1.35L5.41 20z\"/>\n",
              "  </svg>\n",
              "      </button>\n",
              "      \n",
              "  <style>\n",
              "    .colab-df-container {\n",
              "      display:flex;\n",
              "      flex-wrap:wrap;\n",
              "      gap: 12px;\n",
              "    }\n",
              "\n",
              "    .colab-df-convert {\n",
              "      background-color: #E8F0FE;\n",
              "      border: none;\n",
              "      border-radius: 50%;\n",
              "      cursor: pointer;\n",
              "      display: none;\n",
              "      fill: #1967D2;\n",
              "      height: 32px;\n",
              "      padding: 0 0 0 0;\n",
              "      width: 32px;\n",
              "    }\n",
              "\n",
              "    .colab-df-convert:hover {\n",
              "      background-color: #E2EBFA;\n",
              "      box-shadow: 0px 1px 2px rgba(60, 64, 67, 0.3), 0px 1px 3px 1px rgba(60, 64, 67, 0.15);\n",
              "      fill: #174EA6;\n",
              "    }\n",
              "\n",
              "    [theme=dark] .colab-df-convert {\n",
              "      background-color: #3B4455;\n",
              "      fill: #D2E3FC;\n",
              "    }\n",
              "\n",
              "    [theme=dark] .colab-df-convert:hover {\n",
              "      background-color: #434B5C;\n",
              "      box-shadow: 0px 1px 3px 1px rgba(0, 0, 0, 0.15);\n",
              "      filter: drop-shadow(0px 1px 2px rgba(0, 0, 0, 0.3));\n",
              "      fill: #FFFFFF;\n",
              "    }\n",
              "  </style>\n",
              "\n",
              "      <script>\n",
              "        const buttonEl =\n",
              "          document.querySelector('#df-03ff27df-9bd8-41c1-927c-2185802fda3b button.colab-df-convert');\n",
              "        buttonEl.style.display =\n",
              "          google.colab.kernel.accessAllowed ? 'block' : 'none';\n",
              "\n",
              "        async function convertToInteractive(key) {\n",
              "          const element = document.querySelector('#df-03ff27df-9bd8-41c1-927c-2185802fda3b');\n",
              "          const dataTable =\n",
              "            await google.colab.kernel.invokeFunction('convertToInteractive',\n",
              "                                                     [key], {});\n",
              "          if (!dataTable) return;\n",
              "\n",
              "          const docLinkHtml = 'Like what you see? Visit the ' +\n",
              "            '<a target=\"_blank\" href=https://colab.research.google.com/notebooks/data_table.ipynb>data table notebook</a>'\n",
              "            + ' to learn more about interactive tables.';\n",
              "          element.innerHTML = '';\n",
              "          dataTable['output_type'] = 'display_data';\n",
              "          await google.colab.output.renderOutput(dataTable, element);\n",
              "          const docLink = document.createElement('div');\n",
              "          docLink.innerHTML = docLinkHtml;\n",
              "          element.appendChild(docLink);\n",
              "        }\n",
              "      </script>\n",
              "    </div>\n",
              "  </div>\n",
              "  "
            ],
            "text/plain": [
              "   Gender  Driving_License\n",
              "0  Female           175020\n",
              "1    Male           206089"
            ]
          },
          "execution_count": 21,
          "metadata": {},
          "output_type": "execute_result"
        }
      ],
      "source": [
        "df1"
      ]
    },
    {
      "cell_type": "code",
      "execution_count": null,
      "metadata": {
        "colab": {
          "base_uri": "https://localhost:8080/"
        },
        "id": "K-YITD3hVi-T",
        "outputId": "670896f1-77f4-4e45-9e1f-fe8de2f71f07"
      },
      "outputs": [
        {
          "data": {
            "text/plain": [
              "<seaborn.axisgrid.FacetGrid at 0x7f385a020a50>"
            ]
          },
          "execution_count": 22,
          "metadata": {},
          "output_type": "execute_result"
        },
        {
          "data": {
            "image/png": "[encoded data removed]",
            "text/plain": [
              "<Figure size 360x360 with 1 Axes>"
            ]
          },
          "metadata": {},
          "output_type": "display_data"
        }
      ],
      "source": [
        "# plot for Customers having Driving License with respect to Gender\n",
        "\n",
        "sns.catplot(x=\"Gender\", y=\"Driving_License\",\n",
        "                data=df1, \n",
        "                kind=\"bar\",\n",
        "                palette=['blue','red'],\n",
        "                saturation=0.5)"
      ]
    },
    {
      "cell_type": "markdown",
      "metadata": {
        "id": "Fry6Qamph5PM"
      },
      "source": [
        "###Observations:\n",
        "\n",
        "1. Customers who have the DL are 99%.\n",
        "\n",
        "2. Customers who are interested in Vehicle Insurance almost all have driving license."
      ]
    },
    {
      "cell_type": "markdown",
      "metadata": {
        "id": "0pWYmVjYWm5X"
      },
      "source": [
        "###Customers having Vehicle insurance already"
      ]
    },
    {
      "cell_type": "code",
      "execution_count": null,
      "metadata": {
        "colab": {
          "base_uri": "https://localhost:8080/"
        },
        "id": "Neg6bNGlVi71",
        "outputId": "4d817675-adec-453b-e8ad-6badd9ac3e58"
      },
      "outputs": [
        {
          "data": {
            "text/plain": [
              "<matplotlib.axes._subplots.AxesSubplot at 0x7f385a0bd390>"
            ]
          },
          "execution_count": 23,
          "metadata": {},
          "output_type": "execute_result"
        },
        {
          "data": {
            "image/png": "[encoded data removed]",
            "text/plain": [
              "<Figure size 432x288 with 1 Axes>"
            ]
          },
          "metadata": {},
          "output_type": "display_data"
        }
      ],
      "source": [
        "# plot for Customers who already have vehicle Insurance\n",
        "\n",
        "sns.countplot(df.Previously_Insured, palette=['blue','red'], saturation=0.5)"
      ]
    },
    {
      "cell_type": "code",
      "execution_count": null,
      "metadata": {
        "colab": {
          "base_uri": "https://localhost:8080/"
        },
        "id": "G2HhP0f7lZrh",
        "outputId": "8cc898af-7beb-47a1-e65e-fa28a33ae369"
      },
      "outputs": [
        {
          "data": {
            "text/plain": [
              "<matplotlib.axes._subplots.AxesSubplot at 0x7f3856fa9950>"
            ]
          },
          "execution_count": 24,
          "metadata": {},
          "output_type": "execute_result"
        },
        {
          "data": {
            "image/png": "[encoded data removed]",
            "text/plain": [
              "<Figure size 432x288 with 1 Axes>"
            ]
          },
          "metadata": {},
          "output_type": "display_data"
        }
      ],
      "source": [
        "# plot for Customers who already have Insurance with respect to their Response\n",
        "\n",
        "sns.countplot('Previously_Insured', hue='Response', data=df, palette=['blue','red'], saturation=0.5)"
      ]
    },
    {
      "cell_type": "markdown",
      "metadata": {
        "id": "wHqWC5c1mAPB"
      },
      "source": [
        "###Observations:\n",
        "\n",
        "1. Customers who are insured already and not insured have equal count.\n",
        "\n",
        "2. Customers who are not previously insured are likely to be interested."
      ]
    },
    {
      "cell_type": "markdown",
      "metadata": {
        "id": "jCLEEPmKWy7w"
      },
      "source": [
        "###Vehicle Age"
      ]
    },
    {
      "cell_type": "code",
      "execution_count": null,
      "metadata": {
        "colab": {
          "base_uri": "https://localhost:8080/"
        },
        "id": "i0xgrtp1Vi5X",
        "outputId": "73f9ab87-c5a2-41f8-a9ec-6deff4b6471c"
      },
      "outputs": [
        {
          "data": {
            "text/plain": [
              "<matplotlib.axes._subplots.AxesSubplot at 0x7f3856f94250>"
            ]
          },
          "execution_count": 25,
          "metadata": {},
          "output_type": "execute_result"
        },
        {
          "data": {
            "image/png": "[encoded data removed]",
            "text/plain": [
              "<Figure size 432x288 with 1 Axes>"
            ]
          },
          "metadata": {},
          "output_type": "display_data"
        }
      ],
      "source": [
        "# plot for count of Vehicle with given Age\n",
        "\n",
        "sns.countplot(df.Vehicle_Age, palette=['green','blue','red'], saturation=0.5)"
      ]
    },
    {
      "cell_type": "code",
      "execution_count": null,
      "metadata": {
        "colab": {
          "base_uri": "https://localhost:8080/"
        },
        "id": "3T1HmcaknCVh",
        "outputId": "10d5b40e-a379-4798-ded3-5be6cabd189f"
      },
      "outputs": [
        {
          "data": {
            "text/plain": [
              "<matplotlib.axes._subplots.AxesSubplot at 0x7f3856f00850>"
            ]
          },
          "execution_count": 26,
          "metadata": {},
          "output_type": "execute_result"
        },
        {
          "data": {
            "image/png": "[encoded data removed]",
            "text/plain": [
              "<Figure size 432x288 with 1 Axes>"
            ]
          },
          "metadata": {},
          "output_type": "display_data"
        }
      ],
      "source": [
        "# plot of Age of Vehicle with respect Response \n",
        "\n",
        "sns.countplot('Vehicle_Age', hue = 'Response',data=df, palette=['blue','red'], saturation=0.5)"
      ]
    },
    {
      "cell_type": "markdown",
      "metadata": {
        "id": "5TRw2sxJmxOr"
      },
      "source": [
        "###Observations:\n",
        "\n",
        "1. There is very less number of customers with vechicle age less than 2 years.\n",
        "\n",
        "2. Customers with vechicle age 1-2 years are more likely to interested as compared to the other two"
      ]
    },
    {
      "cell_type": "markdown",
      "metadata": {
        "id": "gjkr8IrxW6NK"
      },
      "source": [
        "###Response and Vehicle age"
      ]
    },
    {
      "cell_type": "code",
      "execution_count": null,
      "metadata": {
        "colab": {
          "base_uri": "https://localhost:8080/"
        },
        "id": "Y7CYd069Vi3W",
        "outputId": "8aba784f-f542-4473-ec12-b38821809252"
      },
      "outputs": [
        {
          "data": {
            "text/html": [
              "\n",
              "  <div id=\"df-bee19214-beb5-4fad-a25f-41fa6ad04322\">\n",
              "    <div class=\"colab-df-container\">\n",
              "      <div>\n",
              "<style scoped>\n",
              "    .dataframe tbody tr th:only-of-type {\n",
              "        vertical-align: middle;\n",
              "    }\n",
              "\n",
              "    .dataframe tbody tr th {\n",
              "        vertical-align: top;\n",
              "    }\n",
              "\n",
              "    .dataframe thead th {\n",
              "        text-align: right;\n",
              "    }\n",
              "</style>\n",
              "<table border=\"1\" class=\"dataframe\">\n",
              "  <thead>\n",
              "    <tr style=\"text-align: right;\">\n",
              "      <th></th>\n",
              "      <th>Vehicle_Age</th>\n",
              "      <th>Response</th>\n",
              "      <th>count</th>\n",
              "    </tr>\n",
              "  </thead>\n",
              "  <tbody>\n",
              "    <tr>\n",
              "      <th>0</th>\n",
              "      <td>1-2 Year</td>\n",
              "      <td>0</td>\n",
              "      <td>165510</td>\n",
              "    </tr>\n",
              "    <tr>\n",
              "      <th>1</th>\n",
              "      <td>1-2 Year</td>\n",
              "      <td>1</td>\n",
              "      <td>34806</td>\n",
              "    </tr>\n",
              "    <tr>\n",
              "      <th>2</th>\n",
              "      <td>&lt; 1 Year</td>\n",
              "      <td>0</td>\n",
              "      <td>157584</td>\n",
              "    </tr>\n",
              "    <tr>\n",
              "      <th>3</th>\n",
              "      <td>&lt; 1 Year</td>\n",
              "      <td>1</td>\n",
              "      <td>7202</td>\n",
              "    </tr>\n",
              "    <tr>\n",
              "      <th>4</th>\n",
              "      <td>&gt; 2 Years</td>\n",
              "      <td>0</td>\n",
              "      <td>11305</td>\n",
              "    </tr>\n",
              "    <tr>\n",
              "      <th>5</th>\n",
              "      <td>&gt; 2 Years</td>\n",
              "      <td>1</td>\n",
              "      <td>4702</td>\n",
              "    </tr>\n",
              "  </tbody>\n",
              "</table>\n",
              "</div>\n",
              "      <button class=\"colab-df-convert\" onclick=\"convertToInteractive('df-bee19214-beb5-4fad-a25f-41fa6ad04322')\"\n",
              "              title=\"Convert this dataframe to an interactive table.\"\n",
              "              style=\"display:none;\">\n",
              "        \n",
              "  <svg xmlns=\"http://www.w3.org/2000/svg\" height=\"24px\"viewBox=\"0 0 24 24\"\n",
              "       width=\"24px\">\n",
              "    <path d=\"M0 0h24v24H0V0z\" fill=\"none\"/>\n",
              "    <path d=\"M18.56 5.44l.94 2.06.94-2.06 2.06-.94-2.06-.94-.94-2.06-.94 2.06-2.06.94zm-11 1L8.5 8.5l.94-2.06 2.06-.94-2.06-.94L8.5 2.5l-.94 2.06-2.06.94zm10 10l.94 2.06.94-2.06 2.06-.94-2.06-.94-.94-2.06-.94 2.06-2.06.94z\"/><path d=\"M17.41 7.96l-1.37-1.37c-.4-.4-.92-.59-1.43-.59-.52 0-1.04.2-1.43.59L10.3 9.45l-7.72 7.72c-.78.78-.78 2.05 0 2.83L4 21.41c.39.39.9.59 1.41.59.51 0 1.02-.2 1.41-.59l7.78-7.78 2.81-2.81c.8-.78.8-2.07 0-2.86zM5.41 20L4 18.59l7.72-7.72 1.47 1.35L5.41 20z\"/>\n",
              "  </svg>\n",
              "      </button>\n",
              "      \n",
              "  <style>\n",
              "    .colab-df-container {\n",
              "      display:flex;\n",
              "      flex-wrap:wrap;\n",
              "      gap: 12px;\n",
              "    }\n",
              "\n",
              "    .colab-df-convert {\n",
              "      background-color: #E8F0FE;\n",
              "      border: none;\n",
              "      border-radius: 50%;\n",
              "      cursor: pointer;\n",
              "      display: none;\n",
              "      fill: #1967D2;\n",
              "      height: 32px;\n",
              "      padding: 0 0 0 0;\n",
              "      width: 32px;\n",
              "    }\n",
              "\n",
              "    .colab-df-convert:hover {\n",
              "      background-color: #E2EBFA;\n",
              "      box-shadow: 0px 1px 2px rgba(60, 64, 67, 0.3), 0px 1px 3px 1px rgba(60, 64, 67, 0.15);\n",
              "      fill: #174EA6;\n",
              "    }\n",
              "\n",
              "    [theme=dark] .colab-df-convert {\n",
              "      background-color: #3B4455;\n",
              "      fill: #D2E3FC;\n",
              "    }\n",
              "\n",
              "    [theme=dark] .colab-df-convert:hover {\n",
              "      background-color: #434B5C;\n",
              "      box-shadow: 0px 1px 3px 1px rgba(0, 0, 0, 0.15);\n",
              "      filter: drop-shadow(0px 1px 2px rgba(0, 0, 0, 0.3));\n",
              "      fill: #FFFFFF;\n",
              "    }\n",
              "  </style>\n",
              "\n",
              "      <script>\n",
              "        const buttonEl =\n",
              "          document.querySelector('#df-bee19214-beb5-4fad-a25f-41fa6ad04322 button.colab-df-convert');\n",
              "        buttonEl.style.display =\n",
              "          google.colab.kernel.accessAllowed ? 'block' : 'none';\n",
              "\n",
              "        async function convertToInteractive(key) {\n",
              "          const element = document.querySelector('#df-bee19214-beb5-4fad-a25f-41fa6ad04322');\n",
              "          const dataTable =\n",
              "            await google.colab.kernel.invokeFunction('convertToInteractive',\n",
              "                                                     [key], {});\n",
              "          if (!dataTable) return;\n",
              "\n",
              "          const docLinkHtml = 'Like what you see? Visit the ' +\n",
              "            '<a target=\"_blank\" href=https://colab.research.google.com/notebooks/data_table.ipynb>data table notebook</a>'\n",
              "            + ' to learn more about interactive tables.';\n",
              "          element.innerHTML = '';\n",
              "          dataTable['output_type'] = 'display_data';\n",
              "          await google.colab.output.renderOutput(dataTable, element);\n",
              "          const docLink = document.createElement('div');\n",
              "          docLink.innerHTML = docLinkHtml;\n",
              "          element.appendChild(docLink);\n",
              "        }\n",
              "      </script>\n",
              "    </div>\n",
              "  </div>\n",
              "  "
            ],
            "text/plain": [
              "  Vehicle_Age  Response   count\n",
              "0    1-2 Year         0  165510\n",
              "1    1-2 Year         1   34806\n",
              "2    < 1 Year         0  157584\n",
              "3    < 1 Year         1    7202\n",
              "4   > 2 Years         0   11305\n",
              "5   > 2 Years         1    4702"
            ]
          },
          "execution_count": 27,
          "metadata": {},
          "output_type": "execute_result"
        }
      ],
      "source": [
        "# grouping the Vehicle Age and Response\n",
        "\n",
        "df1 = df.groupby(['Vehicle_Age','Response'])['id'].count().to_frame().rename(columns={'id':'count'}).reset_index()\n",
        "df1"
      ]
    },
    {
      "cell_type": "code",
      "execution_count": null,
      "metadata": {
        "colab": {
          "base_uri": "https://localhost:8080/"
        },
        "id": "uzp_dGJKVi0q",
        "outputId": "f7f7286c-6be7-48bd-9413-e3f9f9ca0f9d"
      },
      "outputs": [
        {
          "data": {
            "image/png": "[encoded data removed]",
            "text/plain": [
              "<Figure size 403.2x288 with 2 Axes>"
            ]
          },
          "metadata": {},
          "output_type": "display_data"
        }
      ],
      "source": [
        "# plot for Vehicle Age and the Response of Customers\n",
        "\n",
        "g = sns.catplot(x=\"Vehicle_Age\", y=\"count\",col=\"Response\",\n",
        "                data=df1, \n",
        "                kind=\"bar\",\n",
        "                height=4, \n",
        "                aspect=.7,\n",
        "                palette=['blue','red','green'],\n",
        "                saturation=0.5)"
      ]
    },
    {
      "cell_type": "markdown",
      "metadata": {
        "id": "Fw15wb5bXWJr"
      },
      "source": [
        "###Customers having damaged vehicle"
      ]
    },
    {
      "cell_type": "code",
      "execution_count": null,
      "metadata": {
        "colab": {
          "base_uri": "https://localhost:8080/"
        },
        "id": "-q7_xaL8VixK",
        "outputId": "a3b0a537-0107-4cad-9fb3-ac12e59c9a49"
      },
      "outputs": [
        {
          "data": {
            "text/plain": [
              "<matplotlib.axes._subplots.AxesSubplot at 0x7f3856d766d0>"
            ]
          },
          "execution_count": 29,
          "metadata": {},
          "output_type": "execute_result"
        },
        {
          "data": {
            "image/png": "[encoded data removed]",
            "text/plain": [
              "<Figure size 432x288 with 1 Axes>"
            ]
          },
          "metadata": {},
          "output_type": "display_data"
        }
      ],
      "source": [
        "# plot of count of Vehicles that are already Damaged\n",
        "\n",
        "sns.countplot(df.Vehicle_Damage, palette=['blue','red'], saturation=0.5)"
      ]
    },
    {
      "cell_type": "markdown",
      "metadata": {
        "id": "gIBrlxOUXhLf"
      },
      "source": [
        "###Damage Vehicle and Response"
      ]
    },
    {
      "cell_type": "code",
      "execution_count": null,
      "metadata": {
        "id": "T7XzlGEUVivh"
      },
      "outputs": [],
      "source": [
        "# grouping Vehicle Damage and Response\n",
        "\n",
        "df1 = df.groupby(['Vehicle_Damage','Response'])['id'].count().to_frame().rename(columns={'id':'count'}).reset_index()"
      ]
    },
    {
      "cell_type": "code",
      "execution_count": null,
      "metadata": {
        "colab": {
          "base_uri": "https://localhost:8080/"
        },
        "id": "5RfHV9qhVitd",
        "outputId": "6dd7c8dd-3e4c-4636-98bb-02fbb56b5f47"
      },
      "outputs": [
        {
          "data": {
            "image/png": "[encoded data removed]",
            "text/plain": [
              "<Figure size 403.2x288 with 2 Axes>"
            ]
          },
          "metadata": {},
          "output_type": "display_data"
        }
      ],
      "source": [
        "# plot for Customers whose Vehicle is Damaged and want Insurance\n",
        "\n",
        "g = sns.catplot(x=\"Vehicle_Damage\", y=\"count\",col=\"Response\",\n",
        "                data=df1, \n",
        "                kind=\"bar\",\n",
        "                height=4, \n",
        "                aspect=.7,\n",
        "                palette=['blue','red'],\n",
        "                saturation=0.5);"
      ]
    },
    {
      "cell_type": "markdown",
      "metadata": {
        "id": "vbWpXh74oiCj"
      },
      "source": [
        "###Observations:\n",
        "\n",
        "1. Customers with vechicle damage(Yes and NO) are equally distributed with (50.48 % , 49.51 %).\n",
        "\n",
        "2. Customers with vechicle damage are more interested in Vehicle Insurance."
      ]
    },
    {
      "cell_type": "markdown",
      "metadata": {
        "id": "ZeK_SQ1ZXx2f"
      },
      "source": [
        "###Annual Premium Distribution"
      ]
    },
    {
      "cell_type": "code",
      "execution_count": null,
      "metadata": {
        "colab": {
          "base_uri": "https://localhost:8080/"
        },
        "id": "xrjoHxBZViqp",
        "outputId": "27ddc6c0-56cb-4ca7-f852-d64ac2dc1cbc"
      },
      "outputs": [
        {
          "data": {
            "text/plain": [
              "<matplotlib.axes._subplots.AxesSubplot at 0x7f3856c4f250>"
            ]
          },
          "execution_count": 32,
          "metadata": {},
          "output_type": "execute_result"
        },
        {
          "data": {
            "image/png": "[encoded data removed]",
            "text/plain": [
              "<Figure size 432x288 with 1 Axes>"
            ]
          },
          "metadata": {},
          "output_type": "display_data"
        }
      ],
      "source": [
        "# Distribution of Annual Premium\n",
        "\n",
        "sns.distplot(df.Annual_Premium, color='blue')"
      ]
    },
    {
      "cell_type": "code",
      "execution_count": null,
      "metadata": {
        "colab": {
          "base_uri": "https://localhost:8080/"
        },
        "id": "75K_mp7SVioV",
        "outputId": "05e23fd9-9357-47b8-89b4-827f0c127fcd"
      },
      "outputs": [
        {
          "data": {
            "text/plain": [
              "<matplotlib.axes._subplots.AxesSubplot at 0x7f3856b49cd0>"
            ]
          },
          "execution_count": 33,
          "metadata": {},
          "output_type": "execute_result"
        },
        {
          "data": {
            "image/png": "[encoded data removed]",
            "text/plain": [
              "<Figure size 432x288 with 1 Axes>"
            ]
          },
          "metadata": {},
          "output_type": "display_data"
        }
      ],
      "source": [
        "# boxplot to detect if outliers are present in Annual Premium\n",
        "\n",
        "sns.boxplot(y='Annual_Premium', data = df, palette=['red'], saturation=0.5)"
      ]
    },
    {
      "cell_type": "markdown",
      "metadata": {
        "id": "vgupnDdlo7jf"
      },
      "source": [
        "###Observations:\n",
        "\n",
        "1. From the distribution plot we can infer that the annual premimum variable is right skewed.\n",
        "\n",
        "2. From the boxplot we can observe that there are a lot of outliers in the Annual Premium data."
      ]
    },
    {
      "cell_type": "markdown",
      "metadata": {
        "id": "svbyr8paYCHt"
      },
      "source": [
        "###Vintage\n",
        "\n",
        "Number of Days, Customer has been associated with the company"
      ]
    },
    {
      "cell_type": "code",
      "execution_count": null,
      "metadata": {
        "colab": {
          "base_uri": "https://localhost:8080/"
        },
        "id": "2_j-ZQvvVimQ",
        "outputId": "99fa6f9d-469e-4d8f-e4e2-59619b6a6f9a"
      },
      "outputs": [
        {
          "data": {
            "text/plain": [
              "<matplotlib.axes._subplots.AxesSubplot at 0x7f3856af4910>"
            ]
          },
          "execution_count": 34,
          "metadata": {},
          "output_type": "execute_result"
        },
        {
          "data": {
            "image/png": "[encoded data removed]",
            "text/plain": [
              "<Figure size 432x288 with 1 Axes>"
            ]
          },
          "metadata": {},
          "output_type": "display_data"
        }
      ],
      "source": [
        "# distribution plot for vintage\n",
        "\n",
        "sns.distplot(df.Vintage, color='blue')"
      ]
    },
    {
      "cell_type": "markdown",
      "metadata": {
        "id": "GkYaiiE9iWQU"
      },
      "source": [
        "###Region Code"
      ]
    },
    {
      "cell_type": "code",
      "execution_count": null,
      "metadata": {
        "colab": {
          "base_uri": "https://localhost:8080/"
        },
        "id": "Oci_s93RiZsh",
        "outputId": "bd5717b6-4bfd-45b7-8481-c4aae1608559"
      },
      "outputs": [
        {
          "data": {
            "image/png": "[encoded data removed]",
            "text/plain": [
              "<Figure size 720x504 with 1 Axes>"
            ]
          },
          "metadata": {},
          "output_type": "display_data"
        },
        {
          "data": {
            "image/png": "[encoded data removed]",
            "text/plain": [
              "<Figure size 720x504 with 1 Axes>"
            ]
          },
          "metadata": {},
          "output_type": "display_data"
        }
      ],
      "source": [
        "# distribution plot for Region Code\n",
        "\n",
        "plt.figure(figsize=(10,7))\n",
        "plt.subplot(2,1,1)\n",
        "sns.distplot(df['Region_Code'], color='red')\n",
        "\n",
        "# boxplot to detect if outliers are present in Region Code\n",
        "\n",
        "plt.figure(figsize=(10,7))\n",
        "plt.subplot(2,1,2)\n",
        "sns.boxplot(df['Region_Code'])\n",
        "plt.show()"
      ]
    },
    {
      "cell_type": "markdown",
      "metadata": {
        "id": "YtGcjRKgkhXB"
      },
      "source": [
        "###Observations:\n",
        "\n",
        "1. Region code 28 the highest number of Responses.\n",
        "\n",
        "2. From the box plot it looks like there is no outliers in the Region Code data.\n",
        "\n",
        "3. Further we can analyze which region has highest intrested customers."
      ]
    },
    {
      "cell_type": "markdown",
      "metadata": {
        "id": "ndiv4i9RpgrA"
      },
      "source": [
        "###Correlation in the data"
      ]
    },
    {
      "cell_type": "code",
      "execution_count": null,
      "metadata": {
        "colab": {
          "base_uri": "https://localhost:8080/"
        },
        "id": "RO_MP6cLpgFt",
        "outputId": "eea3c406-0cb8-4380-9656-fff739de3eae"
      },
      "outputs": [
        {
          "data": {
            "text/plain": [
              "<matplotlib.axes._subplots.AxesSubplot at 0x7f3856e09a90>"
            ]
          },
          "execution_count": 36,
          "metadata": {},
          "output_type": "execute_result"
        },
        {
          "data": {
            "image/png": "[encoded data removed]",
            "text/plain": [
              "<Figure size 720x720 with 2 Axes>"
            ]
          },
          "metadata": {},
          "output_type": "display_data"
        }
      ],
      "source": [
        "# checking Correlation between features\n",
        "\n",
        "plt.figure(figsize=(10,10))\n",
        "sns.heatmap(df.corr(), linewidths=5, annot=True, square=True, annot_kws={'size': 10}, cmap='YlGnBu')"
      ]
    },
    {
      "cell_type": "markdown",
      "metadata": {
        "id": "k1GbChV9rL9U"
      },
      "source": [
        "###Observations:\n",
        "\n",
        "1. From the correlation plot we observe that policy sales channel has slightly greater correlation with Age variable, this may be the indication of multicollinearity.\n",
        "\n",
        "2. In classification, multicollinearity does not create a problem in prediction but in interpretation of importance of features"
      ]
    },
    {
      "cell_type": "markdown",
      "metadata": {
        "id": "sh2zNcIhYNDX"
      },
      "source": [
        "##Data Preprocessing"
      ]
    },
    {
      "cell_type": "code",
      "execution_count": null,
      "metadata": {
        "id": "P4Pu3HfPJ0gC"
      },
      "outputs": [],
      "source": [
        "# encode labels of multiple columns at ones using LabelEncoder\n",
        "\n",
        "from sklearn.preprocessing import LabelEncoder\n",
        "\n",
        "df_le = df.apply(LabelEncoder().fit_transform)"
      ]
    },
    {
      "cell_type": "code",
      "execution_count": null,
      "metadata": {
        "colab": {
          "base_uri": "https://localhost:8080/"
        },
        "id": "7eHgP_iQVibO",
        "outputId": "89648ecf-811a-497a-ffa8-786dcaad4530"
      },
      "outputs": [
        {
          "data": {
            "text/html": [
              "\n",
              "  <div id=\"df-d8af0319-2216-49d2-94f2-a43b768aabb9\">\n",
              "    <div class=\"colab-df-container\">\n",
              "      <div>\n",
              "<style scoped>\n",
              "    .dataframe tbody tr th:only-of-type {\n",
              "        vertical-align: middle;\n",
              "    }\n",
              "\n",
              "    .dataframe tbody tr th {\n",
              "        vertical-align: top;\n",
              "    }\n",
              "\n",
              "    .dataframe thead th {\n",
              "        text-align: right;\n",
              "    }\n",
              "</style>\n",
              "<table border=\"1\" class=\"dataframe\">\n",
              "  <thead>\n",
              "    <tr style=\"text-align: right;\">\n",
              "      <th></th>\n",
              "      <th>id</th>\n",
              "      <th>Gender</th>\n",
              "      <th>Age</th>\n",
              "      <th>Driving_License</th>\n",
              "      <th>Region_Code</th>\n",
              "      <th>Previously_Insured</th>\n",
              "      <th>Vehicle_Age</th>\n",
              "      <th>Vehicle_Damage</th>\n",
              "      <th>Annual_Premium</th>\n",
              "      <th>Policy_Sales_Channel</th>\n",
              "      <th>Vintage</th>\n",
              "      <th>Response</th>\n",
              "    </tr>\n",
              "  </thead>\n",
              "  <tbody>\n",
              "    <tr>\n",
              "      <th>0</th>\n",
              "      <td>0</td>\n",
              "      <td>1</td>\n",
              "      <td>24</td>\n",
              "      <td>1</td>\n",
              "      <td>28</td>\n",
              "      <td>0</td>\n",
              "      <td>2</td>\n",
              "      <td>1</td>\n",
              "      <td>23593</td>\n",
              "      <td>24</td>\n",
              "      <td>207</td>\n",
              "      <td>1</td>\n",
              "    </tr>\n",
              "    <tr>\n",
              "      <th>1</th>\n",
              "      <td>1</td>\n",
              "      <td>1</td>\n",
              "      <td>56</td>\n",
              "      <td>1</td>\n",
              "      <td>3</td>\n",
              "      <td>0</td>\n",
              "      <td>0</td>\n",
              "      <td>0</td>\n",
              "      <td>16675</td>\n",
              "      <td>24</td>\n",
              "      <td>173</td>\n",
              "      <td>0</td>\n",
              "    </tr>\n",
              "    <tr>\n",
              "      <th>2</th>\n",
              "      <td>2</td>\n",
              "      <td>1</td>\n",
              "      <td>27</td>\n",
              "      <td>1</td>\n",
              "      <td>28</td>\n",
              "      <td>0</td>\n",
              "      <td>2</td>\n",
              "      <td>1</td>\n",
              "      <td>21433</td>\n",
              "      <td>24</td>\n",
              "      <td>17</td>\n",
              "      <td>1</td>\n",
              "    </tr>\n",
              "    <tr>\n",
              "      <th>3</th>\n",
              "      <td>3</td>\n",
              "      <td>1</td>\n",
              "      <td>1</td>\n",
              "      <td>1</td>\n",
              "      <td>11</td>\n",
              "      <td>1</td>\n",
              "      <td>1</td>\n",
              "      <td>0</td>\n",
              "      <td>11758</td>\n",
              "      <td>145</td>\n",
              "      <td>193</td>\n",
              "      <td>0</td>\n",
              "    </tr>\n",
              "    <tr>\n",
              "      <th>4</th>\n",
              "      <td>4</td>\n",
              "      <td>0</td>\n",
              "      <td>9</td>\n",
              "      <td>1</td>\n",
              "      <td>41</td>\n",
              "      <td>1</td>\n",
              "      <td>1</td>\n",
              "      <td>0</td>\n",
              "      <td>10635</td>\n",
              "      <td>145</td>\n",
              "      <td>29</td>\n",
              "      <td>0</td>\n",
              "    </tr>\n",
              "  </tbody>\n",
              "</table>\n",
              "</div>\n",
              "      <button class=\"colab-df-convert\" onclick=\"convertToInteractive('df-d8af0319-2216-49d2-94f2-a43b768aabb9')\"\n",
              "              title=\"Convert this dataframe to an interactive table.\"\n",
              "              style=\"display:none;\">\n",
              "        \n",
              "  <svg xmlns=\"http://www.w3.org/2000/svg\" height=\"24px\"viewBox=\"0 0 24 24\"\n",
              "       width=\"24px\">\n",
              "    <path d=\"M0 0h24v24H0V0z\" fill=\"none\"/>\n",
              "    <path d=\"M18.56 5.44l.94 2.06.94-2.06 2.06-.94-2.06-.94-.94-2.06-.94 2.06-2.06.94zm-11 1L8.5 8.5l.94-2.06 2.06-.94-2.06-.94L8.5 2.5l-.94 2.06-2.06.94zm10 10l.94 2.06.94-2.06 2.06-.94-2.06-.94-.94-2.06-.94 2.06-2.06.94z\"/><path d=\"M17.41 7.96l-1.37-1.37c-.4-.4-.92-.59-1.43-.59-.52 0-1.04.2-1.43.59L10.3 9.45l-7.72 7.72c-.78.78-.78 2.05 0 2.83L4 21.41c.39.39.9.59 1.41.59.51 0 1.02-.2 1.41-.59l7.78-7.78 2.81-2.81c.8-.78.8-2.07 0-2.86zM5.41 20L4 18.59l7.72-7.72 1.47 1.35L5.41 20z\"/>\n",
              "  </svg>\n",
              "      </button>\n",
              "      \n",
              "  <style>\n",
              "    .colab-df-container {\n",
              "      display:flex;\n",
              "      flex-wrap:wrap;\n",
              "      gap: 12px;\n",
              "    }\n",
              "\n",
              "    .colab-df-convert {\n",
              "      background-color: #E8F0FE;\n",
              "      border: none;\n",
              "      border-radius: 50%;\n",
              "      cursor: pointer;\n",
              "      display: none;\n",
              "      fill: #1967D2;\n",
              "      height: 32px;\n",
              "      padding: 0 0 0 0;\n",
              "      width: 32px;\n",
              "    }\n",
              "\n",
              "    .colab-df-convert:hover {\n",
              "      background-color: #E2EBFA;\n",
              "      box-shadow: 0px 1px 2px rgba(60, 64, 67, 0.3), 0px 1px 3px 1px rgba(60, 64, 67, 0.15);\n",
              "      fill: #174EA6;\n",
              "    }\n",
              "\n",
              "    [theme=dark] .colab-df-convert {\n",
              "      background-color: #3B4455;\n",
              "      fill: #D2E3FC;\n",
              "    }\n",
              "\n",
              "    [theme=dark] .colab-df-convert:hover {\n",
              "      background-color: #434B5C;\n",
              "      box-shadow: 0px 1px 3px 1px rgba(0, 0, 0, 0.15);\n",
              "      filter: drop-shadow(0px 1px 2px rgba(0, 0, 0, 0.3));\n",
              "      fill: #FFFFFF;\n",
              "    }\n",
              "  </style>\n",
              "\n",
              "      <script>\n",
              "        const buttonEl =\n",
              "          document.querySelector('#df-d8af0319-2216-49d2-94f2-a43b768aabb9 button.colab-df-convert');\n",
              "        buttonEl.style.display =\n",
              "          google.colab.kernel.accessAllowed ? 'block' : 'none';\n",
              "\n",
              "        async function convertToInteractive(key) {\n",
              "          const element = document.querySelector('#df-d8af0319-2216-49d2-94f2-a43b768aabb9');\n",
              "          const dataTable =\n",
              "            await google.colab.kernel.invokeFunction('convertToInteractive',\n",
              "                                                     [key], {});\n",
              "          if (!dataTable) return;\n",
              "\n",
              "          const docLinkHtml = 'Like what you see? Visit the ' +\n",
              "            '<a target=\"_blank\" href=https://colab.research.google.com/notebooks/data_table.ipynb>data table notebook</a>'\n",
              "            + ' to learn more about interactive tables.';\n",
              "          element.innerHTML = '';\n",
              "          dataTable['output_type'] = 'display_data';\n",
              "          await google.colab.output.renderOutput(dataTable, element);\n",
              "          const docLink = document.createElement('div');\n",
              "          docLink.innerHTML = docLinkHtml;\n",
              "          element.appendChild(docLink);\n",
              "        }\n",
              "      </script>\n",
              "    </div>\n",
              "  </div>\n",
              "  "
            ],
            "text/plain": [
              "   id  Gender  Age  Driving_License  Region_Code  Previously_Insured  \\\n",
              "0   0       1   24                1           28                   0   \n",
              "1   1       1   56                1            3                   0   \n",
              "2   2       1   27                1           28                   0   \n",
              "3   3       1    1                1           11                   1   \n",
              "4   4       0    9                1           41                   1   \n",
              "\n",
              "   Vehicle_Age  Vehicle_Damage  Annual_Premium  Policy_Sales_Channel  Vintage  \\\n",
              "0            2               1           23593                    24      207   \n",
              "1            0               0           16675                    24      173   \n",
              "2            2               1           21433                    24       17   \n",
              "3            1               0           11758                   145      193   \n",
              "4            1               0           10635                   145       29   \n",
              "\n",
              "   Response  \n",
              "0         1  \n",
              "1         0  \n",
              "2         1  \n",
              "3         0  \n",
              "4         0  "
            ]
          },
          "execution_count": 38,
          "metadata": {},
          "output_type": "execute_result"
        }
      ],
      "source": [
        "df_le.head()"
      ]
    },
    {
      "cell_type": "code",
      "execution_count": null,
      "metadata": {
        "id": "bnnHglKbViWg"
      },
      "outputs": [],
      "source": [
        "# Scale the numerical features\n",
        "\n",
        "from sklearn.preprocessing import StandardScaler, MinMaxScaler, RobustScaler\n",
        "\n",
        "# using MinMaxScaler for Age and Vintage\n",
        "\n",
        "mm = MinMaxScaler()\n",
        "\n",
        "num_feat = ['Age', 'Vintage']\n",
        "df_le[num_feat] = mm.fit_transform(df_le[num_feat])\n",
        "\n",
        "# using RobustScaler for Annual Premium as it has outliers\n",
        "\n",
        "rs = RobustScaler()\n",
        "\n",
        "df_le[['Annual_Premium']] = rs.fit_transform(df_le[['Annual_Premium']])"
      ]
    },
    {
      "cell_type": "code",
      "execution_count": null,
      "metadata": {
        "id": "vyO1e20wViRI"
      },
      "outputs": [],
      "source": [
        "# dropping the column id\n",
        "\n",
        "df_le = df_le.drop('id',axis=1)"
      ]
    },
    {
      "cell_type": "code",
      "execution_count": null,
      "metadata": {
        "colab": {
          "base_uri": "https://localhost:8080/"
        },
        "id": "k9KA3S3fK28u",
        "outputId": "baeeeea4-ef6e-45a9-8fe5-67d5b2fb235b"
      },
      "outputs": [
        {
          "data": {
            "text/html": [
              "\n",
              "  <div id=\"df-056b4658-c139-45d3-b67c-a717015d6174\">\n",
              "    <div class=\"colab-df-container\">\n",
              "      <div>\n",
              "<style scoped>\n",
              "    .dataframe tbody tr th:only-of-type {\n",
              "        vertical-align: middle;\n",
              "    }\n",
              "\n",
              "    .dataframe tbody tr th {\n",
              "        vertical-align: top;\n",
              "    }\n",
              "\n",
              "    .dataframe thead th {\n",
              "        text-align: right;\n",
              "    }\n",
              "</style>\n",
              "<table border=\"1\" class=\"dataframe\">\n",
              "  <thead>\n",
              "    <tr style=\"text-align: right;\">\n",
              "      <th></th>\n",
              "      <th>Gender</th>\n",
              "      <th>Age</th>\n",
              "      <th>Driving_License</th>\n",
              "      <th>Region_Code</th>\n",
              "      <th>Previously_Insured</th>\n",
              "      <th>Vehicle_Age</th>\n",
              "      <th>Vehicle_Damage</th>\n",
              "      <th>Annual_Premium</th>\n",
              "      <th>Policy_Sales_Channel</th>\n",
              "      <th>Vintage</th>\n",
              "      <th>Response</th>\n",
              "    </tr>\n",
              "  </thead>\n",
              "  <tbody>\n",
              "    <tr>\n",
              "      <th>0</th>\n",
              "      <td>1</td>\n",
              "      <td>0.369231</td>\n",
              "      <td>1</td>\n",
              "      <td>28</td>\n",
              "      <td>0</td>\n",
              "      <td>2</td>\n",
              "      <td>1</td>\n",
              "      <td>0.585901</td>\n",
              "      <td>24</td>\n",
              "      <td>0.716263</td>\n",
              "      <td>1</td>\n",
              "    </tr>\n",
              "    <tr>\n",
              "      <th>1</th>\n",
              "      <td>1</td>\n",
              "      <td>0.861538</td>\n",
              "      <td>1</td>\n",
              "      <td>3</td>\n",
              "      <td>0</td>\n",
              "      <td>0</td>\n",
              "      <td>0</td>\n",
              "      <td>0.124516</td>\n",
              "      <td>24</td>\n",
              "      <td>0.598616</td>\n",
              "      <td>0</td>\n",
              "    </tr>\n",
              "    <tr>\n",
              "      <th>2</th>\n",
              "      <td>1</td>\n",
              "      <td>0.415385</td>\n",
              "      <td>1</td>\n",
              "      <td>28</td>\n",
              "      <td>0</td>\n",
              "      <td>2</td>\n",
              "      <td>1</td>\n",
              "      <td>0.441843</td>\n",
              "      <td>24</td>\n",
              "      <td>0.058824</td>\n",
              "      <td>1</td>\n",
              "    </tr>\n",
              "    <tr>\n",
              "      <th>3</th>\n",
              "      <td>1</td>\n",
              "      <td>0.015385</td>\n",
              "      <td>1</td>\n",
              "      <td>11</td>\n",
              "      <td>1</td>\n",
              "      <td>1</td>\n",
              "      <td>0</td>\n",
              "      <td>-0.203415</td>\n",
              "      <td>145</td>\n",
              "      <td>0.667820</td>\n",
              "      <td>0</td>\n",
              "    </tr>\n",
              "    <tr>\n",
              "      <th>4</th>\n",
              "      <td>0</td>\n",
              "      <td>0.138462</td>\n",
              "      <td>1</td>\n",
              "      <td>41</td>\n",
              "      <td>1</td>\n",
              "      <td>1</td>\n",
              "      <td>0</td>\n",
              "      <td>-0.278311</td>\n",
              "      <td>145</td>\n",
              "      <td>0.100346</td>\n",
              "      <td>0</td>\n",
              "    </tr>\n",
              "  </tbody>\n",
              "</table>\n",
              "</div>\n",
              "      <button class=\"colab-df-convert\" onclick=\"convertToInteractive('df-056b4658-c139-45d3-b67c-a717015d6174')\"\n",
              "              title=\"Convert this dataframe to an interactive table.\"\n",
              "              style=\"display:none;\">\n",
              "        \n",
              "  <svg xmlns=\"http://www.w3.org/2000/svg\" height=\"24px\"viewBox=\"0 0 24 24\"\n",
              "       width=\"24px\">\n",
              "    <path d=\"M0 0h24v24H0V0z\" fill=\"none\"/>\n",
              "    <path d=\"M18.56 5.44l.94 2.06.94-2.06 2.06-.94-2.06-.94-.94-2.06-.94 2.06-2.06.94zm-11 1L8.5 8.5l.94-2.06 2.06-.94-2.06-.94L8.5 2.5l-.94 2.06-2.06.94zm10 10l.94 2.06.94-2.06 2.06-.94-2.06-.94-.94-2.06-.94 2.06-2.06.94z\"/><path d=\"M17.41 7.96l-1.37-1.37c-.4-.4-.92-.59-1.43-.59-.52 0-1.04.2-1.43.59L10.3 9.45l-7.72 7.72c-.78.78-.78 2.05 0 2.83L4 21.41c.39.39.9.59 1.41.59.51 0 1.02-.2 1.41-.59l7.78-7.78 2.81-2.81c.8-.78.8-2.07 0-2.86zM5.41 20L4 18.59l7.72-7.72 1.47 1.35L5.41 20z\"/>\n",
              "  </svg>\n",
              "      </button>\n",
              "      \n",
              "  <style>\n",
              "    .colab-df-container {\n",
              "      display:flex;\n",
              "      flex-wrap:wrap;\n",
              "      gap: 12px;\n",
              "    }\n",
              "\n",
              "    .colab-df-convert {\n",
              "      background-color: #E8F0FE;\n",
              "      border: none;\n",
              "      border-radius: 50%;\n",
              "      cursor: pointer;\n",
              "      display: none;\n",
              "      fill: #1967D2;\n",
              "      height: 32px;\n",
              "      padding: 0 0 0 0;\n",
              "      width: 32px;\n",
              "    }\n",
              "\n",
              "    .colab-df-convert:hover {\n",
              "      background-color: #E2EBFA;\n",
              "      box-shadow: 0px 1px 2px rgba(60, 64, 67, 0.3), 0px 1px 3px 1px rgba(60, 64, 67, 0.15);\n",
              "      fill: #174EA6;\n",
              "    }\n",
              "\n",
              "    [theme=dark] .colab-df-convert {\n",
              "      background-color: #3B4455;\n",
              "      fill: #D2E3FC;\n",
              "    }\n",
              "\n",
              "    [theme=dark] .colab-df-convert:hover {\n",
              "      background-color: #434B5C;\n",
              "      box-shadow: 0px 1px 3px 1px rgba(0, 0, 0, 0.15);\n",
              "      filter: drop-shadow(0px 1px 2px rgba(0, 0, 0, 0.3));\n",
              "      fill: #FFFFFF;\n",
              "    }\n",
              "  </style>\n",
              "\n",
              "      <script>\n",
              "        const buttonEl =\n",
              "          document.querySelector('#df-056b4658-c139-45d3-b67c-a717015d6174 button.colab-df-convert');\n",
              "        buttonEl.style.display =\n",
              "          google.colab.kernel.accessAllowed ? 'block' : 'none';\n",
              "\n",
              "        async function convertToInteractive(key) {\n",
              "          const element = document.querySelector('#df-056b4658-c139-45d3-b67c-a717015d6174');\n",
              "          const dataTable =\n",
              "            await google.colab.kernel.invokeFunction('convertToInteractive',\n",
              "                                                     [key], {});\n",
              "          if (!dataTable) return;\n",
              "\n",
              "          const docLinkHtml = 'Like what you see? Visit the ' +\n",
              "            '<a target=\"_blank\" href=https://colab.research.google.com/notebooks/data_table.ipynb>data table notebook</a>'\n",
              "            + ' to learn more about interactive tables.';\n",
              "          element.innerHTML = '';\n",
              "          dataTable['output_type'] = 'display_data';\n",
              "          await google.colab.output.renderOutput(dataTable, element);\n",
              "          const docLink = document.createElement('div');\n",
              "          docLink.innerHTML = docLinkHtml;\n",
              "          element.appendChild(docLink);\n",
              "        }\n",
              "      </script>\n",
              "    </div>\n",
              "  </div>\n",
              "  "
            ],
            "text/plain": [
              "   Gender       Age  Driving_License  Region_Code  Previously_Insured  \\\n",
              "0       1  0.369231                1           28                   0   \n",
              "1       1  0.861538                1            3                   0   \n",
              "2       1  0.415385                1           28                   0   \n",
              "3       1  0.015385                1           11                   1   \n",
              "4       0  0.138462                1           41                   1   \n",
              "\n",
              "   Vehicle_Age  Vehicle_Damage  Annual_Premium  Policy_Sales_Channel  \\\n",
              "0            2               1        0.585901                    24   \n",
              "1            0               0        0.124516                    24   \n",
              "2            2               1        0.441843                    24   \n",
              "3            1               0       -0.203415                   145   \n",
              "4            1               0       -0.278311                   145   \n",
              "\n",
              "    Vintage  Response  \n",
              "0  0.716263         1  \n",
              "1  0.598616         0  \n",
              "2  0.058824         1  \n",
              "3  0.667820         0  \n",
              "4  0.100346         0  "
            ]
          },
          "execution_count": 41,
          "metadata": {},
          "output_type": "execute_result"
        }
      ],
      "source": [
        "df_le.head()"
      ]
    },
    {
      "cell_type": "code",
      "execution_count": null,
      "metadata": {
        "id": "Hk5dRRc-ViH3"
      },
      "outputs": [],
      "source": []
    },
    {
      "cell_type": "markdown",
      "metadata": {
        "id": "BT_rGkXPMArz"
      },
      "source": [
        "###Split the Data in train and test set"
      ]
    },
    {
      "cell_type": "code",
      "execution_count": null,
      "metadata": {
        "id": "lqkQDq0NViFY"
      },
      "outputs": [],
      "source": [
        "# define the dependent variable\n",
        "\n",
        "y = df_le['Response']\n",
        "\n",
        "# define the independent variable\n",
        "\n",
        "X = df_le.drop(['Response'], axis = 1)"
      ]
    },
    {
      "cell_type": "code",
      "execution_count": null,
      "metadata": {
        "id": "9kHk4OEeMXrC"
      },
      "outputs": [],
      "source": [
        "# split the train and test data\n",
        "\n",
        "from sklearn.model_selection import train_test_split\n",
        "\n",
        "X_train, X_test, y_train, y_test = train_test_split(X, y, test_size=0.20, random_state=0)"
      ]
    },
    {
      "cell_type": "code",
      "execution_count": null,
      "metadata": {
        "colab": {
          "base_uri": "https://localhost:8080/"
        },
        "id": "58KhUB1DViBn",
        "outputId": "bd98f265-20cd-4eb6-f78b-7b46fecb03a7"
      },
      "outputs": [
        {
          "data": {
            "text/plain": [
              "Index(['Gender', 'Age', 'Driving_License', 'Region_Code', 'Previously_Insured',\n",
              "       'Vehicle_Age', 'Vehicle_Damage', 'Annual_Premium',\n",
              "       'Policy_Sales_Channel', 'Vintage'],\n",
              "      dtype='object')"
            ]
          },
          "execution_count": 44,
          "metadata": {},
          "output_type": "execute_result"
        }
      ],
      "source": [
        "X_train.columns"
      ]
    },
    {
      "cell_type": "code",
      "source": [
        "print(X_train.shape, X_test.shape, y_train.shape, y_test.shape)"
      ],
      "metadata": {
        "colab": {
          "base_uri": "https://localhost:8080/"
        },
        "id": "aSovkdYta4rK",
        "outputId": "4aa78899-73c8-4ea3-f1be-21417a485c83"
      },
      "execution_count": null,
      "outputs": [
        {
          "output_type": "stream",
          "name": "stdout",
          "text": [
            "(304887, 10) (76222, 10) (304887,) (76222,)\n"
          ]
        }
      ]
    },
    {
      "cell_type": "markdown",
      "metadata": {
        "id": "LwgWnasSKnec"
      },
      "source": [
        "###Logistic Regression (basic model)"
      ]
    },
    {
      "cell_type": "code",
      "execution_count": null,
      "metadata": {
        "id": "7b2OuD1eVh_A"
      },
      "outputs": [],
      "source": [
        "# import libraries for Logistic Regression\n",
        "\n",
        "from sklearn.linear_model import LogisticRegression\n",
        "\n",
        "from sklearn.metrics import accuracy_score, precision_recall_curve, roc_curve, auc, roc_auc_score, classification_report, recall_score, precision_score, f1_score, confusion_matrix"
      ]
    },
    {
      "cell_type": "code",
      "execution_count": null,
      "metadata": {
        "colab": {
          "base_uri": "https://localhost:8080/"
        },
        "id": "te1jLAQywG1i",
        "outputId": "564f3437-1c1e-47fd-e439-b06e7704fd9b"
      },
      "outputs": [
        {
          "name": "stdout",
          "output_type": "stream",
          "text": [
            "train accuracy:  0.8767248193593036\n",
            "classification report:\n",
            "              precision    recall  f1-score       support\n",
            "0              0.998848  0.876924  0.933924  76140.000000\n",
            "1              0.000533  0.060976  0.001057     82.000000\n",
            "accuracy       0.876046  0.876046  0.876046      0.876046\n",
            "macro avg      0.499691  0.468950  0.467490  76222.000000\n",
            "weighted avg   0.997774  0.876046  0.932920  76222.000000\n",
            "confusion matrix:\n",
            "[[66769    77]\n",
            " [ 9371     5]]\n",
            "ROC AUC Score: 0.8177534655007552\n"
          ]
        }
      ],
      "source": [
        "# run the LogisticRegession model and analyse its performance metrics\n",
        "\n",
        "lr = LogisticRegression()\n",
        "lr.random_state = 78\n",
        "\n",
        "# fit Logistic Regression and make predictions\n",
        "\n",
        "lr.fit(X_train,y_train)\n",
        "pred_train = lr.predict(X_train)\n",
        "pred_test = lr.predict(X_test)\n",
        "\n",
        "# accuracy score\n",
        "\n",
        "train_accuracy = accuracy_score(y_train, pred_train)\n",
        "print('train accuracy: ', train_accuracy)\n",
        "\n",
        "# classification report\n",
        "\n",
        "report = classification_report(pred_test, y_test, output_dict=True)\n",
        "model_classification_rep = pd.DataFrame(report).T\n",
        "\n",
        "print('classification report:')\n",
        "print(model_classification_rep)\n",
        "\n",
        "# confusion matrix\n",
        "\n",
        "print('confusion matrix:')\n",
        "print(confusion_matrix(y_test, pred_test))\n",
        "\n",
        "# ROC AUC score\n",
        "\n",
        "pred_proba = lr.predict_proba(X_test)[:, 1]\n",
        "print('ROC AUC Score: {}'.format(roc_auc_score(y_test,pred_proba)))"
      ]
    },
    {
      "cell_type": "markdown",
      "metadata": {
        "id": "spXqe705cbd0"
      },
      "source": [
        "##Data Modelling and Evaluation"
      ]
    },
    {
      "cell_type": "code",
      "execution_count": null,
      "metadata": {
        "colab": {
          "base_uri": "https://localhost:8080/"
        },
        "id": "3ieX40FaVh8_",
        "outputId": "15fd3ba2-5978-48d2-b3a9-1f0d890d0c7e"
      },
      "outputs": [
        {
          "name": "stdout",
          "output_type": "stream",
          "text": [
            "Looking in indexes: https://pypi.org/simple, https://us-python.pkg.dev/colab-wheels/public/simple/\n",
            "Collecting catboost\n",
            "  Downloading catboost-1.1.1-cp37-none-manylinux1_x86_64.whl (76.6 MB)\n",
            "\u001b[K     |████████████████████████████████| 76.6 MB 1.2 MB/s \n",
            "\u001b[?25hRequirement already satisfied: matplotlib in /usr/local/lib/python3.7/dist-packages (from catboost) (3.2.2)\n",
            "Requirement already satisfied: six in /usr/local/lib/python3.7/dist-packages (from catboost) (1.15.0)\n",
            "Requirement already satisfied: plotly in /usr/local/lib/python3.7/dist-packages (from catboost) (5.5.0)\n",
            "Requirement already satisfied: numpy>=1.16.0 in /usr/local/lib/python3.7/dist-packages (from catboost) (1.21.6)\n",
            "Requirement already satisfied: graphviz in /usr/local/lib/python3.7/dist-packages (from catboost) (0.10.1)\n",
            "Requirement already satisfied: pandas>=0.24.0 in /usr/local/lib/python3.7/dist-packages (from catboost) (1.3.5)\n",
            "Requirement already satisfied: scipy in /usr/local/lib/python3.7/dist-packages (from catboost) (1.7.3)\n",
            "Requirement already satisfied: python-dateutil>=2.7.3 in /usr/local/lib/python3.7/dist-packages (from pandas>=0.24.0->catboost) (2.8.2)\n",
            "Requirement already satisfied: pytz>=2017.3 in /usr/local/lib/python3.7/dist-packages (from pandas>=0.24.0->catboost) (2022.6)\n",
            "Requirement already satisfied: pyparsing!=2.0.4,!=2.1.2,!=2.1.6,>=2.0.1 in /usr/local/lib/python3.7/dist-packages (from matplotlib->catboost) (3.0.9)\n",
            "Requirement already satisfied: cycler>=0.10 in /usr/local/lib/python3.7/dist-packages (from matplotlib->catboost) (0.11.0)\n",
            "Requirement already satisfied: kiwisolver>=1.0.1 in /usr/local/lib/python3.7/dist-packages (from matplotlib->catboost) (1.4.4)\n",
            "Requirement already satisfied: typing-extensions in /usr/local/lib/python3.7/dist-packages (from kiwisolver>=1.0.1->matplotlib->catboost) (4.1.1)\n",
            "Requirement already satisfied: tenacity>=6.2.0 in /usr/local/lib/python3.7/dist-packages (from plotly->catboost) (8.1.0)\n",
            "Installing collected packages: catboost\n",
            "Successfully installed catboost-1.1.1\n",
            "Looking in indexes: https://pypi.org/simple, https://us-python.pkg.dev/colab-wheels/public/simple/\n",
            "Requirement already satisfied: ipywidgets in /usr/local/lib/python3.7/dist-packages (7.7.1)\n",
            "Requirement already satisfied: traitlets>=4.3.1 in /usr/local/lib/python3.7/dist-packages (from ipywidgets) (5.1.1)\n",
            "Requirement already satisfied: ipykernel>=4.5.1 in /usr/local/lib/python3.7/dist-packages (from ipywidgets) (5.3.4)\n",
            "Requirement already satisfied: jupyterlab-widgets>=1.0.0 in /usr/local/lib/python3.7/dist-packages (from ipywidgets) (3.0.3)\n",
            "Requirement already satisfied: ipython-genutils~=0.2.0 in /usr/local/lib/python3.7/dist-packages (from ipywidgets) (0.2.0)\n",
            "Requirement already satisfied: widgetsnbextension~=3.6.0 in /usr/local/lib/python3.7/dist-packages (from ipywidgets) (3.6.1)\n",
            "Requirement already satisfied: ipython>=4.0.0 in /usr/local/lib/python3.7/dist-packages (from ipywidgets) (7.9.0)\n",
            "Requirement already satisfied: jupyter-client in /usr/local/lib/python3.7/dist-packages (from ipykernel>=4.5.1->ipywidgets) (6.1.12)\n",
            "Requirement already satisfied: tornado>=4.2 in /usr/local/lib/python3.7/dist-packages (from ipykernel>=4.5.1->ipywidgets) (6.0.4)\n",
            "Requirement already satisfied: pygments in /usr/local/lib/python3.7/dist-packages (from ipython>=4.0.0->ipywidgets) (2.6.1)\n",
            "Requirement already satisfied: prompt-toolkit<2.1.0,>=2.0.0 in /usr/local/lib/python3.7/dist-packages (from ipython>=4.0.0->ipywidgets) (2.0.10)\n",
            "Requirement already satisfied: setuptools>=18.5 in /usr/local/lib/python3.7/dist-packages (from ipython>=4.0.0->ipywidgets) (57.4.0)\n",
            "Collecting jedi>=0.10\n",
            "  Downloading jedi-0.18.2-py2.py3-none-any.whl (1.6 MB)\n",
            "\u001b[K     |████████████████████████████████| 1.6 MB 16.9 MB/s \n",
            "\u001b[?25hRequirement already satisfied: pickleshare in /usr/local/lib/python3.7/dist-packages (from ipython>=4.0.0->ipywidgets) (0.7.5)\n",
            "Requirement already satisfied: backcall in /usr/local/lib/python3.7/dist-packages (from ipython>=4.0.0->ipywidgets) (0.2.0)\n",
            "Requirement already satisfied: pexpect in /usr/local/lib/python3.7/dist-packages (from ipython>=4.0.0->ipywidgets) (4.8.0)\n",
            "Requirement already satisfied: decorator in /usr/local/lib/python3.7/dist-packages (from ipython>=4.0.0->ipywidgets) (4.4.2)\n",
            "Requirement already satisfied: parso<0.9.0,>=0.8.0 in /usr/local/lib/python3.7/dist-packages (from jedi>=0.10->ipython>=4.0.0->ipywidgets) (0.8.3)\n",
            "Requirement already satisfied: wcwidth in /usr/local/lib/python3.7/dist-packages (from prompt-toolkit<2.1.0,>=2.0.0->ipython>=4.0.0->ipywidgets) (0.2.5)\n",
            "Requirement already satisfied: six>=1.9.0 in /usr/local/lib/python3.7/dist-packages (from prompt-toolkit<2.1.0,>=2.0.0->ipython>=4.0.0->ipywidgets) (1.15.0)\n",
            "Requirement already satisfied: notebook>=4.4.1 in /usr/local/lib/python3.7/dist-packages (from widgetsnbextension~=3.6.0->ipywidgets) (5.7.16)\n",
            "Requirement already satisfied: jupyter-core>=4.4.0 in /usr/local/lib/python3.7/dist-packages (from notebook>=4.4.1->widgetsnbextension~=3.6.0->ipywidgets) (4.11.2)\n",
            "Requirement already satisfied: prometheus-client in /usr/local/lib/python3.7/dist-packages (from notebook>=4.4.1->widgetsnbextension~=3.6.0->ipywidgets) (0.15.0)\n",
            "Requirement already satisfied: nbconvert<6.0 in /usr/local/lib/python3.7/dist-packages (from notebook>=4.4.1->widgetsnbextension~=3.6.0->ipywidgets) (5.6.1)\n",
            "Requirement already satisfied: pyzmq>=17 in /usr/local/lib/python3.7/dist-packages (from notebook>=4.4.1->widgetsnbextension~=3.6.0->ipywidgets) (23.2.1)\n",
            "Requirement already satisfied: Send2Trash in /usr/local/lib/python3.7/dist-packages (from notebook>=4.4.1->widgetsnbextension~=3.6.0->ipywidgets) (1.8.0)\n",
            "Requirement already satisfied: terminado>=0.8.1 in /usr/local/lib/python3.7/dist-packages (from notebook>=4.4.1->widgetsnbextension~=3.6.0->ipywidgets) (0.13.3)\n",
            "Requirement already satisfied: jinja2<=3.0.0 in /usr/local/lib/python3.7/dist-packages (from notebook>=4.4.1->widgetsnbextension~=3.6.0->ipywidgets) (2.11.3)\n",
            "Requirement already satisfied: nbformat in /usr/local/lib/python3.7/dist-packages (from notebook>=4.4.1->widgetsnbextension~=3.6.0->ipywidgets) (5.7.0)\n",
            "Requirement already satisfied: MarkupSafe>=0.23 in /usr/local/lib/python3.7/dist-packages (from jinja2<=3.0.0->notebook>=4.4.1->widgetsnbextension~=3.6.0->ipywidgets) (2.0.1)\n",
            "Requirement already satisfied: python-dateutil>=2.1 in /usr/local/lib/python3.7/dist-packages (from jupyter-client->ipykernel>=4.5.1->ipywidgets) (2.8.2)\n",
            "Requirement already satisfied: pandocfilters>=1.4.1 in /usr/local/lib/python3.7/dist-packages (from nbconvert<6.0->notebook>=4.4.1->widgetsnbextension~=3.6.0->ipywidgets) (1.5.0)\n",
            "Requirement already satisfied: defusedxml in /usr/local/lib/python3.7/dist-packages (from nbconvert<6.0->notebook>=4.4.1->widgetsnbextension~=3.6.0->ipywidgets) (0.7.1)\n",
            "Requirement already satisfied: entrypoints>=0.2.2 in /usr/local/lib/python3.7/dist-packages (from nbconvert<6.0->notebook>=4.4.1->widgetsnbextension~=3.6.0->ipywidgets) (0.4)\n",
            "Requirement already satisfied: bleach in /usr/local/lib/python3.7/dist-packages (from nbconvert<6.0->notebook>=4.4.1->widgetsnbextension~=3.6.0->ipywidgets) (5.0.1)\n",
            "Requirement already satisfied: mistune<2,>=0.8.1 in /usr/local/lib/python3.7/dist-packages (from nbconvert<6.0->notebook>=4.4.1->widgetsnbextension~=3.6.0->ipywidgets) (0.8.4)\n",
            "Requirement already satisfied: testpath in /usr/local/lib/python3.7/dist-packages (from nbconvert<6.0->notebook>=4.4.1->widgetsnbextension~=3.6.0->ipywidgets) (0.6.0)\n",
            "Requirement already satisfied: fastjsonschema in /usr/local/lib/python3.7/dist-packages (from nbformat->notebook>=4.4.1->widgetsnbextension~=3.6.0->ipywidgets) (2.16.2)\n",
            "Requirement already satisfied: importlib-metadata>=3.6 in /usr/local/lib/python3.7/dist-packages (from nbformat->notebook>=4.4.1->widgetsnbextension~=3.6.0->ipywidgets) (4.13.0)\n",
            "Requirement already satisfied: jsonschema>=2.6 in /usr/local/lib/python3.7/dist-packages (from nbformat->notebook>=4.4.1->widgetsnbextension~=3.6.0->ipywidgets) (4.3.3)\n",
            "Requirement already satisfied: typing-extensions>=3.6.4 in /usr/local/lib/python3.7/dist-packages (from importlib-metadata>=3.6->nbformat->notebook>=4.4.1->widgetsnbextension~=3.6.0->ipywidgets) (4.1.1)\n",
            "Requirement already satisfied: zipp>=0.5 in /usr/local/lib/python3.7/dist-packages (from importlib-metadata>=3.6->nbformat->notebook>=4.4.1->widgetsnbextension~=3.6.0->ipywidgets) (3.10.0)\n",
            "Requirement already satisfied: pyrsistent!=0.17.0,!=0.17.1,!=0.17.2,>=0.14.0 in /usr/local/lib/python3.7/dist-packages (from jsonschema>=2.6->nbformat->notebook>=4.4.1->widgetsnbextension~=3.6.0->ipywidgets) (0.19.2)\n",
            "Requirement already satisfied: importlib-resources>=1.4.0 in /usr/local/lib/python3.7/dist-packages (from jsonschema>=2.6->nbformat->notebook>=4.4.1->widgetsnbextension~=3.6.0->ipywidgets) (5.10.0)\n",
            "Requirement already satisfied: attrs>=17.4.0 in /usr/local/lib/python3.7/dist-packages (from jsonschema>=2.6->nbformat->notebook>=4.4.1->widgetsnbextension~=3.6.0->ipywidgets) (22.1.0)\n",
            "Requirement already satisfied: ptyprocess in /usr/local/lib/python3.7/dist-packages (from terminado>=0.8.1->notebook>=4.4.1->widgetsnbextension~=3.6.0->ipywidgets) (0.7.0)\n",
            "Requirement already satisfied: webencodings in /usr/local/lib/python3.7/dist-packages (from bleach->nbconvert<6.0->notebook>=4.4.1->widgetsnbextension~=3.6.0->ipywidgets) (0.5.1)\n",
            "Installing collected packages: jedi\n",
            "Successfully installed jedi-0.18.2\n"
          ]
        }
      ],
      "source": [
        "# import the required libraries\n",
        "\n",
        "!pip install catboost\n",
        "!pip install ipywidgets\n",
        "from catboost import CatBoostClassifier\n",
        "\n",
        "from sklearn import tree\n",
        "from sklearn.tree import DecisionTreeClassifier\n",
        "\n",
        "from sklearn.ensemble import RandomForestClassifier, GradientBoostingClassifier\n",
        "\n",
        "from sklearn import neighbors\n",
        "from sklearn.neighbors import KNeighborsClassifier\n",
        "\n",
        "import time"
      ]
    },
    {
      "cell_type": "code",
      "execution_count": null,
      "metadata": {
        "id": "wDBXH_8wcgu0"
      },
      "outputs": [],
      "source": [
        "# declaring the classification models\n",
        "\n",
        "models = [\n",
        "           ['LogisticRegression: ',                     LogisticRegression()],\n",
        "           ['CatBoostClassifier:' ,                     CatBoostClassifier()],\n",
        "           ['DecisionTree: ',                           DecisionTreeClassifier(random_state=42)],\n",
        "           ['RandomForest: ',                           RandomForestClassifier(random_state=42)],\n",
        "           ['GradientBoostingClassifier: ',              GradientBoostingClassifier(random_state=42)],\n",
        "           ['KNeighborsClassifier: ',                   neighbors.KNeighborsClassifier()]\n",
        "]"
      ]
    },
    {
      "cell_type": "code",
      "execution_count": null,
      "metadata": {
        "id": "3VSffn3ZREK6"
      },
      "outputs": [],
      "source": []
    },
    {
      "cell_type": "code",
      "execution_count": null,
      "metadata": {
        "colab": {
          "base_uri": "https://localhost:8080/"
        },
        "id": "ykUPDdYgHkD2",
        "outputId": "bb7a4116-bce9-4d60-bfb9-077791515a9a"
      },
      "outputs": [
        {
          "name": "stdout",
          "output_type": "stream",
          "text": [
            "Learning rate set to 0.118484\n",
            "0:\tlearn: 0.5022413\ttotal: 98.4ms\tremaining: 1m 38s\n",
            "1:\tlearn: 0.4218894\ttotal: 143ms\tremaining: 1m 11s\n",
            "2:\tlearn: 0.3601437\ttotal: 202ms\tremaining: 1m 7s\n",
            "3:\tlearn: 0.3277386\ttotal: 251ms\tremaining: 1m 2s\n",
            "4:\tlearn: 0.3085848\ttotal: 299ms\tremaining: 59.6s\n",
            "5:\tlearn: 0.2969414\ttotal: 348ms\tremaining: 57.7s\n",
            "6:\tlearn: 0.2895744\ttotal: 396ms\tremaining: 56.2s\n",
            "7:\tlearn: 0.2846376\ttotal: 446ms\tremaining: 55.3s\n",
            "8:\tlearn: 0.2810345\ttotal: 494ms\tremaining: 54.4s\n",
            "9:\tlearn: 0.2782518\ttotal: 542ms\tremaining: 53.7s\n",
            "10:\tlearn: 0.2763290\ttotal: 588ms\tremaining: 52.9s\n",
            "11:\tlearn: 0.2748015\ttotal: 635ms\tremaining: 52.3s\n",
            "12:\tlearn: 0.2732998\ttotal: 687ms\tremaining: 52.2s\n",
            "13:\tlearn: 0.2724556\ttotal: 733ms\tremaining: 51.6s\n",
            "14:\tlearn: 0.2717398\ttotal: 785ms\tremaining: 51.5s\n",
            "15:\tlearn: 0.2709665\ttotal: 905ms\tremaining: 55.6s\n",
            "16:\tlearn: 0.2703777\ttotal: 1.03s\tremaining: 59.4s\n",
            "17:\tlearn: 0.2699599\ttotal: 1.1s\tremaining: 59.8s\n",
            "18:\tlearn: 0.2696079\ttotal: 1.15s\tremaining: 59.2s\n",
            "19:\tlearn: 0.2693735\ttotal: 1.19s\tremaining: 58.5s\n",
            "20:\tlearn: 0.2690220\ttotal: 1.24s\tremaining: 57.8s\n",
            "21:\tlearn: 0.2686617\ttotal: 1.29s\tremaining: 57.3s\n",
            "22:\tlearn: 0.2685315\ttotal: 1.33s\tremaining: 56.6s\n",
            "23:\tlearn: 0.2682359\ttotal: 1.38s\tremaining: 56.1s\n",
            "24:\tlearn: 0.2680941\ttotal: 1.43s\tremaining: 55.9s\n",
            "25:\tlearn: 0.2679601\ttotal: 1.48s\tremaining: 55.3s\n",
            "26:\tlearn: 0.2676501\ttotal: 1.52s\tremaining: 54.9s\n",
            "27:\tlearn: 0.2674589\ttotal: 1.57s\tremaining: 54.4s\n",
            "28:\tlearn: 0.2673615\ttotal: 1.62s\tremaining: 54.1s\n",
            "29:\tlearn: 0.2672590\ttotal: 1.66s\tremaining: 53.7s\n",
            "30:\tlearn: 0.2671443\ttotal: 1.71s\tremaining: 53.5s\n",
            "31:\tlearn: 0.2669531\ttotal: 1.76s\tremaining: 53.1s\n",
            "32:\tlearn: 0.2668687\ttotal: 1.8s\tremaining: 52.8s\n",
            "33:\tlearn: 0.2667564\ttotal: 1.85s\tremaining: 52.4s\n",
            "34:\tlearn: 0.2665759\ttotal: 1.89s\tremaining: 52.2s\n",
            "35:\tlearn: 0.2664481\ttotal: 1.95s\tremaining: 52.3s\n",
            "36:\tlearn: 0.2663881\ttotal: 2s\tremaining: 52.1s\n",
            "37:\tlearn: 0.2663790\ttotal: 2.04s\tremaining: 51.7s\n",
            "38:\tlearn: 0.2663153\ttotal: 2.09s\tremaining: 51.4s\n",
            "39:\tlearn: 0.2662285\ttotal: 2.14s\tremaining: 51.3s\n",
            "40:\tlearn: 0.2661422\ttotal: 2.18s\tremaining: 51s\n",
            "41:\tlearn: 0.2660914\ttotal: 2.22s\tremaining: 50.7s\n",
            "42:\tlearn: 0.2660479\ttotal: 2.27s\tremaining: 50.5s\n",
            "43:\tlearn: 0.2659951\ttotal: 2.32s\tremaining: 50.5s\n",
            "44:\tlearn: 0.2659467\ttotal: 2.37s\tremaining: 50.3s\n",
            "45:\tlearn: 0.2658574\ttotal: 2.42s\tremaining: 50.2s\n",
            "46:\tlearn: 0.2658122\ttotal: 2.47s\tremaining: 50s\n",
            "47:\tlearn: 0.2657079\ttotal: 2.51s\tremaining: 49.9s\n",
            "48:\tlearn: 0.2656597\ttotal: 2.56s\tremaining: 49.7s\n",
            "49:\tlearn: 0.2656016\ttotal: 2.61s\tremaining: 49.7s\n",
            "50:\tlearn: 0.2655322\ttotal: 2.67s\tremaining: 49.6s\n",
            "51:\tlearn: 0.2655014\ttotal: 2.71s\tremaining: 49.4s\n",
            "52:\tlearn: 0.2654524\ttotal: 2.75s\tremaining: 49.2s\n",
            "53:\tlearn: 0.2654118\ttotal: 2.8s\tremaining: 49.1s\n",
            "54:\tlearn: 0.2653657\ttotal: 2.85s\tremaining: 48.9s\n",
            "55:\tlearn: 0.2653038\ttotal: 2.89s\tremaining: 48.8s\n",
            "56:\tlearn: 0.2652673\ttotal: 2.95s\tremaining: 48.8s\n",
            "57:\tlearn: 0.2652407\ttotal: 2.99s\tremaining: 48.6s\n",
            "58:\tlearn: 0.2651846\ttotal: 3.04s\tremaining: 48.5s\n",
            "59:\tlearn: 0.2651574\ttotal: 3.09s\tremaining: 48.4s\n",
            "60:\tlearn: 0.2650999\ttotal: 3.13s\tremaining: 48.2s\n",
            "61:\tlearn: 0.2650756\ttotal: 3.18s\tremaining: 48.1s\n",
            "62:\tlearn: 0.2650510\ttotal: 3.22s\tremaining: 48s\n",
            "63:\tlearn: 0.2649767\ttotal: 3.28s\tremaining: 48s\n",
            "64:\tlearn: 0.2649227\ttotal: 3.33s\tremaining: 47.9s\n",
            "65:\tlearn: 0.2648942\ttotal: 3.37s\tremaining: 47.7s\n",
            "66:\tlearn: 0.2648558\ttotal: 3.41s\tremaining: 47.6s\n",
            "67:\tlearn: 0.2647969\ttotal: 3.46s\tremaining: 47.5s\n",
            "68:\tlearn: 0.2647655\ttotal: 3.51s\tremaining: 47.4s\n",
            "69:\tlearn: 0.2647254\ttotal: 3.55s\tremaining: 47.2s\n",
            "70:\tlearn: 0.2646969\ttotal: 3.6s\tremaining: 47.1s\n",
            "71:\tlearn: 0.2646361\ttotal: 3.65s\tremaining: 47s\n",
            "72:\tlearn: 0.2646019\ttotal: 3.69s\tremaining: 46.9s\n",
            "73:\tlearn: 0.2645660\ttotal: 3.74s\tremaining: 46.8s\n",
            "74:\tlearn: 0.2645393\ttotal: 3.79s\tremaining: 46.7s\n",
            "75:\tlearn: 0.2645087\ttotal: 3.83s\tremaining: 46.6s\n",
            "76:\tlearn: 0.2644866\ttotal: 3.88s\tremaining: 46.5s\n",
            "77:\tlearn: 0.2644518\ttotal: 3.92s\tremaining: 46.4s\n",
            "78:\tlearn: 0.2644225\ttotal: 3.98s\tremaining: 46.4s\n",
            "79:\tlearn: 0.2643891\ttotal: 4.02s\tremaining: 46.3s\n",
            "80:\tlearn: 0.2643598\ttotal: 4.07s\tremaining: 46.2s\n",
            "81:\tlearn: 0.2643279\ttotal: 4.11s\tremaining: 46.1s\n",
            "82:\tlearn: 0.2643064\ttotal: 4.16s\tremaining: 45.9s\n",
            "83:\tlearn: 0.2642769\ttotal: 4.21s\tremaining: 45.9s\n",
            "84:\tlearn: 0.2642437\ttotal: 4.26s\tremaining: 45.8s\n",
            "85:\tlearn: 0.2642154\ttotal: 4.31s\tremaining: 45.8s\n",
            "86:\tlearn: 0.2641952\ttotal: 4.35s\tremaining: 45.7s\n",
            "87:\tlearn: 0.2641773\ttotal: 4.4s\tremaining: 45.6s\n",
            "88:\tlearn: 0.2641450\ttotal: 4.45s\tremaining: 45.6s\n",
            "89:\tlearn: 0.2641075\ttotal: 4.5s\tremaining: 45.5s\n",
            "90:\tlearn: 0.2640778\ttotal: 4.62s\tremaining: 46.2s\n",
            "91:\tlearn: 0.2640538\ttotal: 4.74s\tremaining: 46.7s\n",
            "92:\tlearn: 0.2640347\ttotal: 4.85s\tremaining: 47.3s\n",
            "93:\tlearn: 0.2640030\ttotal: 4.97s\tremaining: 47.9s\n",
            "94:\tlearn: 0.2639710\ttotal: 5.08s\tremaining: 48.4s\n",
            "95:\tlearn: 0.2639509\ttotal: 5.21s\tremaining: 49.1s\n",
            "96:\tlearn: 0.2639026\ttotal: 5.31s\tremaining: 49.4s\n",
            "97:\tlearn: 0.2638830\ttotal: 5.4s\tremaining: 49.7s\n",
            "98:\tlearn: 0.2638664\ttotal: 5.51s\tremaining: 50.1s\n",
            "99:\tlearn: 0.2638406\ttotal: 5.59s\tremaining: 50.3s\n",
            "100:\tlearn: 0.2638174\ttotal: 5.71s\tremaining: 50.8s\n",
            "101:\tlearn: 0.2637849\ttotal: 5.86s\tremaining: 51.6s\n",
            "102:\tlearn: 0.2637661\ttotal: 5.96s\tremaining: 51.9s\n",
            "103:\tlearn: 0.2637544\ttotal: 6.11s\tremaining: 52.6s\n",
            "104:\tlearn: 0.2637341\ttotal: 6.21s\tremaining: 53s\n",
            "105:\tlearn: 0.2637123\ttotal: 6.32s\tremaining: 53.3s\n",
            "106:\tlearn: 0.2636974\ttotal: 6.4s\tremaining: 53.4s\n",
            "107:\tlearn: 0.2636730\ttotal: 6.52s\tremaining: 53.8s\n",
            "108:\tlearn: 0.2636497\ttotal: 6.62s\tremaining: 54.1s\n",
            "109:\tlearn: 0.2636106\ttotal: 6.73s\tremaining: 54.4s\n",
            "110:\tlearn: 0.2635800\ttotal: 6.86s\tremaining: 54.9s\n",
            "111:\tlearn: 0.2635596\ttotal: 7s\tremaining: 55.5s\n",
            "112:\tlearn: 0.2635349\ttotal: 7.11s\tremaining: 55.8s\n",
            "113:\tlearn: 0.2635075\ttotal: 7.23s\tremaining: 56.2s\n",
            "114:\tlearn: 0.2634841\ttotal: 7.35s\tremaining: 56.5s\n",
            "115:\tlearn: 0.2634642\ttotal: 7.51s\tremaining: 57.2s\n",
            "116:\tlearn: 0.2634452\ttotal: 7.63s\tremaining: 57.6s\n",
            "117:\tlearn: 0.2634135\ttotal: 7.77s\tremaining: 58.1s\n",
            "118:\tlearn: 0.2633850\ttotal: 7.92s\tremaining: 58.6s\n",
            "119:\tlearn: 0.2633553\ttotal: 8.06s\tremaining: 59.1s\n",
            "120:\tlearn: 0.2633317\ttotal: 8.16s\tremaining: 59.3s\n",
            "121:\tlearn: 0.2633080\ttotal: 8.25s\tremaining: 59.4s\n",
            "122:\tlearn: 0.2632816\ttotal: 8.4s\tremaining: 59.9s\n",
            "123:\tlearn: 0.2632582\ttotal: 8.49s\tremaining: 60s\n",
            "124:\tlearn: 0.2632272\ttotal: 8.63s\tremaining: 1m\n",
            "125:\tlearn: 0.2631997\ttotal: 8.77s\tremaining: 1m\n",
            "126:\tlearn: 0.2631782\ttotal: 8.93s\tremaining: 1m 1s\n",
            "127:\tlearn: 0.2631560\ttotal: 9.04s\tremaining: 1m 1s\n",
            "128:\tlearn: 0.2631286\ttotal: 9.19s\tremaining: 1m 2s\n",
            "129:\tlearn: 0.2631037\ttotal: 9.32s\tremaining: 1m 2s\n",
            "130:\tlearn: 0.2630813\ttotal: 9.4s\tremaining: 1m 2s\n",
            "131:\tlearn: 0.2630534\ttotal: 9.52s\tremaining: 1m 2s\n",
            "132:\tlearn: 0.2630247\ttotal: 9.64s\tremaining: 1m 2s\n",
            "133:\tlearn: 0.2630031\ttotal: 9.77s\tremaining: 1m 3s\n",
            "134:\tlearn: 0.2629750\ttotal: 9.92s\tremaining: 1m 3s\n",
            "135:\tlearn: 0.2629609\ttotal: 10.1s\tremaining: 1m 4s\n",
            "136:\tlearn: 0.2629311\ttotal: 10.2s\tremaining: 1m 4s\n",
            "137:\tlearn: 0.2629102\ttotal: 10.4s\tremaining: 1m 5s\n",
            "138:\tlearn: 0.2628934\ttotal: 10.6s\tremaining: 1m 5s\n",
            "139:\tlearn: 0.2628703\ttotal: 10.7s\tremaining: 1m 5s\n",
            "140:\tlearn: 0.2628431\ttotal: 10.9s\tremaining: 1m 6s\n",
            "141:\tlearn: 0.2628171\ttotal: 11s\tremaining: 1m 6s\n",
            "142:\tlearn: 0.2627952\ttotal: 11.1s\tremaining: 1m 6s\n",
            "143:\tlearn: 0.2627767\ttotal: 11.3s\tremaining: 1m 6s\n",
            "144:\tlearn: 0.2627555\ttotal: 11.4s\tremaining: 1m 7s\n",
            "145:\tlearn: 0.2627320\ttotal: 11.5s\tremaining: 1m 7s\n",
            "146:\tlearn: 0.2626973\ttotal: 11.7s\tremaining: 1m 7s\n",
            "147:\tlearn: 0.2626734\ttotal: 11.8s\tremaining: 1m 7s\n",
            "148:\tlearn: 0.2626485\ttotal: 11.9s\tremaining: 1m 8s\n",
            "149:\tlearn: 0.2626197\ttotal: 12s\tremaining: 1m 8s\n",
            "150:\tlearn: 0.2625935\ttotal: 12.2s\tremaining: 1m 8s\n",
            "151:\tlearn: 0.2625705\ttotal: 12.3s\tremaining: 1m 8s\n",
            "152:\tlearn: 0.2625483\ttotal: 12.4s\tremaining: 1m 8s\n",
            "153:\tlearn: 0.2625275\ttotal: 12.5s\tremaining: 1m 8s\n",
            "154:\tlearn: 0.2625039\ttotal: 12.6s\tremaining: 1m 8s\n",
            "155:\tlearn: 0.2624772\ttotal: 12.8s\tremaining: 1m 9s\n",
            "156:\tlearn: 0.2624512\ttotal: 12.8s\tremaining: 1m 8s\n",
            "157:\tlearn: 0.2624396\ttotal: 12.9s\tremaining: 1m 8s\n",
            "158:\tlearn: 0.2624218\ttotal: 13s\tremaining: 1m 9s\n",
            "159:\tlearn: 0.2624072\ttotal: 13.2s\tremaining: 1m 9s\n",
            "160:\tlearn: 0.2623866\ttotal: 13.3s\tremaining: 1m 9s\n",
            "161:\tlearn: 0.2623616\ttotal: 13.4s\tremaining: 1m 9s\n",
            "162:\tlearn: 0.2623411\ttotal: 13.5s\tremaining: 1m 9s\n",
            "163:\tlearn: 0.2623203\ttotal: 13.6s\tremaining: 1m 9s\n",
            "164:\tlearn: 0.2622992\ttotal: 13.8s\tremaining: 1m 9s\n",
            "165:\tlearn: 0.2622761\ttotal: 13.8s\tremaining: 1m 9s\n",
            "166:\tlearn: 0.2622598\ttotal: 14s\tremaining: 1m 9s\n",
            "167:\tlearn: 0.2622364\ttotal: 14.1s\tremaining: 1m 9s\n",
            "168:\tlearn: 0.2622211\ttotal: 14.2s\tremaining: 1m 9s\n",
            "169:\tlearn: 0.2622038\ttotal: 14.3s\tremaining: 1m 9s\n",
            "170:\tlearn: 0.2621864\ttotal: 14.4s\tremaining: 1m 10s\n",
            "171:\tlearn: 0.2621663\ttotal: 14.6s\tremaining: 1m 10s\n",
            "172:\tlearn: 0.2621495\ttotal: 14.7s\tremaining: 1m 10s\n",
            "173:\tlearn: 0.2621296\ttotal: 14.8s\tremaining: 1m 10s\n",
            "174:\tlearn: 0.2621010\ttotal: 14.9s\tremaining: 1m 10s\n",
            "175:\tlearn: 0.2620747\ttotal: 15.1s\tremaining: 1m 10s\n",
            "176:\tlearn: 0.2620524\ttotal: 15.2s\tremaining: 1m 10s\n",
            "177:\tlearn: 0.2620328\ttotal: 15.3s\tremaining: 1m 10s\n",
            "178:\tlearn: 0.2620134\ttotal: 15.4s\tremaining: 1m 10s\n",
            "179:\tlearn: 0.2619931\ttotal: 15.6s\tremaining: 1m 11s\n",
            "180:\tlearn: 0.2619706\ttotal: 15.7s\tremaining: 1m 11s\n",
            "181:\tlearn: 0.2619509\ttotal: 15.8s\tremaining: 1m 11s\n",
            "182:\tlearn: 0.2619303\ttotal: 16s\tremaining: 1m 11s\n",
            "183:\tlearn: 0.2619110\ttotal: 16.1s\tremaining: 1m 11s\n",
            "184:\tlearn: 0.2618835\ttotal: 16.2s\tremaining: 1m 11s\n",
            "185:\tlearn: 0.2618605\ttotal: 16.3s\tremaining: 1m 11s\n",
            "186:\tlearn: 0.2618286\ttotal: 16.4s\tremaining: 1m 11s\n",
            "187:\tlearn: 0.2617995\ttotal: 16.6s\tremaining: 1m 11s\n",
            "188:\tlearn: 0.2617840\ttotal: 16.7s\tremaining: 1m 11s\n",
            "189:\tlearn: 0.2617650\ttotal: 16.8s\tremaining: 1m 11s\n",
            "190:\tlearn: 0.2617489\ttotal: 16.9s\tremaining: 1m 11s\n",
            "191:\tlearn: 0.2617327\ttotal: 17.1s\tremaining: 1m 11s\n",
            "192:\tlearn: 0.2617113\ttotal: 17.2s\tremaining: 1m 11s\n",
            "193:\tlearn: 0.2616936\ttotal: 17.3s\tremaining: 1m 11s\n",
            "194:\tlearn: 0.2616722\ttotal: 17.4s\tremaining: 1m 11s\n",
            "195:\tlearn: 0.2616512\ttotal: 17.6s\tremaining: 1m 12s\n",
            "196:\tlearn: 0.2616301\ttotal: 17.7s\tremaining: 1m 12s\n",
            "197:\tlearn: 0.2616159\ttotal: 17.8s\tremaining: 1m 12s\n",
            "198:\tlearn: 0.2615994\ttotal: 17.9s\tremaining: 1m 12s\n",
            "199:\tlearn: 0.2615753\ttotal: 18s\tremaining: 1m 11s\n",
            "200:\tlearn: 0.2615505\ttotal: 18.1s\tremaining: 1m 12s\n",
            "201:\tlearn: 0.2615328\ttotal: 18.2s\tremaining: 1m 12s\n",
            "202:\tlearn: 0.2615147\ttotal: 18.4s\tremaining: 1m 12s\n",
            "203:\tlearn: 0.2614956\ttotal: 18.5s\tremaining: 1m 12s\n",
            "204:\tlearn: 0.2614805\ttotal: 18.6s\tremaining: 1m 12s\n",
            "205:\tlearn: 0.2614573\ttotal: 18.7s\tremaining: 1m 12s\n",
            "206:\tlearn: 0.2614252\ttotal: 18.8s\tremaining: 1m 11s\n",
            "207:\tlearn: 0.2614093\ttotal: 18.9s\tremaining: 1m 11s\n",
            "208:\tlearn: 0.2613887\ttotal: 19s\tremaining: 1m 11s\n",
            "209:\tlearn: 0.2613734\ttotal: 19s\tremaining: 1m 11s\n",
            "210:\tlearn: 0.2613507\ttotal: 19.1s\tremaining: 1m 11s\n",
            "211:\tlearn: 0.2613343\ttotal: 19.2s\tremaining: 1m 11s\n",
            "212:\tlearn: 0.2613181\ttotal: 19.4s\tremaining: 1m 11s\n",
            "213:\tlearn: 0.2612948\ttotal: 19.5s\tremaining: 1m 11s\n",
            "214:\tlearn: 0.2612752\ttotal: 19.6s\tremaining: 1m 11s\n",
            "215:\tlearn: 0.2612617\ttotal: 19.7s\tremaining: 1m 11s\n",
            "216:\tlearn: 0.2612381\ttotal: 19.8s\tremaining: 1m 11s\n",
            "217:\tlearn: 0.2612153\ttotal: 20s\tremaining: 1m 11s\n",
            "218:\tlearn: 0.2611826\ttotal: 20.1s\tremaining: 1m 11s\n",
            "219:\tlearn: 0.2611691\ttotal: 20.2s\tremaining: 1m 11s\n",
            "220:\tlearn: 0.2611499\ttotal: 20.3s\tremaining: 1m 11s\n",
            "221:\tlearn: 0.2611350\ttotal: 20.4s\tremaining: 1m 11s\n",
            "222:\tlearn: 0.2611218\ttotal: 20.7s\tremaining: 1m 11s\n",
            "223:\tlearn: 0.2611002\ttotal: 20.8s\tremaining: 1m 12s\n",
            "224:\tlearn: 0.2610839\ttotal: 21s\tremaining: 1m 12s\n",
            "225:\tlearn: 0.2610650\ttotal: 21.2s\tremaining: 1m 12s\n",
            "226:\tlearn: 0.2610387\ttotal: 21.4s\tremaining: 1m 12s\n",
            "227:\tlearn: 0.2610203\ttotal: 21.5s\tremaining: 1m 12s\n",
            "228:\tlearn: 0.2609987\ttotal: 21.7s\tremaining: 1m 12s\n",
            "229:\tlearn: 0.2609810\ttotal: 21.8s\tremaining: 1m 12s\n",
            "230:\tlearn: 0.2609604\ttotal: 21.8s\tremaining: 1m 12s\n",
            "231:\tlearn: 0.2609489\ttotal: 22s\tremaining: 1m 12s\n",
            "232:\tlearn: 0.2609381\ttotal: 22.2s\tremaining: 1m 12s\n",
            "233:\tlearn: 0.2609138\ttotal: 22.3s\tremaining: 1m 13s\n",
            "234:\tlearn: 0.2608908\ttotal: 22.5s\tremaining: 1m 13s\n",
            "235:\tlearn: 0.2608679\ttotal: 22.6s\tremaining: 1m 13s\n",
            "236:\tlearn: 0.2608484\ttotal: 22.7s\tremaining: 1m 13s\n",
            "237:\tlearn: 0.2608351\ttotal: 22.8s\tremaining: 1m 13s\n",
            "238:\tlearn: 0.2608120\ttotal: 23s\tremaining: 1m 13s\n",
            "239:\tlearn: 0.2608008\ttotal: 23.1s\tremaining: 1m 13s\n",
            "240:\tlearn: 0.2607751\ttotal: 23.3s\tremaining: 1m 13s\n",
            "241:\tlearn: 0.2607569\ttotal: 23.4s\tremaining: 1m 13s\n",
            "242:\tlearn: 0.2607310\ttotal: 23.5s\tremaining: 1m 13s\n",
            "243:\tlearn: 0.2607120\ttotal: 23.6s\tremaining: 1m 13s\n",
            "244:\tlearn: 0.2606945\ttotal: 23.7s\tremaining: 1m 13s\n",
            "245:\tlearn: 0.2606752\ttotal: 23.9s\tremaining: 1m 13s\n",
            "246:\tlearn: 0.2606587\ttotal: 24s\tremaining: 1m 13s\n",
            "247:\tlearn: 0.2606423\ttotal: 24.1s\tremaining: 1m 13s\n",
            "248:\tlearn: 0.2606210\ttotal: 24.3s\tremaining: 1m 13s\n",
            "249:\tlearn: 0.2606108\ttotal: 24.4s\tremaining: 1m 13s\n",
            "250:\tlearn: 0.2605938\ttotal: 24.6s\tremaining: 1m 13s\n",
            "251:\tlearn: 0.2605845\ttotal: 24.7s\tremaining: 1m 13s\n",
            "252:\tlearn: 0.2605705\ttotal: 24.8s\tremaining: 1m 13s\n",
            "253:\tlearn: 0.2605515\ttotal: 24.9s\tremaining: 1m 13s\n",
            "254:\tlearn: 0.2605380\ttotal: 25s\tremaining: 1m 13s\n",
            "255:\tlearn: 0.2605126\ttotal: 25.1s\tremaining: 1m 13s\n",
            "256:\tlearn: 0.2604980\ttotal: 25.3s\tremaining: 1m 13s\n",
            "257:\tlearn: 0.2604819\ttotal: 25.4s\tremaining: 1m 13s\n",
            "258:\tlearn: 0.2604644\ttotal: 25.5s\tremaining: 1m 13s\n",
            "259:\tlearn: 0.2604526\ttotal: 25.6s\tremaining: 1m 12s\n",
            "260:\tlearn: 0.2604364\ttotal: 25.7s\tremaining: 1m 12s\n",
            "261:\tlearn: 0.2604236\ttotal: 25.8s\tremaining: 1m 12s\n",
            "262:\tlearn: 0.2604027\ttotal: 26s\tremaining: 1m 12s\n",
            "263:\tlearn: 0.2603788\ttotal: 26.1s\tremaining: 1m 12s\n",
            "264:\tlearn: 0.2603598\ttotal: 26.2s\tremaining: 1m 12s\n",
            "265:\tlearn: 0.2603439\ttotal: 26.4s\tremaining: 1m 12s\n",
            "266:\tlearn: 0.2603249\ttotal: 26.5s\tremaining: 1m 12s\n",
            "267:\tlearn: 0.2603036\ttotal: 26.7s\tremaining: 1m 12s\n",
            "268:\tlearn: 0.2602860\ttotal: 26.8s\tremaining: 1m 12s\n",
            "269:\tlearn: 0.2602661\ttotal: 27s\tremaining: 1m 12s\n",
            "270:\tlearn: 0.2602493\ttotal: 27.1s\tremaining: 1m 12s\n",
            "271:\tlearn: 0.2602345\ttotal: 27.2s\tremaining: 1m 12s\n",
            "272:\tlearn: 0.2602191\ttotal: 27.2s\tremaining: 1m 12s\n",
            "273:\tlearn: 0.2602028\ttotal: 27.3s\tremaining: 1m 12s\n",
            "274:\tlearn: 0.2601869\ttotal: 27.3s\tremaining: 1m 12s\n",
            "275:\tlearn: 0.2601623\ttotal: 27.4s\tremaining: 1m 11s\n",
            "276:\tlearn: 0.2601450\ttotal: 27.4s\tremaining: 1m 11s\n",
            "277:\tlearn: 0.2601297\ttotal: 27.5s\tremaining: 1m 11s\n",
            "278:\tlearn: 0.2601133\ttotal: 27.5s\tremaining: 1m 11s\n",
            "279:\tlearn: 0.2600932\ttotal: 27.6s\tremaining: 1m 10s\n",
            "280:\tlearn: 0.2600675\ttotal: 27.6s\tremaining: 1m 10s\n",
            "281:\tlearn: 0.2600549\ttotal: 27.7s\tremaining: 1m 10s\n",
            "282:\tlearn: 0.2600376\ttotal: 27.7s\tremaining: 1m 10s\n",
            "283:\tlearn: 0.2600204\ttotal: 27.8s\tremaining: 1m 10s\n",
            "284:\tlearn: 0.2600067\ttotal: 27.8s\tremaining: 1m 9s\n",
            "285:\tlearn: 0.2599909\ttotal: 27.9s\tremaining: 1m 9s\n",
            "286:\tlearn: 0.2599758\ttotal: 27.9s\tremaining: 1m 9s\n",
            "287:\tlearn: 0.2599664\ttotal: 28s\tremaining: 1m 9s\n",
            "288:\tlearn: 0.2599499\ttotal: 28s\tremaining: 1m 8s\n",
            "289:\tlearn: 0.2599282\ttotal: 28.1s\tremaining: 1m 8s\n",
            "290:\tlearn: 0.2599166\ttotal: 28.1s\tremaining: 1m 8s\n",
            "291:\tlearn: 0.2598963\ttotal: 28.1s\tremaining: 1m 8s\n",
            "292:\tlearn: 0.2598837\ttotal: 28.2s\tremaining: 1m 8s\n",
            "293:\tlearn: 0.2598682\ttotal: 28.2s\tremaining: 1m 7s\n",
            "294:\tlearn: 0.2598612\ttotal: 28.3s\tremaining: 1m 7s\n",
            "295:\tlearn: 0.2598473\ttotal: 28.3s\tremaining: 1m 7s\n",
            "296:\tlearn: 0.2598347\ttotal: 28.4s\tremaining: 1m 7s\n",
            "297:\tlearn: 0.2598130\ttotal: 28.4s\tremaining: 1m 6s\n",
            "298:\tlearn: 0.2597944\ttotal: 28.5s\tremaining: 1m 6s\n",
            "299:\tlearn: 0.2597714\ttotal: 28.5s\tremaining: 1m 6s\n",
            "300:\tlearn: 0.2597529\ttotal: 28.6s\tremaining: 1m 6s\n",
            "301:\tlearn: 0.2597396\ttotal: 28.6s\tremaining: 1m 6s\n",
            "302:\tlearn: 0.2597256\ttotal: 28.7s\tremaining: 1m 5s\n",
            "303:\tlearn: 0.2597121\ttotal: 28.7s\tremaining: 1m 5s\n",
            "304:\tlearn: 0.2596998\ttotal: 28.8s\tremaining: 1m 5s\n",
            "305:\tlearn: 0.2596882\ttotal: 28.8s\tremaining: 1m 5s\n",
            "306:\tlearn: 0.2596717\ttotal: 28.9s\tremaining: 1m 5s\n",
            "307:\tlearn: 0.2596579\ttotal: 28.9s\tremaining: 1m 4s\n",
            "308:\tlearn: 0.2596373\ttotal: 29s\tremaining: 1m 4s\n",
            "309:\tlearn: 0.2596145\ttotal: 29s\tremaining: 1m 4s\n",
            "310:\tlearn: 0.2595972\ttotal: 29s\tremaining: 1m 4s\n",
            "311:\tlearn: 0.2595801\ttotal: 29.1s\tremaining: 1m 4s\n",
            "312:\tlearn: 0.2595631\ttotal: 29.2s\tremaining: 1m 4s\n",
            "313:\tlearn: 0.2595436\ttotal: 29.2s\tremaining: 1m 3s\n",
            "314:\tlearn: 0.2595259\ttotal: 29.3s\tremaining: 1m 3s\n",
            "315:\tlearn: 0.2595121\ttotal: 29.3s\tremaining: 1m 3s\n",
            "316:\tlearn: 0.2594955\ttotal: 29.4s\tremaining: 1m 3s\n",
            "317:\tlearn: 0.2594748\ttotal: 29.4s\tremaining: 1m 3s\n",
            "318:\tlearn: 0.2594544\ttotal: 29.5s\tremaining: 1m 2s\n",
            "319:\tlearn: 0.2594353\ttotal: 29.5s\tremaining: 1m 2s\n",
            "320:\tlearn: 0.2594200\ttotal: 29.6s\tremaining: 1m 2s\n",
            "321:\tlearn: 0.2593996\ttotal: 29.6s\tremaining: 1m 2s\n",
            "322:\tlearn: 0.2593883\ttotal: 29.6s\tremaining: 1m 2s\n",
            "323:\tlearn: 0.2593706\ttotal: 29.7s\tremaining: 1m 1s\n",
            "324:\tlearn: 0.2593594\ttotal: 29.7s\tremaining: 1m 1s\n",
            "325:\tlearn: 0.2593471\ttotal: 29.8s\tremaining: 1m 1s\n",
            "326:\tlearn: 0.2593290\ttotal: 29.8s\tremaining: 1m 1s\n",
            "327:\tlearn: 0.2593107\ttotal: 29.9s\tremaining: 1m 1s\n",
            "328:\tlearn: 0.2593019\ttotal: 29.9s\tremaining: 1m 1s\n",
            "329:\tlearn: 0.2592874\ttotal: 30s\tremaining: 1m\n",
            "330:\tlearn: 0.2592740\ttotal: 30s\tremaining: 1m\n",
            "331:\tlearn: 0.2592608\ttotal: 30.1s\tremaining: 1m\n",
            "332:\tlearn: 0.2592425\ttotal: 30.1s\tremaining: 1m\n",
            "333:\tlearn: 0.2592249\ttotal: 30.2s\tremaining: 1m\n",
            "334:\tlearn: 0.2592075\ttotal: 30.2s\tremaining: 59.9s\n",
            "335:\tlearn: 0.2591893\ttotal: 30.2s\tremaining: 59.8s\n",
            "336:\tlearn: 0.2591760\ttotal: 30.3s\tremaining: 59.6s\n",
            "337:\tlearn: 0.2591647\ttotal: 30.3s\tremaining: 59.4s\n",
            "338:\tlearn: 0.2591474\ttotal: 30.4s\tremaining: 59.2s\n",
            "339:\tlearn: 0.2591303\ttotal: 30.4s\tremaining: 59.1s\n",
            "340:\tlearn: 0.2591143\ttotal: 30.5s\tremaining: 58.9s\n",
            "341:\tlearn: 0.2590955\ttotal: 30.5s\tremaining: 58.7s\n",
            "342:\tlearn: 0.2590751\ttotal: 30.6s\tremaining: 58.6s\n",
            "343:\tlearn: 0.2590616\ttotal: 30.6s\tremaining: 58.4s\n",
            "344:\tlearn: 0.2590481\ttotal: 30.7s\tremaining: 58.2s\n",
            "345:\tlearn: 0.2590294\ttotal: 30.7s\tremaining: 58.1s\n",
            "346:\tlearn: 0.2590117\ttotal: 30.8s\tremaining: 57.9s\n",
            "347:\tlearn: 0.2589924\ttotal: 30.8s\tremaining: 57.7s\n",
            "348:\tlearn: 0.2589829\ttotal: 30.9s\tremaining: 57.6s\n",
            "349:\tlearn: 0.2589679\ttotal: 30.9s\tremaining: 57.4s\n",
            "350:\tlearn: 0.2589550\ttotal: 30.9s\tremaining: 57.2s\n",
            "351:\tlearn: 0.2589453\ttotal: 31s\tremaining: 57.1s\n",
            "352:\tlearn: 0.2589329\ttotal: 31s\tremaining: 56.9s\n",
            "353:\tlearn: 0.2589121\ttotal: 31.1s\tremaining: 56.7s\n",
            "354:\tlearn: 0.2589009\ttotal: 31.1s\tremaining: 56.5s\n",
            "355:\tlearn: 0.2588801\ttotal: 31.2s\tremaining: 56.4s\n",
            "356:\tlearn: 0.2588639\ttotal: 31.2s\tremaining: 56.2s\n",
            "357:\tlearn: 0.2588474\ttotal: 31.3s\tremaining: 56.1s\n",
            "358:\tlearn: 0.2588191\ttotal: 31.3s\tremaining: 55.9s\n",
            "359:\tlearn: 0.2588053\ttotal: 31.4s\tremaining: 55.7s\n",
            "360:\tlearn: 0.2587941\ttotal: 31.4s\tremaining: 55.6s\n",
            "361:\tlearn: 0.2587779\ttotal: 31.5s\tremaining: 55.4s\n",
            "362:\tlearn: 0.2587609\ttotal: 31.5s\tremaining: 55.3s\n",
            "363:\tlearn: 0.2587534\ttotal: 31.5s\tremaining: 55.1s\n",
            "364:\tlearn: 0.2587417\ttotal: 31.6s\tremaining: 55s\n",
            "365:\tlearn: 0.2587252\ttotal: 31.6s\tremaining: 54.8s\n",
            "366:\tlearn: 0.2587101\ttotal: 31.7s\tremaining: 54.6s\n",
            "367:\tlearn: 0.2586951\ttotal: 31.7s\tremaining: 54.5s\n",
            "368:\tlearn: 0.2586798\ttotal: 31.8s\tremaining: 54.3s\n",
            "369:\tlearn: 0.2586659\ttotal: 31.8s\tremaining: 54.2s\n",
            "370:\tlearn: 0.2586502\ttotal: 31.9s\tremaining: 54s\n",
            "371:\tlearn: 0.2586379\ttotal: 31.9s\tremaining: 53.9s\n",
            "372:\tlearn: 0.2586246\ttotal: 32s\tremaining: 53.7s\n",
            "373:\tlearn: 0.2586124\ttotal: 32s\tremaining: 53.6s\n",
            "374:\tlearn: 0.2585992\ttotal: 32.1s\tremaining: 53.4s\n",
            "375:\tlearn: 0.2585872\ttotal: 32.1s\tremaining: 53.3s\n",
            "376:\tlearn: 0.2585653\ttotal: 32.2s\tremaining: 53.1s\n",
            "377:\tlearn: 0.2585443\ttotal: 32.2s\tremaining: 53s\n",
            "378:\tlearn: 0.2585313\ttotal: 32.2s\tremaining: 52.8s\n",
            "379:\tlearn: 0.2585138\ttotal: 32.3s\tremaining: 52.7s\n",
            "380:\tlearn: 0.2584917\ttotal: 32.3s\tremaining: 52.5s\n",
            "381:\tlearn: 0.2584753\ttotal: 32.4s\tremaining: 52.4s\n",
            "382:\tlearn: 0.2584598\ttotal: 32.4s\tremaining: 52.3s\n",
            "383:\tlearn: 0.2584419\ttotal: 32.5s\tremaining: 52.1s\n",
            "384:\tlearn: 0.2584252\ttotal: 32.5s\tremaining: 52s\n",
            "385:\tlearn: 0.2584071\ttotal: 32.6s\tremaining: 51.8s\n",
            "386:\tlearn: 0.2583937\ttotal: 32.6s\tremaining: 51.7s\n",
            "387:\tlearn: 0.2583825\ttotal: 32.7s\tremaining: 51.5s\n",
            "388:\tlearn: 0.2583698\ttotal: 32.7s\tremaining: 51.4s\n",
            "389:\tlearn: 0.2583554\ttotal: 32.8s\tremaining: 51.3s\n",
            "390:\tlearn: 0.2583417\ttotal: 32.8s\tremaining: 51.1s\n",
            "391:\tlearn: 0.2583268\ttotal: 32.9s\tremaining: 51s\n",
            "392:\tlearn: 0.2583087\ttotal: 32.9s\tremaining: 50.8s\n",
            "393:\tlearn: 0.2583017\ttotal: 33s\tremaining: 50.7s\n",
            "394:\tlearn: 0.2582836\ttotal: 33s\tremaining: 50.5s\n",
            "395:\tlearn: 0.2582683\ttotal: 33s\tremaining: 50.4s\n",
            "396:\tlearn: 0.2582553\ttotal: 33.1s\tremaining: 50.3s\n",
            "397:\tlearn: 0.2582472\ttotal: 33.1s\tremaining: 50.1s\n",
            "398:\tlearn: 0.2582333\ttotal: 33.2s\tremaining: 50s\n",
            "399:\tlearn: 0.2582199\ttotal: 33.2s\tremaining: 49.9s\n",
            "400:\tlearn: 0.2582052\ttotal: 33.3s\tremaining: 49.7s\n",
            "401:\tlearn: 0.2581909\ttotal: 33.3s\tremaining: 49.6s\n",
            "402:\tlearn: 0.2581725\ttotal: 33.4s\tremaining: 49.5s\n",
            "403:\tlearn: 0.2581518\ttotal: 33.4s\tremaining: 49.3s\n",
            "404:\tlearn: 0.2581364\ttotal: 33.5s\tremaining: 49.2s\n",
            "405:\tlearn: 0.2581117\ttotal: 33.5s\tremaining: 49s\n",
            "406:\tlearn: 0.2580971\ttotal: 33.6s\tremaining: 48.9s\n",
            "407:\tlearn: 0.2580841\ttotal: 33.6s\tremaining: 48.8s\n",
            "408:\tlearn: 0.2580707\ttotal: 33.7s\tremaining: 48.6s\n",
            "409:\tlearn: 0.2580538\ttotal: 33.7s\tremaining: 48.5s\n",
            "410:\tlearn: 0.2580385\ttotal: 33.8s\tremaining: 48.4s\n",
            "411:\tlearn: 0.2580308\ttotal: 33.8s\tremaining: 48.3s\n",
            "412:\tlearn: 0.2580188\ttotal: 33.9s\tremaining: 48.1s\n",
            "413:\tlearn: 0.2580079\ttotal: 33.9s\tremaining: 48s\n",
            "414:\tlearn: 0.2579931\ttotal: 33.9s\tremaining: 47.8s\n",
            "415:\tlearn: 0.2579800\ttotal: 34s\tremaining: 47.7s\n",
            "416:\tlearn: 0.2579702\ttotal: 34s\tremaining: 47.6s\n",
            "417:\tlearn: 0.2579554\ttotal: 34.1s\tremaining: 47.4s\n",
            "418:\tlearn: 0.2579426\ttotal: 34.1s\tremaining: 47.3s\n",
            "419:\tlearn: 0.2579304\ttotal: 34.2s\tremaining: 47.2s\n",
            "420:\tlearn: 0.2579207\ttotal: 34.2s\tremaining: 47s\n",
            "421:\tlearn: 0.2579106\ttotal: 34.3s\tremaining: 46.9s\n",
            "422:\tlearn: 0.2578924\ttotal: 34.3s\tremaining: 46.8s\n",
            "423:\tlearn: 0.2578790\ttotal: 34.3s\tremaining: 46.7s\n",
            "424:\tlearn: 0.2578609\ttotal: 34.4s\tremaining: 46.5s\n",
            "425:\tlearn: 0.2578525\ttotal: 34.5s\tremaining: 46.4s\n",
            "426:\tlearn: 0.2578334\ttotal: 34.5s\tremaining: 46.3s\n",
            "427:\tlearn: 0.2578197\ttotal: 34.6s\tremaining: 46.2s\n",
            "428:\tlearn: 0.2578066\ttotal: 34.6s\tremaining: 46s\n",
            "429:\tlearn: 0.2577886\ttotal: 34.6s\tremaining: 45.9s\n",
            "430:\tlearn: 0.2577783\ttotal: 34.7s\tremaining: 45.8s\n",
            "431:\tlearn: 0.2577635\ttotal: 34.7s\tremaining: 45.7s\n",
            "432:\tlearn: 0.2577419\ttotal: 34.8s\tremaining: 45.5s\n",
            "433:\tlearn: 0.2577211\ttotal: 34.8s\tremaining: 45.4s\n",
            "434:\tlearn: 0.2577032\ttotal: 34.9s\tremaining: 45.3s\n",
            "435:\tlearn: 0.2576898\ttotal: 34.9s\tremaining: 45.2s\n",
            "436:\tlearn: 0.2576737\ttotal: 35s\tremaining: 45s\n",
            "437:\tlearn: 0.2576541\ttotal: 35s\tremaining: 44.9s\n",
            "438:\tlearn: 0.2576410\ttotal: 35.1s\tremaining: 44.8s\n",
            "439:\tlearn: 0.2576217\ttotal: 35.1s\tremaining: 44.7s\n",
            "440:\tlearn: 0.2576075\ttotal: 35.1s\tremaining: 44.6s\n",
            "441:\tlearn: 0.2575959\ttotal: 35.2s\tremaining: 44.4s\n",
            "442:\tlearn: 0.2575810\ttotal: 35.2s\tremaining: 44.3s\n",
            "443:\tlearn: 0.2575662\ttotal: 35.3s\tremaining: 44.2s\n",
            "444:\tlearn: 0.2575473\ttotal: 35.3s\tremaining: 44.1s\n",
            "445:\tlearn: 0.2575308\ttotal: 35.4s\tremaining: 44s\n",
            "446:\tlearn: 0.2575196\ttotal: 35.4s\tremaining: 43.8s\n",
            "447:\tlearn: 0.2575067\ttotal: 35.5s\tremaining: 43.7s\n",
            "448:\tlearn: 0.2574960\ttotal: 35.5s\tremaining: 43.6s\n",
            "449:\tlearn: 0.2574815\ttotal: 35.6s\tremaining: 43.5s\n",
            "450:\tlearn: 0.2574650\ttotal: 35.6s\tremaining: 43.4s\n",
            "451:\tlearn: 0.2574505\ttotal: 35.7s\tremaining: 43.2s\n",
            "452:\tlearn: 0.2574366\ttotal: 35.7s\tremaining: 43.1s\n",
            "453:\tlearn: 0.2574132\ttotal: 35.8s\tremaining: 43s\n",
            "454:\tlearn: 0.2573951\ttotal: 35.8s\tremaining: 42.9s\n",
            "455:\tlearn: 0.2573789\ttotal: 35.9s\tremaining: 42.8s\n",
            "456:\tlearn: 0.2573690\ttotal: 35.9s\tremaining: 42.7s\n",
            "457:\tlearn: 0.2573556\ttotal: 36s\tremaining: 42.5s\n",
            "458:\tlearn: 0.2573436\ttotal: 36s\tremaining: 42.4s\n",
            "459:\tlearn: 0.2573313\ttotal: 36s\tremaining: 42.3s\n",
            "460:\tlearn: 0.2573205\ttotal: 36.1s\tremaining: 42.2s\n",
            "461:\tlearn: 0.2573084\ttotal: 36.1s\tremaining: 42.1s\n",
            "462:\tlearn: 0.2572976\ttotal: 36.2s\tremaining: 42s\n",
            "463:\tlearn: 0.2572813\ttotal: 36.2s\tremaining: 41.8s\n",
            "464:\tlearn: 0.2572650\ttotal: 36.3s\tremaining: 41.7s\n",
            "465:\tlearn: 0.2572454\ttotal: 36.3s\tremaining: 41.6s\n",
            "466:\tlearn: 0.2572301\ttotal: 36.4s\tremaining: 41.5s\n",
            "467:\tlearn: 0.2572159\ttotal: 36.4s\tremaining: 41.4s\n",
            "468:\tlearn: 0.2572027\ttotal: 36.5s\tremaining: 41.3s\n",
            "469:\tlearn: 0.2571872\ttotal: 36.5s\tremaining: 41.2s\n",
            "470:\tlearn: 0.2571718\ttotal: 36.6s\tremaining: 41.1s\n",
            "471:\tlearn: 0.2571607\ttotal: 36.6s\tremaining: 41s\n",
            "472:\tlearn: 0.2571465\ttotal: 36.7s\tremaining: 40.8s\n",
            "473:\tlearn: 0.2571325\ttotal: 36.7s\tremaining: 40.7s\n",
            "474:\tlearn: 0.2571165\ttotal: 36.8s\tremaining: 40.6s\n",
            "475:\tlearn: 0.2571032\ttotal: 36.8s\tremaining: 40.5s\n",
            "476:\tlearn: 0.2570878\ttotal: 36.8s\tremaining: 40.4s\n",
            "477:\tlearn: 0.2570732\ttotal: 36.9s\tremaining: 40.3s\n",
            "478:\tlearn: 0.2570572\ttotal: 36.9s\tremaining: 40.2s\n",
            "479:\tlearn: 0.2570476\ttotal: 37s\tremaining: 40.1s\n",
            "480:\tlearn: 0.2570400\ttotal: 37s\tremaining: 39.9s\n",
            "481:\tlearn: 0.2570300\ttotal: 37.1s\tremaining: 39.8s\n",
            "482:\tlearn: 0.2570167\ttotal: 37.1s\tremaining: 39.7s\n",
            "483:\tlearn: 0.2570037\ttotal: 37.2s\tremaining: 39.6s\n",
            "484:\tlearn: 0.2569902\ttotal: 37.2s\tremaining: 39.5s\n",
            "485:\tlearn: 0.2569764\ttotal: 37.3s\tremaining: 39.4s\n",
            "486:\tlearn: 0.2569669\ttotal: 37.3s\tremaining: 39.3s\n",
            "487:\tlearn: 0.2569535\ttotal: 37.3s\tremaining: 39.2s\n",
            "488:\tlearn: 0.2569432\ttotal: 37.4s\tremaining: 39.1s\n",
            "489:\tlearn: 0.2569334\ttotal: 37.4s\tremaining: 39s\n",
            "490:\tlearn: 0.2569174\ttotal: 37.5s\tremaining: 38.9s\n",
            "491:\tlearn: 0.2569068\ttotal: 37.5s\tremaining: 38.8s\n",
            "492:\tlearn: 0.2568915\ttotal: 37.6s\tremaining: 38.7s\n",
            "493:\tlearn: 0.2568792\ttotal: 37.6s\tremaining: 38.6s\n",
            "494:\tlearn: 0.2568644\ttotal: 37.7s\tremaining: 38.4s\n",
            "495:\tlearn: 0.2568460\ttotal: 37.7s\tremaining: 38.3s\n",
            "496:\tlearn: 0.2568327\ttotal: 37.8s\tremaining: 38.2s\n",
            "497:\tlearn: 0.2568173\ttotal: 37.8s\tremaining: 38.1s\n",
            "498:\tlearn: 0.2568051\ttotal: 37.9s\tremaining: 38s\n",
            "499:\tlearn: 0.2567876\ttotal: 37.9s\tremaining: 37.9s\n",
            "500:\tlearn: 0.2567797\ttotal: 38s\tremaining: 37.8s\n",
            "501:\tlearn: 0.2567656\ttotal: 38s\tremaining: 37.7s\n",
            "502:\tlearn: 0.2567455\ttotal: 38.1s\tremaining: 37.6s\n",
            "503:\tlearn: 0.2567357\ttotal: 38.1s\tremaining: 37.5s\n",
            "504:\tlearn: 0.2567217\ttotal: 38.1s\tremaining: 37.4s\n",
            "505:\tlearn: 0.2566966\ttotal: 38.2s\tremaining: 37.3s\n",
            "506:\tlearn: 0.2566810\ttotal: 38.3s\tremaining: 37.2s\n",
            "507:\tlearn: 0.2566674\ttotal: 38.3s\tremaining: 37.1s\n",
            "508:\tlearn: 0.2566550\ttotal: 38.3s\tremaining: 37s\n",
            "509:\tlearn: 0.2566472\ttotal: 38.4s\tremaining: 36.9s\n",
            "510:\tlearn: 0.2566421\ttotal: 38.4s\tremaining: 36.8s\n",
            "511:\tlearn: 0.2566342\ttotal: 38.5s\tremaining: 36.7s\n",
            "512:\tlearn: 0.2566169\ttotal: 38.5s\tremaining: 36.6s\n",
            "513:\tlearn: 0.2566030\ttotal: 38.6s\tremaining: 36.5s\n",
            "514:\tlearn: 0.2565926\ttotal: 38.6s\tremaining: 36.4s\n",
            "515:\tlearn: 0.2565750\ttotal: 38.7s\tremaining: 36.3s\n",
            "516:\tlearn: 0.2565644\ttotal: 38.7s\tremaining: 36.2s\n",
            "517:\tlearn: 0.2565484\ttotal: 38.8s\tremaining: 36.1s\n",
            "518:\tlearn: 0.2565347\ttotal: 38.8s\tremaining: 36s\n",
            "519:\tlearn: 0.2565260\ttotal: 38.9s\tremaining: 35.9s\n",
            "520:\tlearn: 0.2565091\ttotal: 38.9s\tremaining: 35.8s\n",
            "521:\tlearn: 0.2564950\ttotal: 39s\tremaining: 35.7s\n",
            "522:\tlearn: 0.2564804\ttotal: 39s\tremaining: 35.6s\n",
            "523:\tlearn: 0.2564688\ttotal: 39s\tremaining: 35.5s\n",
            "524:\tlearn: 0.2564527\ttotal: 39.1s\tremaining: 35.4s\n",
            "525:\tlearn: 0.2564401\ttotal: 39.1s\tremaining: 35.3s\n",
            "526:\tlearn: 0.2564286\ttotal: 39.2s\tremaining: 35.2s\n",
            "527:\tlearn: 0.2564152\ttotal: 39.2s\tremaining: 35.1s\n",
            "528:\tlearn: 0.2564042\ttotal: 39.3s\tremaining: 35s\n",
            "529:\tlearn: 0.2563911\ttotal: 39.3s\tremaining: 34.9s\n",
            "530:\tlearn: 0.2563785\ttotal: 39.4s\tremaining: 34.8s\n",
            "531:\tlearn: 0.2563668\ttotal: 39.4s\tremaining: 34.7s\n",
            "532:\tlearn: 0.2563553\ttotal: 39.5s\tremaining: 34.6s\n",
            "533:\tlearn: 0.2563453\ttotal: 39.5s\tremaining: 34.5s\n",
            "534:\tlearn: 0.2563344\ttotal: 39.6s\tremaining: 34.4s\n",
            "535:\tlearn: 0.2563212\ttotal: 39.6s\tremaining: 34.3s\n",
            "536:\tlearn: 0.2563109\ttotal: 39.7s\tremaining: 34.2s\n",
            "537:\tlearn: 0.2562940\ttotal: 39.7s\tremaining: 34.1s\n",
            "538:\tlearn: 0.2562782\ttotal: 39.8s\tremaining: 34s\n",
            "539:\tlearn: 0.2562663\ttotal: 39.8s\tremaining: 33.9s\n",
            "540:\tlearn: 0.2562587\ttotal: 39.9s\tremaining: 33.8s\n",
            "541:\tlearn: 0.2562417\ttotal: 39.9s\tremaining: 33.7s\n",
            "542:\tlearn: 0.2562268\ttotal: 40s\tremaining: 33.6s\n",
            "543:\tlearn: 0.2562116\ttotal: 40s\tremaining: 33.5s\n",
            "544:\tlearn: 0.2561990\ttotal: 40s\tremaining: 33.4s\n",
            "545:\tlearn: 0.2561891\ttotal: 40.1s\tremaining: 33.3s\n",
            "546:\tlearn: 0.2561754\ttotal: 40.1s\tremaining: 33.2s\n",
            "547:\tlearn: 0.2561590\ttotal: 40.2s\tremaining: 33.1s\n",
            "548:\tlearn: 0.2561443\ttotal: 40.2s\tremaining: 33s\n",
            "549:\tlearn: 0.2561284\ttotal: 40.3s\tremaining: 33s\n",
            "550:\tlearn: 0.2561200\ttotal: 40.3s\tremaining: 32.9s\n",
            "551:\tlearn: 0.2561050\ttotal: 40.4s\tremaining: 32.8s\n",
            "552:\tlearn: 0.2560985\ttotal: 40.4s\tremaining: 32.7s\n",
            "553:\tlearn: 0.2560911\ttotal: 40.5s\tremaining: 32.6s\n",
            "554:\tlearn: 0.2560828\ttotal: 40.5s\tremaining: 32.5s\n",
            "555:\tlearn: 0.2560701\ttotal: 40.6s\tremaining: 32.4s\n",
            "556:\tlearn: 0.2560526\ttotal: 40.6s\tremaining: 32.3s\n",
            "557:\tlearn: 0.2560421\ttotal: 40.7s\tremaining: 32.2s\n",
            "558:\tlearn: 0.2560280\ttotal: 40.7s\tremaining: 32.1s\n",
            "559:\tlearn: 0.2560102\ttotal: 40.7s\tremaining: 32s\n",
            "560:\tlearn: 0.2559999\ttotal: 40.8s\tremaining: 31.9s\n",
            "561:\tlearn: 0.2559847\ttotal: 40.8s\tremaining: 31.8s\n",
            "562:\tlearn: 0.2559751\ttotal: 40.9s\tremaining: 31.7s\n",
            "563:\tlearn: 0.2559625\ttotal: 40.9s\tremaining: 31.6s\n",
            "564:\tlearn: 0.2559489\ttotal: 41s\tremaining: 31.6s\n",
            "565:\tlearn: 0.2559370\ttotal: 41s\tremaining: 31.5s\n",
            "566:\tlearn: 0.2559276\ttotal: 41.1s\tremaining: 31.4s\n",
            "567:\tlearn: 0.2559059\ttotal: 41.1s\tremaining: 31.3s\n",
            "568:\tlearn: 0.2558875\ttotal: 41.2s\tremaining: 31.2s\n",
            "569:\tlearn: 0.2558720\ttotal: 41.2s\tremaining: 31.1s\n",
            "570:\tlearn: 0.2558592\ttotal: 41.3s\tremaining: 31s\n",
            "571:\tlearn: 0.2558406\ttotal: 41.3s\tremaining: 30.9s\n",
            "572:\tlearn: 0.2558321\ttotal: 41.4s\tremaining: 30.8s\n",
            "573:\tlearn: 0.2558232\ttotal: 41.4s\tremaining: 30.7s\n",
            "574:\tlearn: 0.2558082\ttotal: 41.4s\tremaining: 30.6s\n",
            "575:\tlearn: 0.2557876\ttotal: 41.5s\tremaining: 30.5s\n",
            "576:\tlearn: 0.2557757\ttotal: 41.5s\tremaining: 30.5s\n",
            "577:\tlearn: 0.2557581\ttotal: 41.6s\tremaining: 30.4s\n",
            "578:\tlearn: 0.2557407\ttotal: 41.6s\tremaining: 30.3s\n",
            "579:\tlearn: 0.2557302\ttotal: 41.7s\tremaining: 30.2s\n",
            "580:\tlearn: 0.2557123\ttotal: 41.7s\tremaining: 30.1s\n",
            "581:\tlearn: 0.2556994\ttotal: 41.8s\tremaining: 30s\n",
            "582:\tlearn: 0.2556839\ttotal: 41.8s\tremaining: 29.9s\n",
            "583:\tlearn: 0.2556644\ttotal: 41.9s\tremaining: 29.8s\n",
            "584:\tlearn: 0.2556520\ttotal: 41.9s\tremaining: 29.7s\n",
            "585:\tlearn: 0.2556468\ttotal: 42s\tremaining: 29.6s\n",
            "586:\tlearn: 0.2556274\ttotal: 42s\tremaining: 29.6s\n",
            "587:\tlearn: 0.2556122\ttotal: 42.1s\tremaining: 29.5s\n",
            "588:\tlearn: 0.2555984\ttotal: 42.1s\tremaining: 29.4s\n",
            "589:\tlearn: 0.2555829\ttotal: 42.1s\tremaining: 29.3s\n",
            "590:\tlearn: 0.2555697\ttotal: 42.2s\tremaining: 29.2s\n",
            "591:\tlearn: 0.2555577\ttotal: 42.2s\tremaining: 29.1s\n",
            "592:\tlearn: 0.2555441\ttotal: 42.3s\tremaining: 29s\n",
            "593:\tlearn: 0.2555343\ttotal: 42.3s\tremaining: 28.9s\n",
            "594:\tlearn: 0.2555189\ttotal: 42.4s\tremaining: 28.9s\n",
            "595:\tlearn: 0.2555026\ttotal: 42.4s\tremaining: 28.8s\n",
            "596:\tlearn: 0.2554918\ttotal: 42.5s\tremaining: 28.7s\n",
            "597:\tlearn: 0.2554812\ttotal: 42.5s\tremaining: 28.6s\n",
            "598:\tlearn: 0.2554671\ttotal: 42.6s\tremaining: 28.5s\n",
            "599:\tlearn: 0.2554548\ttotal: 42.6s\tremaining: 28.4s\n",
            "600:\tlearn: 0.2554458\ttotal: 42.7s\tremaining: 28.3s\n",
            "601:\tlearn: 0.2554226\ttotal: 42.7s\tremaining: 28.2s\n",
            "602:\tlearn: 0.2554128\ttotal: 42.8s\tremaining: 28.2s\n",
            "603:\tlearn: 0.2554025\ttotal: 42.8s\tremaining: 28.1s\n",
            "604:\tlearn: 0.2553879\ttotal: 42.9s\tremaining: 28s\n",
            "605:\tlearn: 0.2553766\ttotal: 42.9s\tremaining: 27.9s\n",
            "606:\tlearn: 0.2553697\ttotal: 43s\tremaining: 27.8s\n",
            "607:\tlearn: 0.2553557\ttotal: 43s\tremaining: 27.7s\n",
            "608:\tlearn: 0.2553374\ttotal: 43s\tremaining: 27.6s\n",
            "609:\tlearn: 0.2553340\ttotal: 43.1s\tremaining: 27.6s\n",
            "610:\tlearn: 0.2553266\ttotal: 43.1s\tremaining: 27.5s\n",
            "611:\tlearn: 0.2553160\ttotal: 43.2s\tremaining: 27.4s\n",
            "612:\tlearn: 0.2553019\ttotal: 43.2s\tremaining: 27.3s\n",
            "613:\tlearn: 0.2552822\ttotal: 43.3s\tremaining: 27.2s\n",
            "614:\tlearn: 0.2552693\ttotal: 43.3s\tremaining: 27.1s\n",
            "615:\tlearn: 0.2552589\ttotal: 43.4s\tremaining: 27s\n",
            "616:\tlearn: 0.2552491\ttotal: 43.4s\tremaining: 26.9s\n",
            "617:\tlearn: 0.2552358\ttotal: 43.5s\tremaining: 26.9s\n",
            "618:\tlearn: 0.2552236\ttotal: 43.5s\tremaining: 26.8s\n",
            "619:\tlearn: 0.2552155\ttotal: 43.6s\tremaining: 26.7s\n",
            "620:\tlearn: 0.2552000\ttotal: 43.6s\tremaining: 26.6s\n",
            "621:\tlearn: 0.2551861\ttotal: 43.7s\tremaining: 26.5s\n",
            "622:\tlearn: 0.2551707\ttotal: 43.7s\tremaining: 26.4s\n",
            "623:\tlearn: 0.2551581\ttotal: 43.7s\tremaining: 26.4s\n",
            "624:\tlearn: 0.2551424\ttotal: 43.8s\tremaining: 26.3s\n",
            "625:\tlearn: 0.2551324\ttotal: 43.8s\tremaining: 26.2s\n",
            "626:\tlearn: 0.2551181\ttotal: 43.9s\tremaining: 26.1s\n",
            "627:\tlearn: 0.2551011\ttotal: 43.9s\tremaining: 26s\n",
            "628:\tlearn: 0.2550852\ttotal: 44s\tremaining: 25.9s\n",
            "629:\tlearn: 0.2550720\ttotal: 44s\tremaining: 25.9s\n",
            "630:\tlearn: 0.2550594\ttotal: 44.1s\tremaining: 25.8s\n",
            "631:\tlearn: 0.2550532\ttotal: 44.1s\tremaining: 25.7s\n",
            "632:\tlearn: 0.2550383\ttotal: 44.2s\tremaining: 25.6s\n",
            "633:\tlearn: 0.2550319\ttotal: 44.2s\tremaining: 25.5s\n",
            "634:\tlearn: 0.2550169\ttotal: 44.2s\tremaining: 25.4s\n",
            "635:\tlearn: 0.2550017\ttotal: 44.3s\tremaining: 25.4s\n",
            "636:\tlearn: 0.2549888\ttotal: 44.3s\tremaining: 25.3s\n",
            "637:\tlearn: 0.2549763\ttotal: 44.4s\tremaining: 25.2s\n",
            "638:\tlearn: 0.2549639\ttotal: 44.4s\tremaining: 25.1s\n",
            "639:\tlearn: 0.2549537\ttotal: 44.5s\tremaining: 25s\n",
            "640:\tlearn: 0.2549400\ttotal: 44.5s\tremaining: 24.9s\n",
            "641:\tlearn: 0.2549236\ttotal: 44.6s\tremaining: 24.9s\n",
            "642:\tlearn: 0.2549142\ttotal: 44.6s\tremaining: 24.8s\n",
            "643:\tlearn: 0.2549091\ttotal: 44.7s\tremaining: 24.7s\n",
            "644:\tlearn: 0.2548956\ttotal: 44.7s\tremaining: 24.6s\n",
            "645:\tlearn: 0.2548808\ttotal: 44.8s\tremaining: 24.5s\n",
            "646:\tlearn: 0.2548708\ttotal: 44.8s\tremaining: 24.4s\n",
            "647:\tlearn: 0.2548641\ttotal: 44.9s\tremaining: 24.4s\n",
            "648:\tlearn: 0.2548534\ttotal: 44.9s\tremaining: 24.3s\n",
            "649:\tlearn: 0.2548404\ttotal: 44.9s\tremaining: 24.2s\n",
            "650:\tlearn: 0.2548271\ttotal: 45s\tremaining: 24.1s\n",
            "651:\tlearn: 0.2548155\ttotal: 45s\tremaining: 24s\n",
            "652:\tlearn: 0.2547999\ttotal: 45.1s\tremaining: 24s\n",
            "653:\tlearn: 0.2547887\ttotal: 45.1s\tremaining: 23.9s\n",
            "654:\tlearn: 0.2547813\ttotal: 45.2s\tremaining: 23.8s\n",
            "655:\tlearn: 0.2547718\ttotal: 45.2s\tremaining: 23.7s\n",
            "656:\tlearn: 0.2547602\ttotal: 45.3s\tremaining: 23.6s\n",
            "657:\tlearn: 0.2547487\ttotal: 45.3s\tremaining: 23.6s\n",
            "658:\tlearn: 0.2547397\ttotal: 45.4s\tremaining: 23.5s\n",
            "659:\tlearn: 0.2547251\ttotal: 45.4s\tremaining: 23.4s\n",
            "660:\tlearn: 0.2547098\ttotal: 45.5s\tremaining: 23.3s\n",
            "661:\tlearn: 0.2546937\ttotal: 45.5s\tremaining: 23.2s\n",
            "662:\tlearn: 0.2546865\ttotal: 45.6s\tremaining: 23.2s\n",
            "663:\tlearn: 0.2546740\ttotal: 45.6s\tremaining: 23.1s\n",
            "664:\tlearn: 0.2546613\ttotal: 45.6s\tremaining: 23s\n",
            "665:\tlearn: 0.2546455\ttotal: 45.7s\tremaining: 22.9s\n",
            "666:\tlearn: 0.2546331\ttotal: 45.7s\tremaining: 22.8s\n",
            "667:\tlearn: 0.2546196\ttotal: 45.8s\tremaining: 22.8s\n",
            "668:\tlearn: 0.2546057\ttotal: 45.8s\tremaining: 22.7s\n",
            "669:\tlearn: 0.2545905\ttotal: 45.9s\tremaining: 22.6s\n",
            "670:\tlearn: 0.2545789\ttotal: 45.9s\tremaining: 22.5s\n",
            "671:\tlearn: 0.2545702\ttotal: 46s\tremaining: 22.4s\n",
            "672:\tlearn: 0.2545607\ttotal: 46s\tremaining: 22.4s\n",
            "673:\tlearn: 0.2545459\ttotal: 46.1s\tremaining: 22.3s\n",
            "674:\tlearn: 0.2545359\ttotal: 46.1s\tremaining: 22.2s\n",
            "675:\tlearn: 0.2545264\ttotal: 46.2s\tremaining: 22.1s\n",
            "676:\tlearn: 0.2545167\ttotal: 46.2s\tremaining: 22s\n",
            "677:\tlearn: 0.2545091\ttotal: 46.2s\tremaining: 22s\n",
            "678:\tlearn: 0.2544937\ttotal: 46.3s\tremaining: 21.9s\n",
            "679:\tlearn: 0.2544836\ttotal: 46.3s\tremaining: 21.8s\n",
            "680:\tlearn: 0.2544736\ttotal: 46.4s\tremaining: 21.7s\n",
            "681:\tlearn: 0.2544625\ttotal: 46.4s\tremaining: 21.6s\n",
            "682:\tlearn: 0.2544541\ttotal: 46.5s\tremaining: 21.6s\n",
            "683:\tlearn: 0.2544383\ttotal: 46.5s\tremaining: 21.5s\n",
            "684:\tlearn: 0.2544321\ttotal: 46.6s\tremaining: 21.4s\n",
            "685:\tlearn: 0.2544237\ttotal: 46.6s\tremaining: 21.3s\n",
            "686:\tlearn: 0.2544127\ttotal: 46.7s\tremaining: 21.3s\n",
            "687:\tlearn: 0.2543996\ttotal: 46.7s\tremaining: 21.2s\n",
            "688:\tlearn: 0.2543815\ttotal: 46.8s\tremaining: 21.1s\n",
            "689:\tlearn: 0.2543743\ttotal: 46.8s\tremaining: 21s\n",
            "690:\tlearn: 0.2543559\ttotal: 46.9s\tremaining: 21s\n",
            "691:\tlearn: 0.2543466\ttotal: 46.9s\tremaining: 20.9s\n",
            "692:\tlearn: 0.2543314\ttotal: 46.9s\tremaining: 20.8s\n",
            "693:\tlearn: 0.2543124\ttotal: 47s\tremaining: 20.7s\n",
            "694:\tlearn: 0.2542989\ttotal: 47s\tremaining: 20.6s\n",
            "695:\tlearn: 0.2542913\ttotal: 47.1s\tremaining: 20.6s\n",
            "696:\tlearn: 0.2542802\ttotal: 47.1s\tremaining: 20.5s\n",
            "697:\tlearn: 0.2542681\ttotal: 47.2s\tremaining: 20.4s\n",
            "698:\tlearn: 0.2542557\ttotal: 47.2s\tremaining: 20.3s\n",
            "699:\tlearn: 0.2542458\ttotal: 47.3s\tremaining: 20.3s\n",
            "700:\tlearn: 0.2542312\ttotal: 47.3s\tremaining: 20.2s\n",
            "701:\tlearn: 0.2542148\ttotal: 47.4s\tremaining: 20.1s\n",
            "702:\tlearn: 0.2542052\ttotal: 47.4s\tremaining: 20s\n",
            "703:\tlearn: 0.2541965\ttotal: 47.5s\tremaining: 20s\n",
            "704:\tlearn: 0.2541882\ttotal: 47.5s\tremaining: 19.9s\n",
            "705:\tlearn: 0.2541790\ttotal: 47.6s\tremaining: 19.8s\n",
            "706:\tlearn: 0.2541663\ttotal: 47.6s\tremaining: 19.7s\n",
            "707:\tlearn: 0.2541536\ttotal: 47.7s\tremaining: 19.7s\n",
            "708:\tlearn: 0.2541423\ttotal: 47.7s\tremaining: 19.6s\n",
            "709:\tlearn: 0.2541353\ttotal: 47.8s\tremaining: 19.5s\n",
            "710:\tlearn: 0.2541208\ttotal: 47.8s\tremaining: 19.4s\n",
            "711:\tlearn: 0.2541079\ttotal: 47.8s\tremaining: 19.4s\n",
            "712:\tlearn: 0.2540948\ttotal: 47.9s\tremaining: 19.3s\n",
            "713:\tlearn: 0.2540865\ttotal: 47.9s\tremaining: 19.2s\n",
            "714:\tlearn: 0.2540777\ttotal: 48s\tremaining: 19.1s\n",
            "715:\tlearn: 0.2540683\ttotal: 48s\tremaining: 19s\n",
            "716:\tlearn: 0.2540525\ttotal: 48.1s\tremaining: 19s\n",
            "717:\tlearn: 0.2540367\ttotal: 48.1s\tremaining: 18.9s\n",
            "718:\tlearn: 0.2540201\ttotal: 48.2s\tremaining: 18.8s\n",
            "719:\tlearn: 0.2540054\ttotal: 48.2s\tremaining: 18.7s\n",
            "720:\tlearn: 0.2540002\ttotal: 48.2s\tremaining: 18.7s\n",
            "721:\tlearn: 0.2539854\ttotal: 48.3s\tremaining: 18.6s\n",
            "722:\tlearn: 0.2539737\ttotal: 48.3s\tremaining: 18.5s\n",
            "723:\tlearn: 0.2539656\ttotal: 48.4s\tremaining: 18.4s\n",
            "724:\tlearn: 0.2539504\ttotal: 48.4s\tremaining: 18.4s\n",
            "725:\tlearn: 0.2539364\ttotal: 48.5s\tremaining: 18.3s\n",
            "726:\tlearn: 0.2539187\ttotal: 48.5s\tremaining: 18.2s\n",
            "727:\tlearn: 0.2539165\ttotal: 48.6s\tremaining: 18.1s\n",
            "728:\tlearn: 0.2539044\ttotal: 48.6s\tremaining: 18.1s\n",
            "729:\tlearn: 0.2538921\ttotal: 48.7s\tremaining: 18s\n",
            "730:\tlearn: 0.2538803\ttotal: 48.7s\tremaining: 17.9s\n",
            "731:\tlearn: 0.2538676\ttotal: 48.8s\tremaining: 17.8s\n",
            "732:\tlearn: 0.2538541\ttotal: 48.8s\tremaining: 17.8s\n",
            "733:\tlearn: 0.2538456\ttotal: 48.8s\tremaining: 17.7s\n",
            "734:\tlearn: 0.2538327\ttotal: 48.9s\tremaining: 17.6s\n",
            "735:\tlearn: 0.2538161\ttotal: 48.9s\tremaining: 17.6s\n",
            "736:\tlearn: 0.2538036\ttotal: 49s\tremaining: 17.5s\n",
            "737:\tlearn: 0.2537940\ttotal: 49s\tremaining: 17.4s\n",
            "738:\tlearn: 0.2537775\ttotal: 49.1s\tremaining: 17.3s\n",
            "739:\tlearn: 0.2537657\ttotal: 49.1s\tremaining: 17.3s\n",
            "740:\tlearn: 0.2537536\ttotal: 49.2s\tremaining: 17.2s\n",
            "741:\tlearn: 0.2537414\ttotal: 49.2s\tremaining: 17.1s\n",
            "742:\tlearn: 0.2537260\ttotal: 49.3s\tremaining: 17s\n",
            "743:\tlearn: 0.2537110\ttotal: 49.3s\tremaining: 17s\n",
            "744:\tlearn: 0.2537009\ttotal: 49.4s\tremaining: 16.9s\n",
            "745:\tlearn: 0.2536854\ttotal: 49.4s\tremaining: 16.8s\n",
            "746:\tlearn: 0.2536738\ttotal: 49.5s\tremaining: 16.8s\n",
            "747:\tlearn: 0.2536569\ttotal: 49.5s\tremaining: 16.7s\n",
            "748:\tlearn: 0.2536431\ttotal: 49.6s\tremaining: 16.6s\n",
            "749:\tlearn: 0.2536261\ttotal: 49.6s\tremaining: 16.5s\n",
            "750:\tlearn: 0.2536143\ttotal: 49.7s\tremaining: 16.5s\n",
            "751:\tlearn: 0.2536027\ttotal: 49.7s\tremaining: 16.4s\n",
            "752:\tlearn: 0.2535869\ttotal: 49.7s\tremaining: 16.3s\n",
            "753:\tlearn: 0.2535747\ttotal: 49.8s\tremaining: 16.2s\n",
            "754:\tlearn: 0.2535586\ttotal: 49.8s\tremaining: 16.2s\n",
            "755:\tlearn: 0.2535426\ttotal: 49.9s\tremaining: 16.1s\n",
            "756:\tlearn: 0.2535299\ttotal: 49.9s\tremaining: 16s\n",
            "757:\tlearn: 0.2535144\ttotal: 50s\tremaining: 16s\n",
            "758:\tlearn: 0.2535009\ttotal: 50s\tremaining: 15.9s\n",
            "759:\tlearn: 0.2534914\ttotal: 50.1s\tremaining: 15.8s\n",
            "760:\tlearn: 0.2534810\ttotal: 50.1s\tremaining: 15.7s\n",
            "761:\tlearn: 0.2534677\ttotal: 50.2s\tremaining: 15.7s\n",
            "762:\tlearn: 0.2534508\ttotal: 50.2s\tremaining: 15.6s\n",
            "763:\tlearn: 0.2534332\ttotal: 50.3s\tremaining: 15.5s\n",
            "764:\tlearn: 0.2534193\ttotal: 50.3s\tremaining: 15.5s\n",
            "765:\tlearn: 0.2534075\ttotal: 50.4s\tremaining: 15.4s\n",
            "766:\tlearn: 0.2533946\ttotal: 50.4s\tremaining: 15.3s\n",
            "767:\tlearn: 0.2533811\ttotal: 50.5s\tremaining: 15.2s\n",
            "768:\tlearn: 0.2533678\ttotal: 50.5s\tremaining: 15.2s\n",
            "769:\tlearn: 0.2533519\ttotal: 50.6s\tremaining: 15.1s\n",
            "770:\tlearn: 0.2533421\ttotal: 50.6s\tremaining: 15s\n",
            "771:\tlearn: 0.2533290\ttotal: 50.7s\tremaining: 15s\n",
            "772:\tlearn: 0.2533172\ttotal: 50.7s\tremaining: 14.9s\n",
            "773:\tlearn: 0.2532998\ttotal: 50.8s\tremaining: 14.8s\n",
            "774:\tlearn: 0.2532876\ttotal: 50.8s\tremaining: 14.8s\n",
            "775:\tlearn: 0.2532772\ttotal: 50.9s\tremaining: 14.7s\n",
            "776:\tlearn: 0.2532608\ttotal: 50.9s\tremaining: 14.6s\n",
            "777:\tlearn: 0.2532511\ttotal: 50.9s\tremaining: 14.5s\n",
            "778:\tlearn: 0.2532349\ttotal: 51s\tremaining: 14.5s\n",
            "779:\tlearn: 0.2532262\ttotal: 51s\tremaining: 14.4s\n",
            "780:\tlearn: 0.2532147\ttotal: 51.1s\tremaining: 14.3s\n",
            "781:\tlearn: 0.2532074\ttotal: 51.1s\tremaining: 14.3s\n",
            "782:\tlearn: 0.2532017\ttotal: 51.2s\tremaining: 14.2s\n",
            "783:\tlearn: 0.2531919\ttotal: 51.2s\tremaining: 14.1s\n",
            "784:\tlearn: 0.2531827\ttotal: 51.3s\tremaining: 14s\n",
            "785:\tlearn: 0.2531748\ttotal: 51.3s\tremaining: 14s\n",
            "786:\tlearn: 0.2531701\ttotal: 51.4s\tremaining: 13.9s\n",
            "787:\tlearn: 0.2531583\ttotal: 51.4s\tremaining: 13.8s\n",
            "788:\tlearn: 0.2531424\ttotal: 51.5s\tremaining: 13.8s\n",
            "789:\tlearn: 0.2531321\ttotal: 51.5s\tremaining: 13.7s\n",
            "790:\tlearn: 0.2531204\ttotal: 51.6s\tremaining: 13.6s\n",
            "791:\tlearn: 0.2531116\ttotal: 51.6s\tremaining: 13.6s\n",
            "792:\tlearn: 0.2530989\ttotal: 51.7s\tremaining: 13.5s\n",
            "793:\tlearn: 0.2530852\ttotal: 51.7s\tremaining: 13.4s\n",
            "794:\tlearn: 0.2530739\ttotal: 51.8s\tremaining: 13.3s\n",
            "795:\tlearn: 0.2530600\ttotal: 51.8s\tremaining: 13.3s\n",
            "796:\tlearn: 0.2530424\ttotal: 51.9s\tremaining: 13.2s\n",
            "797:\tlearn: 0.2530280\ttotal: 51.9s\tremaining: 13.1s\n",
            "798:\tlearn: 0.2530091\ttotal: 51.9s\tremaining: 13.1s\n",
            "799:\tlearn: 0.2529966\ttotal: 52s\tremaining: 13s\n",
            "800:\tlearn: 0.2529823\ttotal: 52s\tremaining: 12.9s\n",
            "801:\tlearn: 0.2529710\ttotal: 52.1s\tremaining: 12.9s\n",
            "802:\tlearn: 0.2529592\ttotal: 52.1s\tremaining: 12.8s\n",
            "803:\tlearn: 0.2529462\ttotal: 52.2s\tremaining: 12.7s\n",
            "804:\tlearn: 0.2529383\ttotal: 52.2s\tremaining: 12.6s\n",
            "805:\tlearn: 0.2529215\ttotal: 52.3s\tremaining: 12.6s\n",
            "806:\tlearn: 0.2529097\ttotal: 52.3s\tremaining: 12.5s\n",
            "807:\tlearn: 0.2528946\ttotal: 52.4s\tremaining: 12.4s\n",
            "808:\tlearn: 0.2528819\ttotal: 52.4s\tremaining: 12.4s\n",
            "809:\tlearn: 0.2528729\ttotal: 52.4s\tremaining: 12.3s\n",
            "810:\tlearn: 0.2528603\ttotal: 52.5s\tremaining: 12.2s\n",
            "811:\tlearn: 0.2528521\ttotal: 52.5s\tremaining: 12.2s\n",
            "812:\tlearn: 0.2528369\ttotal: 52.6s\tremaining: 12.1s\n",
            "813:\tlearn: 0.2528201\ttotal: 52.6s\tremaining: 12s\n",
            "814:\tlearn: 0.2528119\ttotal: 52.7s\tremaining: 12s\n",
            "815:\tlearn: 0.2527928\ttotal: 52.7s\tremaining: 11.9s\n",
            "816:\tlearn: 0.2527793\ttotal: 52.8s\tremaining: 11.8s\n",
            "817:\tlearn: 0.2527668\ttotal: 52.8s\tremaining: 11.8s\n",
            "818:\tlearn: 0.2527557\ttotal: 52.9s\tremaining: 11.7s\n",
            "819:\tlearn: 0.2527365\ttotal: 52.9s\tremaining: 11.6s\n",
            "820:\tlearn: 0.2527237\ttotal: 53s\tremaining: 11.5s\n",
            "821:\tlearn: 0.2527081\ttotal: 53s\tremaining: 11.5s\n",
            "822:\tlearn: 0.2526934\ttotal: 53.1s\tremaining: 11.4s\n",
            "823:\tlearn: 0.2526748\ttotal: 53.1s\tremaining: 11.3s\n",
            "824:\tlearn: 0.2526563\ttotal: 53.2s\tremaining: 11.3s\n",
            "825:\tlearn: 0.2526459\ttotal: 53.2s\tremaining: 11.2s\n",
            "826:\tlearn: 0.2526297\ttotal: 53.3s\tremaining: 11.1s\n",
            "827:\tlearn: 0.2526177\ttotal: 53.3s\tremaining: 11.1s\n",
            "828:\tlearn: 0.2526069\ttotal: 53.3s\tremaining: 11s\n",
            "829:\tlearn: 0.2525946\ttotal: 53.4s\tremaining: 10.9s\n",
            "830:\tlearn: 0.2525764\ttotal: 53.4s\tremaining: 10.9s\n",
            "831:\tlearn: 0.2525577\ttotal: 53.5s\tremaining: 10.8s\n",
            "832:\tlearn: 0.2525399\ttotal: 53.5s\tremaining: 10.7s\n",
            "833:\tlearn: 0.2525282\ttotal: 53.6s\tremaining: 10.7s\n",
            "834:\tlearn: 0.2525119\ttotal: 53.6s\tremaining: 10.6s\n",
            "835:\tlearn: 0.2525049\ttotal: 53.7s\tremaining: 10.5s\n",
            "836:\tlearn: 0.2524944\ttotal: 53.7s\tremaining: 10.5s\n",
            "837:\tlearn: 0.2524816\ttotal: 53.8s\tremaining: 10.4s\n",
            "838:\tlearn: 0.2524661\ttotal: 53.8s\tremaining: 10.3s\n",
            "839:\tlearn: 0.2524567\ttotal: 53.9s\tremaining: 10.3s\n",
            "840:\tlearn: 0.2524461\ttotal: 53.9s\tremaining: 10.2s\n",
            "841:\tlearn: 0.2524346\ttotal: 54s\tremaining: 10.1s\n",
            "842:\tlearn: 0.2524237\ttotal: 54s\tremaining: 10.1s\n",
            "843:\tlearn: 0.2524088\ttotal: 54s\tremaining: 9.99s\n",
            "844:\tlearn: 0.2523958\ttotal: 54.1s\tremaining: 9.92s\n",
            "845:\tlearn: 0.2523797\ttotal: 54.1s\tremaining: 9.86s\n",
            "846:\tlearn: 0.2523682\ttotal: 54.2s\tremaining: 9.79s\n",
            "847:\tlearn: 0.2523541\ttotal: 54.2s\tremaining: 9.72s\n",
            "848:\tlearn: 0.2523402\ttotal: 54.3s\tremaining: 9.65s\n",
            "849:\tlearn: 0.2523236\ttotal: 54.3s\tremaining: 9.59s\n",
            "850:\tlearn: 0.2523080\ttotal: 54.4s\tremaining: 9.52s\n",
            "851:\tlearn: 0.2522966\ttotal: 54.4s\tremaining: 9.45s\n",
            "852:\tlearn: 0.2522844\ttotal: 54.5s\tremaining: 9.39s\n",
            "853:\tlearn: 0.2522723\ttotal: 54.5s\tremaining: 9.32s\n",
            "854:\tlearn: 0.2522649\ttotal: 54.6s\tremaining: 9.25s\n",
            "855:\tlearn: 0.2522558\ttotal: 54.6s\tremaining: 9.19s\n",
            "856:\tlearn: 0.2522417\ttotal: 54.7s\tremaining: 9.12s\n",
            "857:\tlearn: 0.2522296\ttotal: 54.7s\tremaining: 9.05s\n",
            "858:\tlearn: 0.2522152\ttotal: 54.8s\tremaining: 8.99s\n",
            "859:\tlearn: 0.2522014\ttotal: 54.8s\tremaining: 8.92s\n",
            "860:\tlearn: 0.2521927\ttotal: 54.9s\tremaining: 8.86s\n",
            "861:\tlearn: 0.2521764\ttotal: 54.9s\tremaining: 8.79s\n",
            "862:\tlearn: 0.2521653\ttotal: 55s\tremaining: 8.72s\n",
            "863:\tlearn: 0.2521568\ttotal: 55s\tremaining: 8.66s\n",
            "864:\tlearn: 0.2521412\ttotal: 55s\tremaining: 8.59s\n",
            "865:\tlearn: 0.2521239\ttotal: 55.1s\tremaining: 8.53s\n",
            "866:\tlearn: 0.2521095\ttotal: 55.1s\tremaining: 8.46s\n",
            "867:\tlearn: 0.2521053\ttotal: 55.2s\tremaining: 8.39s\n",
            "868:\tlearn: 0.2520958\ttotal: 55.2s\tremaining: 8.32s\n",
            "869:\tlearn: 0.2520851\ttotal: 55.3s\tremaining: 8.26s\n",
            "870:\tlearn: 0.2520698\ttotal: 55.3s\tremaining: 8.19s\n",
            "871:\tlearn: 0.2520560\ttotal: 55.4s\tremaining: 8.13s\n",
            "872:\tlearn: 0.2520424\ttotal: 55.4s\tremaining: 8.06s\n",
            "873:\tlearn: 0.2520333\ttotal: 55.5s\tremaining: 8s\n",
            "874:\tlearn: 0.2520222\ttotal: 55.5s\tremaining: 7.93s\n",
            "875:\tlearn: 0.2520111\ttotal: 55.6s\tremaining: 7.86s\n",
            "876:\tlearn: 0.2520003\ttotal: 55.6s\tremaining: 7.8s\n",
            "877:\tlearn: 0.2519915\ttotal: 55.7s\tremaining: 7.74s\n",
            "878:\tlearn: 0.2519756\ttotal: 55.7s\tremaining: 7.67s\n",
            "879:\tlearn: 0.2519664\ttotal: 55.8s\tremaining: 7.6s\n",
            "880:\tlearn: 0.2519549\ttotal: 55.8s\tremaining: 7.54s\n",
            "881:\tlearn: 0.2519449\ttotal: 55.9s\tremaining: 7.47s\n",
            "882:\tlearn: 0.2519362\ttotal: 55.9s\tremaining: 7.41s\n",
            "883:\tlearn: 0.2519220\ttotal: 56s\tremaining: 7.34s\n",
            "884:\tlearn: 0.2519080\ttotal: 56s\tremaining: 7.28s\n",
            "885:\tlearn: 0.2518915\ttotal: 56s\tremaining: 7.21s\n",
            "886:\tlearn: 0.2518822\ttotal: 56.1s\tremaining: 7.14s\n",
            "887:\tlearn: 0.2518752\ttotal: 56.1s\tremaining: 7.08s\n",
            "888:\tlearn: 0.2518648\ttotal: 56.2s\tremaining: 7.01s\n",
            "889:\tlearn: 0.2518550\ttotal: 56.2s\tremaining: 6.95s\n",
            "890:\tlearn: 0.2518440\ttotal: 56.3s\tremaining: 6.88s\n",
            "891:\tlearn: 0.2518306\ttotal: 56.3s\tremaining: 6.82s\n",
            "892:\tlearn: 0.2518128\ttotal: 56.4s\tremaining: 6.75s\n",
            "893:\tlearn: 0.2518082\ttotal: 56.4s\tremaining: 6.69s\n",
            "894:\tlearn: 0.2517962\ttotal: 56.5s\tremaining: 6.63s\n",
            "895:\tlearn: 0.2517874\ttotal: 56.5s\tremaining: 6.56s\n",
            "896:\tlearn: 0.2517753\ttotal: 56.6s\tremaining: 6.5s\n",
            "897:\tlearn: 0.2517639\ttotal: 56.6s\tremaining: 6.43s\n",
            "898:\tlearn: 0.2517511\ttotal: 56.7s\tremaining: 6.37s\n",
            "899:\tlearn: 0.2517402\ttotal: 56.7s\tremaining: 6.3s\n",
            "900:\tlearn: 0.2517279\ttotal: 56.8s\tremaining: 6.24s\n",
            "901:\tlearn: 0.2517167\ttotal: 56.8s\tremaining: 6.17s\n",
            "902:\tlearn: 0.2517095\ttotal: 56.9s\tremaining: 6.11s\n",
            "903:\tlearn: 0.2516988\ttotal: 56.9s\tremaining: 6.04s\n",
            "904:\tlearn: 0.2516910\ttotal: 57s\tremaining: 5.98s\n",
            "905:\tlearn: 0.2516810\ttotal: 57s\tremaining: 5.91s\n",
            "906:\tlearn: 0.2516740\ttotal: 57s\tremaining: 5.85s\n",
            "907:\tlearn: 0.2516612\ttotal: 57.1s\tremaining: 5.78s\n",
            "908:\tlearn: 0.2516558\ttotal: 57.1s\tremaining: 5.72s\n",
            "909:\tlearn: 0.2516480\ttotal: 57.2s\tremaining: 5.65s\n",
            "910:\tlearn: 0.2516311\ttotal: 57.2s\tremaining: 5.59s\n",
            "911:\tlearn: 0.2516157\ttotal: 57.3s\tremaining: 5.53s\n",
            "912:\tlearn: 0.2516008\ttotal: 57.3s\tremaining: 5.46s\n",
            "913:\tlearn: 0.2515933\ttotal: 57.4s\tremaining: 5.4s\n",
            "914:\tlearn: 0.2515782\ttotal: 57.4s\tremaining: 5.33s\n",
            "915:\tlearn: 0.2515676\ttotal: 57.5s\tremaining: 5.27s\n",
            "916:\tlearn: 0.2515508\ttotal: 57.5s\tremaining: 5.21s\n",
            "917:\tlearn: 0.2515391\ttotal: 57.6s\tremaining: 5.14s\n",
            "918:\tlearn: 0.2515257\ttotal: 57.6s\tremaining: 5.08s\n",
            "919:\tlearn: 0.2515151\ttotal: 57.7s\tremaining: 5.01s\n",
            "920:\tlearn: 0.2515035\ttotal: 57.7s\tremaining: 4.95s\n",
            "921:\tlearn: 0.2514996\ttotal: 57.8s\tremaining: 4.89s\n",
            "922:\tlearn: 0.2514838\ttotal: 57.8s\tremaining: 4.82s\n",
            "923:\tlearn: 0.2514647\ttotal: 57.9s\tremaining: 4.76s\n",
            "924:\tlearn: 0.2514502\ttotal: 57.9s\tremaining: 4.69s\n",
            "925:\tlearn: 0.2514369\ttotal: 57.9s\tremaining: 4.63s\n",
            "926:\tlearn: 0.2514191\ttotal: 58s\tremaining: 4.57s\n",
            "927:\tlearn: 0.2514038\ttotal: 58s\tremaining: 4.5s\n",
            "928:\tlearn: 0.2513918\ttotal: 58.1s\tremaining: 4.44s\n",
            "929:\tlearn: 0.2513749\ttotal: 58.1s\tremaining: 4.38s\n",
            "930:\tlearn: 0.2513667\ttotal: 58.2s\tremaining: 4.31s\n",
            "931:\tlearn: 0.2513492\ttotal: 58.2s\tremaining: 4.25s\n",
            "932:\tlearn: 0.2513381\ttotal: 58.3s\tremaining: 4.18s\n",
            "933:\tlearn: 0.2513301\ttotal: 58.3s\tremaining: 4.12s\n",
            "934:\tlearn: 0.2513127\ttotal: 58.4s\tremaining: 4.06s\n",
            "935:\tlearn: 0.2513072\ttotal: 58.4s\tremaining: 3.99s\n",
            "936:\tlearn: 0.2512932\ttotal: 58.5s\tremaining: 3.93s\n",
            "937:\tlearn: 0.2512798\ttotal: 58.5s\tremaining: 3.87s\n",
            "938:\tlearn: 0.2512695\ttotal: 58.6s\tremaining: 3.8s\n",
            "939:\tlearn: 0.2512575\ttotal: 58.6s\tremaining: 3.74s\n",
            "940:\tlearn: 0.2512428\ttotal: 58.6s\tremaining: 3.68s\n",
            "941:\tlearn: 0.2512351\ttotal: 58.7s\tremaining: 3.61s\n",
            "942:\tlearn: 0.2512277\ttotal: 58.7s\tremaining: 3.55s\n",
            "943:\tlearn: 0.2512106\ttotal: 58.8s\tremaining: 3.49s\n",
            "944:\tlearn: 0.2512000\ttotal: 58.8s\tremaining: 3.42s\n",
            "945:\tlearn: 0.2511879\ttotal: 58.9s\tremaining: 3.36s\n",
            "946:\tlearn: 0.2511703\ttotal: 58.9s\tremaining: 3.3s\n",
            "947:\tlearn: 0.2511528\ttotal: 59s\tremaining: 3.23s\n",
            "948:\tlearn: 0.2511506\ttotal: 59s\tremaining: 3.17s\n",
            "949:\tlearn: 0.2511415\ttotal: 59.1s\tremaining: 3.11s\n",
            "950:\tlearn: 0.2511316\ttotal: 59.1s\tremaining: 3.05s\n",
            "951:\tlearn: 0.2511226\ttotal: 59.2s\tremaining: 2.98s\n",
            "952:\tlearn: 0.2511080\ttotal: 59.2s\tremaining: 2.92s\n",
            "953:\tlearn: 0.2510959\ttotal: 59.3s\tremaining: 2.86s\n",
            "954:\tlearn: 0.2510810\ttotal: 59.3s\tremaining: 2.79s\n",
            "955:\tlearn: 0.2510732\ttotal: 59.4s\tremaining: 2.73s\n",
            "956:\tlearn: 0.2510656\ttotal: 59.4s\tremaining: 2.67s\n",
            "957:\tlearn: 0.2510514\ttotal: 59.5s\tremaining: 2.61s\n",
            "958:\tlearn: 0.2510327\ttotal: 59.5s\tremaining: 2.54s\n",
            "959:\tlearn: 0.2510200\ttotal: 59.6s\tremaining: 2.48s\n",
            "960:\tlearn: 0.2510013\ttotal: 59.6s\tremaining: 2.42s\n",
            "961:\tlearn: 0.2509906\ttotal: 59.6s\tremaining: 2.35s\n",
            "962:\tlearn: 0.2509742\ttotal: 59.7s\tremaining: 2.29s\n",
            "963:\tlearn: 0.2509674\ttotal: 59.7s\tremaining: 2.23s\n",
            "964:\tlearn: 0.2509568\ttotal: 59.8s\tremaining: 2.17s\n",
            "965:\tlearn: 0.2509452\ttotal: 59.8s\tremaining: 2.11s\n",
            "966:\tlearn: 0.2509363\ttotal: 59.9s\tremaining: 2.04s\n",
            "967:\tlearn: 0.2509297\ttotal: 59.9s\tremaining: 1.98s\n",
            "968:\tlearn: 0.2509190\ttotal: 60s\tremaining: 1.92s\n",
            "969:\tlearn: 0.2509087\ttotal: 1m\tremaining: 1.86s\n",
            "970:\tlearn: 0.2508999\ttotal: 1m\tremaining: 1.79s\n",
            "971:\tlearn: 0.2508839\ttotal: 1m\tremaining: 1.73s\n",
            "972:\tlearn: 0.2508743\ttotal: 1m\tremaining: 1.67s\n",
            "973:\tlearn: 0.2508640\ttotal: 1m\tremaining: 1.61s\n",
            "974:\tlearn: 0.2508547\ttotal: 1m\tremaining: 1.54s\n",
            "975:\tlearn: 0.2508417\ttotal: 1m\tremaining: 1.48s\n",
            "976:\tlearn: 0.2508314\ttotal: 1m\tremaining: 1.42s\n",
            "977:\tlearn: 0.2508200\ttotal: 1m\tremaining: 1.36s\n",
            "978:\tlearn: 0.2508011\ttotal: 1m\tremaining: 1.3s\n",
            "979:\tlearn: 0.2507889\ttotal: 1m\tremaining: 1.23s\n",
            "980:\tlearn: 0.2507717\ttotal: 1m\tremaining: 1.17s\n",
            "981:\tlearn: 0.2507590\ttotal: 1m\tremaining: 1.11s\n",
            "982:\tlearn: 0.2507448\ttotal: 1m\tremaining: 1.05s\n",
            "983:\tlearn: 0.2507342\ttotal: 1m\tremaining: 986ms\n",
            "984:\tlearn: 0.2507251\ttotal: 1m\tremaining: 925ms\n",
            "985:\tlearn: 0.2507169\ttotal: 1m\tremaining: 863ms\n",
            "986:\tlearn: 0.2507006\ttotal: 1m\tremaining: 801ms\n",
            "987:\tlearn: 0.2506859\ttotal: 1m\tremaining: 739ms\n",
            "988:\tlearn: 0.2506745\ttotal: 1m\tremaining: 677ms\n",
            "989:\tlearn: 0.2506606\ttotal: 1m\tremaining: 616ms\n",
            "990:\tlearn: 0.2506479\ttotal: 1m\tremaining: 554ms\n",
            "991:\tlearn: 0.2506339\ttotal: 1m 1s\tremaining: 492ms\n",
            "992:\tlearn: 0.2506245\ttotal: 1m 1s\tremaining: 431ms\n",
            "993:\tlearn: 0.2506136\ttotal: 1m 1s\tremaining: 369ms\n",
            "994:\tlearn: 0.2505983\ttotal: 1m 1s\tremaining: 307ms\n",
            "995:\tlearn: 0.2505851\ttotal: 1m 1s\tremaining: 246ms\n",
            "996:\tlearn: 0.2505729\ttotal: 1m 1s\tremaining: 184ms\n",
            "997:\tlearn: 0.2505552\ttotal: 1m 1s\tremaining: 123ms\n",
            "998:\tlearn: 0.2505446\ttotal: 1m 1s\tremaining: 61.4ms\n",
            "999:\tlearn: 0.2505350\ttotal: 1m 1s\tremaining: 0us\n"
          ]
        }
      ],
      "source": [
        "# run the classification models \n",
        "\n",
        "model_data = []\n",
        "for name, curr_model in models:\n",
        "    curr_model_data = {}\n",
        "    curr_model.random_state = 78\n",
        "    \n",
        "    # fit the model\n",
        "\n",
        "    curr_model.fit(X_train,y_train)\n",
        "    \n",
        "    # make predictions of train set\n",
        "    \n",
        "    pred_train = curr_model.predict(X_train)\n",
        "\n",
        "    # make predictions on the test set\n",
        "\n",
        "    pred_test = curr_model.predict(X_test)\n",
        "    \n",
        "    # accuracy score\n",
        "\n",
        "    accuracy_train = accuracy_score(y_train, pred_train)\n",
        "    accuracy_test = accuracy_score(y_test, pred_test)\n",
        "\n",
        "    # precision score\n",
        "\n",
        "    precision_train = precision_score(y_train, pred_train)\n",
        "    precision_test = precision_score(y_test, pred_test)\n",
        "\n",
        "    # recall score\n",
        "\n",
        "    recall_train = recall_score(y_train, pred_train)\n",
        "    recall_test = recall_score(y_test, pred_test)\n",
        "    \n",
        "    # AUC ROC score\n",
        "\n",
        "    y_score_train = curr_model.predict_proba(X_train)[:,1]\n",
        "    fpr, tpr, _ = roc_curve(y_train, y_score_train)\n",
        "    auc_train = auc(fpr,tpr)\n",
        "\n",
        "    pred_proba = curr_model.predict_proba(X_test)[:, 1]\n",
        "    roc_auc_test = roc_auc_score(y_test,pred_proba)\n",
        "\n",
        "    curr_model_data[\"Model\"] = name\n",
        "    curr_model_data[\"Accuracy_train\"] = accuracy_train \n",
        "    curr_model_data[\"Precision_train\"] = precision_train \n",
        "    curr_model_data[\"Recall_train\"] = recall_train \n",
        "    curr_model_data[\"ROC_AUC_train\"] = auc_train\n",
        "    curr_model_data[\"Accuracy_test\"] = accuracy_test\n",
        "    curr_model_data[\"Precision_test\"] = precision_test\n",
        "    curr_model_data[\"Recall_test\"] = recall_test\n",
        "    curr_model_data[\"ROC_AUC_test\"] = roc_auc_test\n",
        "\n",
        "    # append the data into a list\n",
        "\n",
        "    model_data.append(curr_model_data)"
      ]
    },
    {
      "cell_type": "code",
      "execution_count": null,
      "metadata": {
        "colab": {
          "base_uri": "https://localhost:8080/"
        },
        "id": "6s7Vp7fMHxxe",
        "outputId": "99af10a3-72da-4008-ec33-5b270de4b881"
      },
      "outputs": [
        {
          "data": {
            "text/plain": [
              "[{'Model': 'LogisticRegression: ',\n",
              "  'Accuracy_train': 0.8767248193593036,\n",
              "  'Precision_train': 0.0802675585284281,\n",
              "  'Recall_train': 0.0006428456634702952,\n",
              "  'ROC_AUC_train': 0.8173460133113881,\n",
              "  'Accuracy_test': 0.8760462858492298,\n",
              "  'Precision_test': 0.06097560975609756,\n",
              "  'Recall_test': 0.0005332764505119454,\n",
              "  'ROC_AUC_test': 0.8177534655007552},\n",
              " {'Model': 'CatBoostClassifier:',\n",
              "  'Accuracy_train': 0.8824843302600636,\n",
              "  'Precision_train': 0.7650581190560056,\n",
              "  'Recall_train': 0.058177532544061716,\n",
              "  'ROC_AUC_train': 0.881551392256217,\n",
              "  'Accuracy_test': 0.8767022644380887,\n",
              "  'Precision_test': 0.4820846905537459,\n",
              "  'Recall_test': 0.031569965870307165,\n",
              "  'ROC_AUC_test': 0.8570296510322386},\n",
              " {'Model': 'DecisionTree: ',\n",
              "  'Accuracy_train': 0.9998852033704291,\n",
              "  'Precision_train': 1.0,\n",
              "  'Recall_train': 0.9990625167407725,\n",
              "  'ROC_AUC_train': 0.9999999386814686,\n",
              "  'Accuracy_test': 0.8235548791687439,\n",
              "  'Precision_test': 0.2966550174737893,\n",
              "  'Recall_test': 0.31687286689419797,\n",
              "  'ROC_AUC_test': 0.605860631126672},\n",
              " {'Model': 'RandomForest: ',\n",
              "  'Accuracy_train': 0.999878643563025,\n",
              "  'Precision_train': 0.9997052439775985,\n",
              "  'Recall_train': 0.9993035838645739,\n",
              "  'ROC_AUC_train': 0.9999999156557344,\n",
              "  'Accuracy_test': 0.8656818241452598,\n",
              "  'Precision_test': 0.36326142131979694,\n",
              "  'Recall_test': 0.1221203071672355,\n",
              "  'ROC_AUC_test': 0.8346166455685571},\n",
              " {'Model': 'GradientBoostingClassifier: ',\n",
              "  'Accuracy_train': 0.8775743144181287,\n",
              "  'Precision_train': 0.75,\n",
              "  'Recall_train': 0.0003214228317351476,\n",
              "  'ROC_AUC_train': 0.8567852415681767,\n",
              "  'Accuracy_test': 0.8769908950171866,\n",
              "  'Precision_test': 0.5,\n",
              "  'Recall_test': 0.00021331058020477816,\n",
              "  'ROC_AUC_test': 0.856994186225657},\n",
              " {'Model': 'KNeighborsClassifier: ',\n",
              "  'Accuracy_train': 0.8968896673193675,\n",
              "  'Precision_train': 0.6449392911566633,\n",
              "  'Recall_train': 0.351422296030428,\n",
              "  'ROC_AUC_train': 0.9200648083477407,\n",
              "  'Accuracy_test': 0.8538086116869146,\n",
              "  'Precision_test': 0.32740769681578435,\n",
              "  'Recall_test': 0.1787542662116041,\n",
              "  'ROC_AUC_test': 0.7600198916280393}]"
            ]
          },
          "execution_count": 50,
          "metadata": {},
          "output_type": "execute_result"
        }
      ],
      "source": [
        "model_data"
      ]
    },
    {
      "cell_type": "code",
      "execution_count": null,
      "metadata": {
        "colab": {
          "base_uri": "https://localhost:8080/"
        },
        "id": "dKgmFNiPOpjn",
        "outputId": "e79b2e14-c68d-48a1-8242-bbc4b35c5ffc"
      },
      "outputs": [
        {
          "data": {
            "text/html": [
              "\n",
              "  <div id=\"df-befcc8c8-b046-47c2-bc64-3caea4453af1\">\n",
              "    <div class=\"colab-df-container\">\n",
              "      <div>\n",
              "<style scoped>\n",
              "    .dataframe tbody tr th:only-of-type {\n",
              "        vertical-align: middle;\n",
              "    }\n",
              "\n",
              "    .dataframe tbody tr th {\n",
              "        vertical-align: top;\n",
              "    }\n",
              "\n",
              "    .dataframe thead th {\n",
              "        text-align: right;\n",
              "    }\n",
              "</style>\n",
              "<table border=\"1\" class=\"dataframe\">\n",
              "  <thead>\n",
              "    <tr style=\"text-align: right;\">\n",
              "      <th></th>\n",
              "      <th>Model</th>\n",
              "      <th>Accuracy_train</th>\n",
              "      <th>Precision_train</th>\n",
              "      <th>Recall_train</th>\n",
              "      <th>ROC_AUC_train</th>\n",
              "      <th>Accuracy_test</th>\n",
              "      <th>Precision_test</th>\n",
              "      <th>Recall_test</th>\n",
              "      <th>ROC_AUC_test</th>\n",
              "    </tr>\n",
              "  </thead>\n",
              "  <tbody>\n",
              "    <tr>\n",
              "      <th>0</th>\n",
              "      <td>LogisticRegression:</td>\n",
              "      <td>0.876725</td>\n",
              "      <td>0.080268</td>\n",
              "      <td>0.000643</td>\n",
              "      <td>0.817346</td>\n",
              "      <td>0.876046</td>\n",
              "      <td>0.060976</td>\n",
              "      <td>0.000533</td>\n",
              "      <td>0.817753</td>\n",
              "    </tr>\n",
              "    <tr>\n",
              "      <th>1</th>\n",
              "      <td>CatBoostClassifier:</td>\n",
              "      <td>0.882484</td>\n",
              "      <td>0.765058</td>\n",
              "      <td>0.058178</td>\n",
              "      <td>0.881551</td>\n",
              "      <td>0.876702</td>\n",
              "      <td>0.482085</td>\n",
              "      <td>0.031570</td>\n",
              "      <td>0.857030</td>\n",
              "    </tr>\n",
              "    <tr>\n",
              "      <th>2</th>\n",
              "      <td>DecisionTree:</td>\n",
              "      <td>0.999885</td>\n",
              "      <td>1.000000</td>\n",
              "      <td>0.999063</td>\n",
              "      <td>1.000000</td>\n",
              "      <td>0.823555</td>\n",
              "      <td>0.296655</td>\n",
              "      <td>0.316873</td>\n",
              "      <td>0.605861</td>\n",
              "    </tr>\n",
              "    <tr>\n",
              "      <th>3</th>\n",
              "      <td>RandomForest:</td>\n",
              "      <td>0.999879</td>\n",
              "      <td>0.999705</td>\n",
              "      <td>0.999304</td>\n",
              "      <td>1.000000</td>\n",
              "      <td>0.865682</td>\n",
              "      <td>0.363261</td>\n",
              "      <td>0.122120</td>\n",
              "      <td>0.834617</td>\n",
              "    </tr>\n",
              "    <tr>\n",
              "      <th>4</th>\n",
              "      <td>GradientBoostingClassifier:</td>\n",
              "      <td>0.877574</td>\n",
              "      <td>0.750000</td>\n",
              "      <td>0.000321</td>\n",
              "      <td>0.856785</td>\n",
              "      <td>0.876991</td>\n",
              "      <td>0.500000</td>\n",
              "      <td>0.000213</td>\n",
              "      <td>0.856994</td>\n",
              "    </tr>\n",
              "    <tr>\n",
              "      <th>5</th>\n",
              "      <td>KNeighborsClassifier:</td>\n",
              "      <td>0.896890</td>\n",
              "      <td>0.644939</td>\n",
              "      <td>0.351422</td>\n",
              "      <td>0.920065</td>\n",
              "      <td>0.853809</td>\n",
              "      <td>0.327408</td>\n",
              "      <td>0.178754</td>\n",
              "      <td>0.760020</td>\n",
              "    </tr>\n",
              "  </tbody>\n",
              "</table>\n",
              "</div>\n",
              "      <button class=\"colab-df-convert\" onclick=\"convertToInteractive('df-befcc8c8-b046-47c2-bc64-3caea4453af1')\"\n",
              "              title=\"Convert this dataframe to an interactive table.\"\n",
              "              style=\"display:none;\">\n",
              "        \n",
              "  <svg xmlns=\"http://www.w3.org/2000/svg\" height=\"24px\"viewBox=\"0 0 24 24\"\n",
              "       width=\"24px\">\n",
              "    <path d=\"M0 0h24v24H0V0z\" fill=\"none\"/>\n",
              "    <path d=\"M18.56 5.44l.94 2.06.94-2.06 2.06-.94-2.06-.94-.94-2.06-.94 2.06-2.06.94zm-11 1L8.5 8.5l.94-2.06 2.06-.94-2.06-.94L8.5 2.5l-.94 2.06-2.06.94zm10 10l.94 2.06.94-2.06 2.06-.94-2.06-.94-.94-2.06-.94 2.06-2.06.94z\"/><path d=\"M17.41 7.96l-1.37-1.37c-.4-.4-.92-.59-1.43-.59-.52 0-1.04.2-1.43.59L10.3 9.45l-7.72 7.72c-.78.78-.78 2.05 0 2.83L4 21.41c.39.39.9.59 1.41.59.51 0 1.02-.2 1.41-.59l7.78-7.78 2.81-2.81c.8-.78.8-2.07 0-2.86zM5.41 20L4 18.59l7.72-7.72 1.47 1.35L5.41 20z\"/>\n",
              "  </svg>\n",
              "      </button>\n",
              "      \n",
              "  <style>\n",
              "    .colab-df-container {\n",
              "      display:flex;\n",
              "      flex-wrap:wrap;\n",
              "      gap: 12px;\n",
              "    }\n",
              "\n",
              "    .colab-df-convert {\n",
              "      background-color: #E8F0FE;\n",
              "      border: none;\n",
              "      border-radius: 50%;\n",
              "      cursor: pointer;\n",
              "      display: none;\n",
              "      fill: #1967D2;\n",
              "      height: 32px;\n",
              "      padding: 0 0 0 0;\n",
              "      width: 32px;\n",
              "    }\n",
              "\n",
              "    .colab-df-convert:hover {\n",
              "      background-color: #E2EBFA;\n",
              "      box-shadow: 0px 1px 2px rgba(60, 64, 67, 0.3), 0px 1px 3px 1px rgba(60, 64, 67, 0.15);\n",
              "      fill: #174EA6;\n",
              "    }\n",
              "\n",
              "    [theme=dark] .colab-df-convert {\n",
              "      background-color: #3B4455;\n",
              "      fill: #D2E3FC;\n",
              "    }\n",
              "\n",
              "    [theme=dark] .colab-df-convert:hover {\n",
              "      background-color: #434B5C;\n",
              "      box-shadow: 0px 1px 3px 1px rgba(0, 0, 0, 0.15);\n",
              "      filter: drop-shadow(0px 1px 2px rgba(0, 0, 0, 0.3));\n",
              "      fill: #FFFFFF;\n",
              "    }\n",
              "  </style>\n",
              "\n",
              "      <script>\n",
              "        const buttonEl =\n",
              "          document.querySelector('#df-befcc8c8-b046-47c2-bc64-3caea4453af1 button.colab-df-convert');\n",
              "        buttonEl.style.display =\n",
              "          google.colab.kernel.accessAllowed ? 'block' : 'none';\n",
              "\n",
              "        async function convertToInteractive(key) {\n",
              "          const element = document.querySelector('#df-befcc8c8-b046-47c2-bc64-3caea4453af1');\n",
              "          const dataTable =\n",
              "            await google.colab.kernel.invokeFunction('convertToInteractive',\n",
              "                                                     [key], {});\n",
              "          if (!dataTable) return;\n",
              "\n",
              "          const docLinkHtml = 'Like what you see? Visit the ' +\n",
              "            '<a target=\"_blank\" href=https://colab.research.google.com/notebooks/data_table.ipynb>data table notebook</a>'\n",
              "            + ' to learn more about interactive tables.';\n",
              "          element.innerHTML = '';\n",
              "          dataTable['output_type'] = 'display_data';\n",
              "          await google.colab.output.renderOutput(dataTable, element);\n",
              "          const docLink = document.createElement('div');\n",
              "          docLink.innerHTML = docLinkHtml;\n",
              "          element.appendChild(docLink);\n",
              "        }\n",
              "      </script>\n",
              "    </div>\n",
              "  </div>\n",
              "  "
            ],
            "text/plain": [
              "                          Model  Accuracy_train  Precision_train  \\\n",
              "0          LogisticRegression:         0.876725         0.080268   \n",
              "1           CatBoostClassifier:        0.882484         0.765058   \n",
              "2                DecisionTree:         0.999885         1.000000   \n",
              "3                RandomForest:         0.999879         0.999705   \n",
              "4  GradientBoostingClassifier:         0.877574         0.750000   \n",
              "5        KNeighborsClassifier:         0.896890         0.644939   \n",
              "\n",
              "   Recall_train  ROC_AUC_train  Accuracy_test  Precision_test  Recall_test  \\\n",
              "0      0.000643       0.817346       0.876046        0.060976     0.000533   \n",
              "1      0.058178       0.881551       0.876702        0.482085     0.031570   \n",
              "2      0.999063       1.000000       0.823555        0.296655     0.316873   \n",
              "3      0.999304       1.000000       0.865682        0.363261     0.122120   \n",
              "4      0.000321       0.856785       0.876991        0.500000     0.000213   \n",
              "5      0.351422       0.920065       0.853809        0.327408     0.178754   \n",
              "\n",
              "   ROC_AUC_test  \n",
              "0      0.817753  \n",
              "1      0.857030  \n",
              "2      0.605861  \n",
              "3      0.834617  \n",
              "4      0.856994  \n",
              "5      0.760020  "
            ]
          },
          "execution_count": 51,
          "metadata": {},
          "output_type": "execute_result"
        }
      ],
      "source": [
        "# dataframe for scores of different models\n",
        "\n",
        "model_data = pd.DataFrame(model_data)\n",
        "model_data"
      ]
    },
    {
      "cell_type": "markdown",
      "metadata": {
        "id": "q-UNDoowPiis"
      },
      "source": [
        "###Observations:\n",
        "\n",
        "1. Accuracy of all the models is very close to each other.\n",
        "\n",
        "2. Precision of the model GradientBoostingClassifier is the highest.\n",
        "\n",
        "3. Recall for all the models is low because it is an imbalanced data.\n",
        "\n",
        "4. ROC AUC score of the models CatBoostClassifier and GradientBoostingClassifier are better."
      ]
    },
    {
      "cell_type": "markdown",
      "metadata": {
        "id": "TYGqxRMLRKuY"
      },
      "source": [
        "###Let us perform Hyper Parameter Tuning for CatBoostClassifier and RandomForest.\n",
        "\n",
        "###Choose AUC ROC score as the performance metric."
      ]
    },
    {
      "cell_type": "markdown",
      "metadata": {
        "id": "MEXVRdwWUN94"
      },
      "source": [
        "###CatBoost classifier"
      ]
    },
    {
      "cell_type": "code",
      "execution_count": null,
      "metadata": {
        "id": "hcsbghd3UAtO"
      },
      "outputs": [],
      "source": [
        "# categorical features\n",
        "\n",
        "cat_col=['Gender','Driving_License', 'Region_Code', 'Previously_Insured', 'Vehicle_Age', 'Vehicle_Damage','Policy_Sales_Channel']"
      ]
    },
    {
      "cell_type": "code",
      "execution_count": null,
      "metadata": {
        "id": "MUoaGP9-xm7W"
      },
      "outputs": [],
      "source": [
        "from sklearn.model_selection import RandomizedSearchCV"
      ]
    },
    {
      "cell_type": "code",
      "execution_count": null,
      "metadata": {
        "id": "n9yk4q4rsyho"
      },
      "outputs": [],
      "source": [
        "# define parameters for hyperparameter tuning\n",
        "\n",
        "params = {'depth':[3,6,9],\n",
        "          'iterations':[250,500,750],\n",
        "          'learning_rate':[0.3,0.03,0.003],\n",
        "          'eval_metric':['AUC'],\n",
        "          'border_count':[5,10,20],\n",
        "          'l2_leaf_reg':[1]\n",
        "        }"
      ]
    },
    {
      "cell_type": "code",
      "execution_count": null,
      "metadata": {
        "colab": {
          "background_save": true,
          "base_uri": "https://localhost:8080/"
        },
        "id": "6BSpbWCTyDwH",
        "outputId": "a62ce714-b673-4a9c-fe6c-01869d13d2f6"
      },
      "outputs": [
        {
          "name": "stdout",
          "output_type": "stream",
          "text": [
            "Fitting 3 folds for each of 10 candidates, totalling 30 fits\n",
            "0:\ttotal: 49.5ms\tremaining: 24.7s\n",
            "1:\ttotal: 92.6ms\tremaining: 23.1s\n",
            "2:\ttotal: 140ms\tremaining: 23.2s\n",
            "3:\ttotal: 187ms\tremaining: 23.2s\n",
            "4:\ttotal: 237ms\tremaining: 23.4s\n",
            "5:\ttotal: 288ms\tremaining: 23.7s\n",
            "6:\ttotal: 337ms\tremaining: 23.7s\n",
            "7:\ttotal: 385ms\tremaining: 23.7s\n",
            "8:\ttotal: 435ms\tremaining: 23.7s\n",
            "9:\ttotal: 482ms\tremaining: 23.6s\n",
            "10:\ttotal: 535ms\tremaining: 23.8s\n",
            "11:\ttotal: 586ms\tremaining: 23.8s\n",
            "12:\ttotal: 644ms\tremaining: 24.1s\n",
            "13:\ttotal: 693ms\tremaining: 24.1s\n",
            "14:\ttotal: 745ms\tremaining: 24.1s\n",
            "15:\ttotal: 794ms\tremaining: 24s\n",
            "16:\ttotal: 843ms\tremaining: 23.9s\n",
            "17:\ttotal: 895ms\tremaining: 24s\n",
            "18:\ttotal: 947ms\tremaining: 24s\n",
            "19:\ttotal: 999ms\tremaining: 24s\n",
            "20:\ttotal: 1.05s\tremaining: 23.9s\n",
            "21:\ttotal: 1.09s\tremaining: 23.6s\n",
            "22:\ttotal: 1.13s\tremaining: 23.5s\n",
            "23:\ttotal: 1.18s\tremaining: 23.5s\n",
            "24:\ttotal: 1.23s\tremaining: 23.4s\n",
            "25:\ttotal: 1.28s\tremaining: 23.3s\n",
            "26:\ttotal: 1.33s\tremaining: 23.2s\n",
            "27:\ttotal: 1.37s\tremaining: 23.1s\n",
            "28:\ttotal: 1.42s\tremaining: 23.1s\n",
            "29:\ttotal: 1.47s\tremaining: 23s\n",
            "30:\ttotal: 1.52s\tremaining: 23s\n",
            "31:\ttotal: 1.57s\tremaining: 23s\n",
            "32:\ttotal: 1.63s\tremaining: 23s\n",
            "33:\ttotal: 1.67s\tremaining: 22.9s\n",
            "34:\ttotal: 1.72s\tremaining: 22.8s\n",
            "35:\ttotal: 1.77s\tremaining: 22.8s\n",
            "36:\ttotal: 1.82s\tremaining: 22.8s\n",
            "37:\ttotal: 1.87s\tremaining: 22.7s\n",
            "38:\ttotal: 1.92s\tremaining: 22.6s\n",
            "39:\ttotal: 1.96s\tremaining: 22.6s\n",
            "40:\ttotal: 2.01s\tremaining: 22.5s\n",
            "41:\ttotal: 2.06s\tremaining: 22.5s\n",
            "42:\ttotal: 2.12s\tremaining: 22.5s\n",
            "43:\ttotal: 2.16s\tremaining: 22.4s\n",
            "44:\ttotal: 2.21s\tremaining: 22.3s\n",
            "45:\ttotal: 2.26s\tremaining: 22.3s\n",
            "46:\ttotal: 2.3s\tremaining: 22.2s\n",
            "47:\ttotal: 2.36s\tremaining: 22.2s\n",
            "48:\ttotal: 2.41s\tremaining: 22.2s\n",
            "49:\ttotal: 2.46s\tremaining: 22.1s\n",
            "50:\ttotal: 2.5s\tremaining: 22s\n",
            "51:\ttotal: 2.55s\tremaining: 22s\n",
            "52:\ttotal: 2.6s\tremaining: 21.9s\n",
            "53:\ttotal: 2.66s\tremaining: 22s\n",
            "54:\ttotal: 2.71s\tremaining: 21.9s\n",
            "55:\ttotal: 2.75s\tremaining: 21.8s\n",
            "56:\ttotal: 2.8s\tremaining: 21.8s\n",
            "57:\ttotal: 2.85s\tremaining: 21.8s\n",
            "58:\ttotal: 2.9s\tremaining: 21.7s\n",
            "59:\ttotal: 2.95s\tremaining: 21.6s\n",
            "60:\ttotal: 3s\tremaining: 21.6s\n",
            "61:\ttotal: 3.04s\tremaining: 21.5s\n",
            "62:\ttotal: 3.09s\tremaining: 21.5s\n",
            "63:\ttotal: 3.14s\tremaining: 21.4s\n",
            "64:\ttotal: 3.19s\tremaining: 21.3s\n",
            "65:\ttotal: 3.23s\tremaining: 21.2s\n",
            "66:\ttotal: 3.28s\tremaining: 21.2s\n",
            "67:\ttotal: 3.33s\tremaining: 21.1s\n",
            "68:\ttotal: 3.37s\tremaining: 21.1s\n",
            "69:\ttotal: 3.41s\tremaining: 21s\n",
            "70:\ttotal: 3.46s\tremaining: 20.9s\n",
            "71:\ttotal: 3.51s\tremaining: 20.9s\n",
            "72:\ttotal: 3.56s\tremaining: 20.8s\n",
            "73:\ttotal: 3.6s\tremaining: 20.8s\n",
            "74:\ttotal: 3.66s\tremaining: 20.7s\n",
            "75:\ttotal: 3.71s\tremaining: 20.7s\n",
            "76:\ttotal: 3.76s\tremaining: 20.6s\n",
            "77:\ttotal: 3.8s\tremaining: 20.6s\n",
            "78:\ttotal: 3.85s\tremaining: 20.5s\n",
            "79:\ttotal: 3.9s\tremaining: 20.5s\n",
            "80:\ttotal: 3.95s\tremaining: 20.4s\n",
            "81:\ttotal: 4s\tremaining: 20.4s\n",
            "82:\ttotal: 4.05s\tremaining: 20.3s\n",
            "83:\ttotal: 4.09s\tremaining: 20.3s\n",
            "84:\ttotal: 4.14s\tremaining: 20.2s\n",
            "85:\ttotal: 4.18s\tremaining: 20.1s\n",
            "86:\ttotal: 4.23s\tremaining: 20.1s\n",
            "87:\ttotal: 4.28s\tremaining: 20s\n",
            "88:\ttotal: 4.33s\tremaining: 20s\n",
            "89:\ttotal: 4.38s\tremaining: 19.9s\n",
            "90:\ttotal: 4.42s\tremaining: 19.9s\n",
            "91:\ttotal: 4.47s\tremaining: 19.8s\n",
            "92:\ttotal: 4.52s\tremaining: 19.8s\n",
            "93:\ttotal: 4.57s\tremaining: 19.7s\n",
            "94:\ttotal: 4.61s\tremaining: 19.7s\n",
            "95:\ttotal: 4.67s\tremaining: 19.6s\n",
            "96:\ttotal: 4.71s\tremaining: 19.6s\n",
            "97:\ttotal: 4.76s\tremaining: 19.6s\n",
            "98:\ttotal: 4.81s\tremaining: 19.5s\n",
            "99:\ttotal: 4.86s\tremaining: 19.4s\n",
            "100:\ttotal: 4.91s\tremaining: 19.4s\n",
            "101:\ttotal: 4.96s\tremaining: 19.3s\n",
            "102:\ttotal: 5s\tremaining: 19.3s\n",
            "103:\ttotal: 5.05s\tremaining: 19.2s\n",
            "104:\ttotal: 5.11s\tremaining: 19.2s\n",
            "105:\ttotal: 5.15s\tremaining: 19.2s\n",
            "106:\ttotal: 5.2s\tremaining: 19.1s\n",
            "107:\ttotal: 5.25s\tremaining: 19.1s\n",
            "108:\ttotal: 5.3s\tremaining: 19s\n",
            "109:\ttotal: 5.35s\tremaining: 19s\n",
            "110:\ttotal: 5.39s\tremaining: 18.9s\n",
            "111:\ttotal: 5.45s\tremaining: 18.9s\n",
            "112:\ttotal: 5.49s\tremaining: 18.8s\n",
            "113:\ttotal: 5.54s\tremaining: 18.8s\n",
            "114:\ttotal: 5.58s\tremaining: 18.7s\n",
            "115:\ttotal: 5.63s\tremaining: 18.6s\n",
            "116:\ttotal: 5.69s\tremaining: 18.6s\n",
            "117:\ttotal: 5.73s\tremaining: 18.6s\n",
            "118:\ttotal: 5.78s\tremaining: 18.5s\n",
            "119:\ttotal: 5.83s\tremaining: 18.4s\n",
            "120:\ttotal: 5.87s\tremaining: 18.4s\n",
            "121:\ttotal: 5.92s\tremaining: 18.4s\n",
            "122:\ttotal: 5.97s\tremaining: 18.3s\n",
            "123:\ttotal: 6.01s\tremaining: 18.2s\n",
            "124:\ttotal: 6.06s\tremaining: 18.2s\n",
            "125:\ttotal: 6.11s\tremaining: 18.1s\n",
            "126:\ttotal: 6.16s\tremaining: 18.1s\n",
            "127:\ttotal: 6.2s\tremaining: 18s\n",
            "128:\ttotal: 6.24s\tremaining: 18s\n",
            "129:\ttotal: 6.29s\tremaining: 17.9s\n",
            "130:\ttotal: 6.34s\tremaining: 17.9s\n",
            "131:\ttotal: 6.39s\tremaining: 17.8s\n",
            "132:\ttotal: 6.43s\tremaining: 17.8s\n",
            "133:\ttotal: 6.47s\tremaining: 17.7s\n",
            "134:\ttotal: 6.52s\tremaining: 17.6s\n",
            "135:\ttotal: 6.56s\tremaining: 17.6s\n",
            "136:\ttotal: 6.61s\tremaining: 17.5s\n",
            "137:\ttotal: 6.65s\tremaining: 17.5s\n",
            "138:\ttotal: 6.71s\tremaining: 17.4s\n",
            "139:\ttotal: 6.75s\tremaining: 17.4s\n",
            "140:\ttotal: 6.8s\tremaining: 17.3s\n",
            "141:\ttotal: 6.85s\tremaining: 17.3s\n",
            "142:\ttotal: 6.89s\tremaining: 17.2s\n",
            "143:\ttotal: 6.93s\tremaining: 17.1s\n",
            "144:\ttotal: 6.97s\tremaining: 17.1s\n",
            "145:\ttotal: 7.02s\tremaining: 17s\n",
            "146:\ttotal: 7.07s\tremaining: 17s\n",
            "147:\ttotal: 7.12s\tremaining: 16.9s\n",
            "148:\ttotal: 7.16s\tremaining: 16.9s\n",
            "149:\ttotal: 7.21s\tremaining: 16.8s\n",
            "150:\ttotal: 7.25s\tremaining: 16.8s\n",
            "151:\ttotal: 7.3s\tremaining: 16.7s\n",
            "152:\ttotal: 7.35s\tremaining: 16.7s\n",
            "153:\ttotal: 7.39s\tremaining: 16.6s\n",
            "154:\ttotal: 7.44s\tremaining: 16.6s\n",
            "155:\ttotal: 7.48s\tremaining: 16.5s\n",
            "156:\ttotal: 7.53s\tremaining: 16.4s\n",
            "157:\ttotal: 7.58s\tremaining: 16.4s\n",
            "158:\ttotal: 7.61s\tremaining: 16.3s\n",
            "159:\ttotal: 7.66s\tremaining: 16.3s\n",
            "160:\ttotal: 7.71s\tremaining: 16.2s\n",
            "161:\ttotal: 7.76s\tremaining: 16.2s\n",
            "162:\ttotal: 7.81s\tremaining: 16.1s\n",
            "163:\ttotal: 7.85s\tremaining: 16.1s\n",
            "164:\ttotal: 7.89s\tremaining: 16s\n",
            "165:\ttotal: 7.94s\tremaining: 16s\n",
            "166:\ttotal: 7.98s\tremaining: 15.9s\n",
            "167:\ttotal: 8.02s\tremaining: 15.9s\n",
            "168:\ttotal: 8.07s\tremaining: 15.8s\n",
            "169:\ttotal: 8.12s\tremaining: 15.8s\n",
            "170:\ttotal: 8.16s\tremaining: 15.7s\n",
            "171:\ttotal: 8.21s\tremaining: 15.7s\n",
            "172:\ttotal: 8.25s\tremaining: 15.6s\n",
            "173:\ttotal: 8.3s\tremaining: 15.5s\n",
            "174:\ttotal: 8.34s\tremaining: 15.5s\n",
            "175:\ttotal: 8.39s\tremaining: 15.4s\n",
            "176:\ttotal: 8.44s\tremaining: 15.4s\n",
            "177:\ttotal: 8.48s\tremaining: 15.3s\n",
            "178:\ttotal: 8.53s\tremaining: 15.3s\n",
            "179:\ttotal: 8.58s\tremaining: 15.2s\n",
            "180:\ttotal: 8.63s\tremaining: 15.2s\n",
            "181:\ttotal: 8.67s\tremaining: 15.1s\n",
            "182:\ttotal: 8.72s\tremaining: 15.1s\n",
            "183:\ttotal: 8.76s\tremaining: 15s\n",
            "184:\ttotal: 8.8s\tremaining: 15s\n",
            "185:\ttotal: 8.84s\tremaining: 14.9s\n",
            "186:\ttotal: 8.89s\tremaining: 14.9s\n",
            "187:\ttotal: 8.94s\tremaining: 14.8s\n",
            "188:\ttotal: 8.99s\tremaining: 14.8s\n",
            "189:\ttotal: 9.03s\tremaining: 14.7s\n",
            "190:\ttotal: 9.07s\tremaining: 14.7s\n",
            "191:\ttotal: 9.12s\tremaining: 14.6s\n",
            "192:\ttotal: 9.16s\tremaining: 14.6s\n",
            "193:\ttotal: 9.2s\tremaining: 14.5s\n",
            "194:\ttotal: 9.25s\tremaining: 14.5s\n",
            "195:\ttotal: 9.3s\tremaining: 14.4s\n",
            "196:\ttotal: 9.34s\tremaining: 14.4s\n",
            "197:\ttotal: 9.39s\tremaining: 14.3s\n",
            "198:\ttotal: 9.43s\tremaining: 14.3s\n",
            "199:\ttotal: 9.48s\tremaining: 14.2s\n",
            "200:\ttotal: 9.53s\tremaining: 14.2s\n",
            "201:\ttotal: 9.58s\tremaining: 14.1s\n",
            "202:\ttotal: 9.62s\tremaining: 14.1s\n",
            "203:\ttotal: 9.66s\tremaining: 14s\n",
            "204:\ttotal: 9.7s\tremaining: 14s\n",
            "205:\ttotal: 9.75s\tremaining: 13.9s\n",
            "206:\ttotal: 9.8s\tremaining: 13.9s\n",
            "207:\ttotal: 9.84s\tremaining: 13.8s\n",
            "208:\ttotal: 9.87s\tremaining: 13.7s\n",
            "209:\ttotal: 9.92s\tremaining: 13.7s\n",
            "210:\ttotal: 9.96s\tremaining: 13.6s\n",
            "211:\ttotal: 10s\tremaining: 13.6s\n",
            "212:\ttotal: 10.1s\tremaining: 13.6s\n",
            "213:\ttotal: 10.1s\tremaining: 13.5s\n",
            "214:\ttotal: 10.1s\tremaining: 13.4s\n",
            "215:\ttotal: 10.2s\tremaining: 13.4s\n",
            "216:\ttotal: 10.2s\tremaining: 13.3s\n",
            "217:\ttotal: 10.3s\tremaining: 13.3s\n",
            "218:\ttotal: 10.3s\tremaining: 13.2s\n",
            "219:\ttotal: 10.4s\tremaining: 13.2s\n",
            "220:\ttotal: 10.4s\tremaining: 13.1s\n",
            "221:\ttotal: 10.5s\tremaining: 13.1s\n",
            "222:\ttotal: 10.5s\tremaining: 13s\n",
            "223:\ttotal: 10.5s\tremaining: 13s\n",
            "224:\ttotal: 10.6s\tremaining: 12.9s\n",
            "225:\ttotal: 10.6s\tremaining: 12.9s\n",
            "226:\ttotal: 10.7s\tremaining: 12.8s\n",
            "227:\ttotal: 10.7s\tremaining: 12.8s\n",
            "228:\ttotal: 10.8s\tremaining: 12.8s\n",
            "229:\ttotal: 10.8s\tremaining: 12.7s\n",
            "230:\ttotal: 10.9s\tremaining: 12.7s\n",
            "231:\ttotal: 10.9s\tremaining: 12.6s\n",
            "232:\ttotal: 11s\tremaining: 12.6s\n",
            "233:\ttotal: 11s\tremaining: 12.5s\n",
            "234:\ttotal: 11.1s\tremaining: 12.5s\n",
            "235:\ttotal: 11.1s\tremaining: 12.4s\n",
            "236:\ttotal: 11.1s\tremaining: 12.3s\n",
            "237:\ttotal: 11.2s\tremaining: 12.3s\n",
            "238:\ttotal: 11.2s\tremaining: 12.2s\n",
            "239:\ttotal: 11.3s\tremaining: 12.2s\n",
            "240:\ttotal: 11.3s\tremaining: 12.1s\n",
            "241:\ttotal: 11.3s\tremaining: 12.1s\n",
            "242:\ttotal: 11.4s\tremaining: 12s\n",
            "243:\ttotal: 11.4s\tremaining: 12s\n",
            "244:\ttotal: 11.5s\tremaining: 11.9s\n",
            "245:\ttotal: 11.5s\tremaining: 11.9s\n",
            "246:\ttotal: 11.6s\tremaining: 11.8s\n",
            "247:\ttotal: 11.6s\tremaining: 11.8s\n",
            "248:\ttotal: 11.6s\tremaining: 11.7s\n",
            "249:\ttotal: 11.7s\tremaining: 11.7s\n",
            "250:\ttotal: 11.7s\tremaining: 11.6s\n",
            "251:\ttotal: 11.8s\tremaining: 11.6s\n",
            "252:\ttotal: 11.8s\tremaining: 11.5s\n",
            "253:\ttotal: 11.9s\tremaining: 11.5s\n",
            "254:\ttotal: 11.9s\tremaining: 11.5s\n",
            "255:\ttotal: 12s\tremaining: 11.4s\n",
            "256:\ttotal: 12s\tremaining: 11.4s\n",
            "257:\ttotal: 12.1s\tremaining: 11.3s\n",
            "258:\ttotal: 12.1s\tremaining: 11.3s\n",
            "259:\ttotal: 12.1s\tremaining: 11.2s\n",
            "260:\ttotal: 12.2s\tremaining: 11.2s\n",
            "261:\ttotal: 12.2s\tremaining: 11.1s\n",
            "262:\ttotal: 12.3s\tremaining: 11.1s\n",
            "263:\ttotal: 12.3s\tremaining: 11s\n",
            "264:\ttotal: 12.4s\tremaining: 11s\n",
            "265:\ttotal: 12.4s\tremaining: 10.9s\n",
            "266:\ttotal: 12.5s\tremaining: 10.9s\n",
            "267:\ttotal: 12.5s\tremaining: 10.8s\n",
            "268:\ttotal: 12.5s\tremaining: 10.8s\n",
            "269:\ttotal: 12.6s\tremaining: 10.7s\n",
            "270:\ttotal: 12.6s\tremaining: 10.7s\n",
            "271:\ttotal: 12.7s\tremaining: 10.6s\n",
            "272:\ttotal: 12.7s\tremaining: 10.6s\n",
            "273:\ttotal: 12.8s\tremaining: 10.5s\n",
            "274:\ttotal: 12.8s\tremaining: 10.5s\n",
            "275:\ttotal: 12.8s\tremaining: 10.4s\n",
            "276:\ttotal: 12.9s\tremaining: 10.4s\n",
            "277:\ttotal: 12.9s\tremaining: 10.3s\n",
            "278:\ttotal: 13s\tremaining: 10.3s\n",
            "279:\ttotal: 13s\tremaining: 10.2s\n",
            "280:\ttotal: 13.1s\tremaining: 10.2s\n",
            "281:\ttotal: 13.1s\tremaining: 10.1s\n",
            "282:\ttotal: 13.2s\tremaining: 10.1s\n",
            "283:\ttotal: 13.2s\tremaining: 10s\n",
            "284:\ttotal: 13.2s\tremaining: 9.99s\n",
            "285:\ttotal: 13.3s\tremaining: 9.94s\n",
            "286:\ttotal: 13.3s\tremaining: 9.88s\n",
            "287:\ttotal: 13.4s\tremaining: 9.84s\n",
            "288:\ttotal: 13.4s\tremaining: 9.79s\n",
            "289:\ttotal: 13.4s\tremaining: 9.74s\n",
            "290:\ttotal: 13.5s\tremaining: 9.69s\n",
            "291:\ttotal: 13.5s\tremaining: 9.64s\n",
            "292:\ttotal: 13.6s\tremaining: 9.6s\n",
            "293:\ttotal: 13.6s\tremaining: 9.55s\n",
            "294:\ttotal: 13.7s\tremaining: 9.5s\n",
            "295:\ttotal: 13.7s\tremaining: 9.45s\n",
            "296:\ttotal: 13.8s\tremaining: 9.41s\n",
            "297:\ttotal: 13.8s\tremaining: 9.37s\n",
            "298:\ttotal: 13.9s\tremaining: 9.32s\n",
            "299:\ttotal: 13.9s\tremaining: 9.27s\n",
            "300:\ttotal: 13.9s\tremaining: 9.22s\n",
            "301:\ttotal: 14s\tremaining: 9.17s\n",
            "302:\ttotal: 14s\tremaining: 9.12s\n",
            "303:\ttotal: 14.1s\tremaining: 9.07s\n",
            "304:\ttotal: 14.1s\tremaining: 9.03s\n",
            "305:\ttotal: 14.2s\tremaining: 8.98s\n",
            "306:\ttotal: 14.2s\tremaining: 8.93s\n",
            "307:\ttotal: 14.3s\tremaining: 8.88s\n",
            "308:\ttotal: 14.3s\tremaining: 8.84s\n",
            "309:\ttotal: 14.3s\tremaining: 8.79s\n",
            "310:\ttotal: 14.4s\tremaining: 8.74s\n",
            "311:\ttotal: 14.4s\tremaining: 8.7s\n",
            "312:\ttotal: 14.5s\tremaining: 8.65s\n",
            "313:\ttotal: 14.5s\tremaining: 8.6s\n",
            "314:\ttotal: 14.6s\tremaining: 8.55s\n",
            "315:\ttotal: 14.6s\tremaining: 8.5s\n",
            "316:\ttotal: 14.6s\tremaining: 8.45s\n",
            "317:\ttotal: 14.7s\tremaining: 8.41s\n",
            "318:\ttotal: 14.7s\tremaining: 8.37s\n",
            "319:\ttotal: 14.8s\tremaining: 8.32s\n",
            "320:\ttotal: 14.8s\tremaining: 8.28s\n",
            "321:\ttotal: 14.9s\tremaining: 8.23s\n",
            "322:\ttotal: 14.9s\tremaining: 8.18s\n",
            "323:\ttotal: 15s\tremaining: 8.13s\n",
            "324:\ttotal: 15s\tremaining: 8.08s\n",
            "325:\ttotal: 15.1s\tremaining: 8.04s\n",
            "326:\ttotal: 15.1s\tremaining: 7.99s\n",
            "327:\ttotal: 15.1s\tremaining: 7.94s\n",
            "328:\ttotal: 15.2s\tremaining: 7.89s\n",
            "329:\ttotal: 15.2s\tremaining: 7.85s\n",
            "330:\ttotal: 15.3s\tremaining: 7.8s\n",
            "331:\ttotal: 15.3s\tremaining: 7.76s\n",
            "332:\ttotal: 15.4s\tremaining: 7.71s\n",
            "333:\ttotal: 15.4s\tremaining: 7.66s\n",
            "334:\ttotal: 15.5s\tremaining: 7.62s\n",
            "335:\ttotal: 15.5s\tremaining: 7.57s\n",
            "336:\ttotal: 15.5s\tremaining: 7.52s\n",
            "337:\ttotal: 15.6s\tremaining: 7.48s\n",
            "338:\ttotal: 15.6s\tremaining: 7.43s\n",
            "339:\ttotal: 15.7s\tremaining: 7.38s\n",
            "340:\ttotal: 15.7s\tremaining: 7.33s\n",
            "341:\ttotal: 15.8s\tremaining: 7.29s\n",
            "342:\ttotal: 15.8s\tremaining: 7.25s\n",
            "343:\ttotal: 15.9s\tremaining: 7.2s\n",
            "344:\ttotal: 15.9s\tremaining: 7.15s\n",
            "345:\ttotal: 16s\tremaining: 7.1s\n",
            "346:\ttotal: 16s\tremaining: 7.06s\n",
            "347:\ttotal: 16.1s\tremaining: 7.02s\n",
            "348:\ttotal: 16.1s\tremaining: 6.97s\n",
            "349:\ttotal: 16.1s\tremaining: 6.92s\n",
            "350:\ttotal: 16.2s\tremaining: 6.87s\n",
            "351:\ttotal: 16.2s\tremaining: 6.82s\n",
            "352:\ttotal: 16.3s\tremaining: 6.78s\n",
            "353:\ttotal: 16.3s\tremaining: 6.73s\n",
            "354:\ttotal: 16.4s\tremaining: 6.68s\n",
            "355:\ttotal: 16.4s\tremaining: 6.64s\n",
            "356:\ttotal: 16.4s\tremaining: 6.59s\n",
            "357:\ttotal: 16.5s\tremaining: 6.54s\n",
            "358:\ttotal: 16.5s\tremaining: 6.5s\n",
            "359:\ttotal: 16.6s\tremaining: 6.45s\n",
            "360:\ttotal: 16.6s\tremaining: 6.4s\n",
            "361:\ttotal: 16.7s\tremaining: 6.36s\n",
            "362:\ttotal: 16.7s\tremaining: 6.31s\n",
            "363:\ttotal: 16.8s\tremaining: 6.26s\n",
            "364:\ttotal: 16.8s\tremaining: 6.22s\n",
            "365:\ttotal: 16.9s\tremaining: 6.17s\n",
            "366:\ttotal: 16.9s\tremaining: 6.12s\n",
            "367:\ttotal: 16.9s\tremaining: 6.08s\n",
            "368:\ttotal: 17s\tremaining: 6.03s\n",
            "369:\ttotal: 17s\tremaining: 5.98s\n",
            "370:\ttotal: 17.1s\tremaining: 5.93s\n",
            "371:\ttotal: 17.1s\tremaining: 5.89s\n",
            "372:\ttotal: 17.2s\tremaining: 5.84s\n",
            "373:\ttotal: 17.2s\tremaining: 5.79s\n",
            "374:\ttotal: 17.2s\tremaining: 5.75s\n",
            "375:\ttotal: 17.3s\tremaining: 5.7s\n",
            "376:\ttotal: 17.3s\tremaining: 5.65s\n",
            "377:\ttotal: 17.4s\tremaining: 5.61s\n",
            "378:\ttotal: 17.4s\tremaining: 5.56s\n",
            "379:\ttotal: 17.5s\tremaining: 5.51s\n",
            "380:\ttotal: 17.5s\tremaining: 5.47s\n",
            "381:\ttotal: 17.5s\tremaining: 5.42s\n",
            "382:\ttotal: 17.6s\tremaining: 5.37s\n",
            "383:\ttotal: 17.6s\tremaining: 5.33s\n",
            "384:\ttotal: 17.7s\tremaining: 5.28s\n",
            "385:\ttotal: 17.7s\tremaining: 5.23s\n",
            "386:\ttotal: 17.8s\tremaining: 5.19s\n",
            "387:\ttotal: 17.8s\tremaining: 5.14s\n",
            "388:\ttotal: 17.9s\tremaining: 5.1s\n",
            "389:\ttotal: 17.9s\tremaining: 5.05s\n",
            "390:\ttotal: 17.9s\tremaining: 5s\n",
            "391:\ttotal: 18s\tremaining: 4.96s\n",
            "392:\ttotal: 18s\tremaining: 4.91s\n",
            "393:\ttotal: 18.1s\tremaining: 4.86s\n",
            "394:\ttotal: 18.1s\tremaining: 4.82s\n",
            "395:\ttotal: 18.2s\tremaining: 4.77s\n",
            "396:\ttotal: 18.2s\tremaining: 4.73s\n",
            "397:\ttotal: 18.3s\tremaining: 4.68s\n",
            "398:\ttotal: 18.3s\tremaining: 4.63s\n",
            "399:\ttotal: 18.4s\tremaining: 4.59s\n",
            "400:\ttotal: 18.4s\tremaining: 4.54s\n",
            "401:\ttotal: 18.4s\tremaining: 4.49s\n",
            "402:\ttotal: 18.5s\tremaining: 4.45s\n",
            "403:\ttotal: 18.5s\tremaining: 4.4s\n",
            "404:\ttotal: 18.6s\tremaining: 4.35s\n",
            "405:\ttotal: 18.6s\tremaining: 4.31s\n",
            "406:\ttotal: 18.7s\tremaining: 4.26s\n",
            "407:\ttotal: 18.7s\tremaining: 4.22s\n",
            "408:\ttotal: 18.8s\tremaining: 4.17s\n",
            "409:\ttotal: 18.8s\tremaining: 4.13s\n",
            "410:\ttotal: 18.8s\tremaining: 4.08s\n",
            "411:\ttotal: 18.9s\tremaining: 4.03s\n",
            "412:\ttotal: 18.9s\tremaining: 3.99s\n",
            "413:\ttotal: 19s\tremaining: 3.94s\n",
            "414:\ttotal: 19s\tremaining: 3.9s\n",
            "415:\ttotal: 19.1s\tremaining: 3.85s\n",
            "416:\ttotal: 19.1s\tremaining: 3.81s\n",
            "417:\ttotal: 19.2s\tremaining: 3.76s\n",
            "418:\ttotal: 19.2s\tremaining: 3.71s\n",
            "419:\ttotal: 19.3s\tremaining: 3.67s\n",
            "420:\ttotal: 19.3s\tremaining: 3.62s\n",
            "421:\ttotal: 19.3s\tremaining: 3.57s\n",
            "422:\ttotal: 19.4s\tremaining: 3.53s\n",
            "423:\ttotal: 19.4s\tremaining: 3.48s\n",
            "424:\ttotal: 19.5s\tremaining: 3.44s\n",
            "425:\ttotal: 19.5s\tremaining: 3.39s\n",
            "426:\ttotal: 19.6s\tremaining: 3.35s\n",
            "427:\ttotal: 19.6s\tremaining: 3.3s\n",
            "428:\ttotal: 19.7s\tremaining: 3.25s\n",
            "429:\ttotal: 19.7s\tremaining: 3.21s\n",
            "430:\ttotal: 19.7s\tremaining: 3.16s\n",
            "431:\ttotal: 19.8s\tremaining: 3.11s\n",
            "432:\ttotal: 19.8s\tremaining: 3.07s\n",
            "433:\ttotal: 19.9s\tremaining: 3.02s\n",
            "434:\ttotal: 19.9s\tremaining: 2.98s\n",
            "435:\ttotal: 20s\tremaining: 2.93s\n",
            "436:\ttotal: 20s\tremaining: 2.88s\n",
            "437:\ttotal: 20.1s\tremaining: 2.84s\n",
            "438:\ttotal: 20.1s\tremaining: 2.79s\n",
            "439:\ttotal: 20.1s\tremaining: 2.75s\n",
            "440:\ttotal: 20.2s\tremaining: 2.7s\n",
            "441:\ttotal: 20.2s\tremaining: 2.65s\n",
            "442:\ttotal: 20.3s\tremaining: 2.61s\n",
            "443:\ttotal: 20.3s\tremaining: 2.56s\n",
            "444:\ttotal: 20.4s\tremaining: 2.52s\n",
            "445:\ttotal: 20.4s\tremaining: 2.47s\n",
            "446:\ttotal: 20.5s\tremaining: 2.42s\n",
            "447:\ttotal: 20.5s\tremaining: 2.38s\n",
            "448:\ttotal: 20.5s\tremaining: 2.33s\n",
            "449:\ttotal: 20.6s\tremaining: 2.29s\n",
            "450:\ttotal: 20.6s\tremaining: 2.24s\n",
            "451:\ttotal: 20.7s\tremaining: 2.19s\n",
            "452:\ttotal: 20.7s\tremaining: 2.15s\n",
            "453:\ttotal: 20.8s\tremaining: 2.1s\n",
            "454:\ttotal: 20.8s\tremaining: 2.06s\n",
            "455:\ttotal: 20.9s\tremaining: 2.01s\n",
            "456:\ttotal: 20.9s\tremaining: 1.97s\n",
            "457:\ttotal: 21s\tremaining: 1.92s\n",
            "458:\ttotal: 21s\tremaining: 1.88s\n",
            "459:\ttotal: 21s\tremaining: 1.83s\n",
            "460:\ttotal: 21.1s\tremaining: 1.78s\n",
            "461:\ttotal: 21.1s\tremaining: 1.74s\n",
            "462:\ttotal: 21.2s\tremaining: 1.69s\n",
            "463:\ttotal: 21.2s\tremaining: 1.65s\n",
            "464:\ttotal: 21.3s\tremaining: 1.6s\n",
            "465:\ttotal: 21.3s\tremaining: 1.55s\n",
            "466:\ttotal: 21.4s\tremaining: 1.51s\n",
            "467:\ttotal: 21.4s\tremaining: 1.46s\n",
            "468:\ttotal: 21.5s\tremaining: 1.42s\n",
            "469:\ttotal: 21.5s\tremaining: 1.37s\n",
            "470:\ttotal: 21.5s\tremaining: 1.33s\n",
            "471:\ttotal: 21.6s\tremaining: 1.28s\n",
            "472:\ttotal: 21.6s\tremaining: 1.23s\n",
            "473:\ttotal: 21.7s\tremaining: 1.19s\n",
            "474:\ttotal: 21.7s\tremaining: 1.14s\n",
            "475:\ttotal: 21.8s\tremaining: 1.1s\n",
            "476:\ttotal: 21.8s\tremaining: 1.05s\n",
            "477:\ttotal: 21.9s\tremaining: 1s\n",
            "478:\ttotal: 21.9s\tremaining: 960ms\n",
            "479:\ttotal: 21.9s\tremaining: 914ms\n",
            "480:\ttotal: 22s\tremaining: 869ms\n",
            "481:\ttotal: 22s\tremaining: 823ms\n",
            "482:\ttotal: 22.1s\tremaining: 777ms\n",
            "483:\ttotal: 22.1s\tremaining: 732ms\n",
            "484:\ttotal: 22.2s\tremaining: 686ms\n",
            "485:\ttotal: 22.2s\tremaining: 640ms\n",
            "486:\ttotal: 22.3s\tremaining: 594ms\n",
            "487:\ttotal: 22.3s\tremaining: 548ms\n",
            "488:\ttotal: 22.4s\tremaining: 503ms\n",
            "489:\ttotal: 22.4s\tremaining: 457ms\n",
            "490:\ttotal: 22.4s\tremaining: 411ms\n",
            "491:\ttotal: 22.5s\tremaining: 366ms\n",
            "492:\ttotal: 22.5s\tremaining: 320ms\n",
            "493:\ttotal: 22.6s\tremaining: 274ms\n",
            "494:\ttotal: 22.6s\tremaining: 228ms\n",
            "495:\ttotal: 22.7s\tremaining: 183ms\n",
            "496:\ttotal: 22.7s\tremaining: 137ms\n",
            "497:\ttotal: 22.8s\tremaining: 91.4ms\n",
            "498:\ttotal: 22.8s\tremaining: 45.7ms\n",
            "499:\ttotal: 22.9s\tremaining: 0us\n"
          ]
        },
        {
          "data": {
            "text/plain": [
              "RandomizedSearchCV(cv=3,\n",
              "                   estimator=<catboost.core.CatBoostClassifier object at 0x7f383f7a1390>,\n",
              "                   n_jobs=-1,\n",
              "                   param_distributions={'border_count': [5, 10, 20],\n",
              "                                        'depth': [3, 6, 9],\n",
              "                                        'eval_metric': ['AUC'],\n",
              "                                        'iterations': [250, 500, 750],\n",
              "                                        'l2_leaf_reg': [1],\n",
              "                                        'learning_rate': [0.3, 0.03, 0.003]},\n",
              "                   random_state=101, verbose=50)"
            ]
          },
          "execution_count": 55,
          "metadata": {},
          "output_type": "execute_result"
        }
      ],
      "source": [
        "# perform hyperparameter tuning using RandomizedSearchCV\n",
        "\n",
        "clf = CatBoostClassifier()\n",
        "\n",
        "cb_model = RandomizedSearchCV(estimator = clf, \n",
        "                                param_distributions = params, \n",
        "                                n_iter = 10, \n",
        "                                cv = 3, \n",
        "                                verbose= 50, \n",
        "                                random_state= 101, \n",
        "                                n_jobs = -1)\n",
        "\n",
        "# fit the model with tuned parameters on the training set\n",
        "\n",
        "cb_model.fit(X_train,y_train)"
      ]
    },
    {
      "cell_type": "code",
      "execution_count": null,
      "metadata": {
        "colab": {
          "background_save": true
        },
        "id": "Xp7bLsif2Zxf",
        "outputId": "d6b922a7-6bf7-450e-f58e-7583db64ebc9"
      },
      "outputs": [
        {
          "data": {
            "text/plain": [
              "{'learning_rate': 0.03,\n",
              " 'l2_leaf_reg': 1,\n",
              " 'iterations': 500,\n",
              " 'eval_metric': 'AUC',\n",
              " 'depth': 6,\n",
              " 'border_count': 5}"
            ]
          },
          "execution_count": 56,
          "metadata": {},
          "output_type": "execute_result"
        }
      ],
      "source": [
        "# best parameters for the model\n",
        "\n",
        "cb_model.best_params_"
      ]
    },
    {
      "cell_type": "code",
      "execution_count": null,
      "metadata": {
        "colab": {
          "background_save": true
        },
        "id": "VW3s0jQdABYs",
        "outputId": "1e706371-5711-4f01-d49e-d7cd53b87ade"
      },
      "outputs": [
        {
          "data": {
            "text/plain": [
              "0.8776661517217854"
            ]
          },
          "execution_count": 57,
          "metadata": {},
          "output_type": "execute_result"
        }
      ],
      "source": [
        "cb_model.best_score_"
      ]
    },
    {
      "cell_type": "code",
      "execution_count": null,
      "metadata": {
        "colab": {
          "background_save": true
        },
        "id": "_B3rbvZEUAX9",
        "outputId": "90bf8b55-1029-4692-b1f3-012ffcf3960a"
      },
      "outputs": [
        {
          "name": "stdout",
          "output_type": "stream",
          "text": [
            "0:\ttest: 0.8347147\tbest: 0.8347147 (0)\ttotal: 285ms\tremaining: 2m 22s\n",
            "50:\ttest: 0.8527793\tbest: 0.8527793 (50)\ttotal: 10.2s\tremaining: 1m 29s\n",
            "100:\ttest: 0.8563365\tbest: 0.8563365 (100)\ttotal: 19.2s\tremaining: 1m 15s\n",
            "150:\ttest: 0.8570917\tbest: 0.8570917 (150)\ttotal: 28.8s\tremaining: 1m 6s\n",
            "200:\ttest: 0.8576590\tbest: 0.8576590 (200)\ttotal: 37.9s\tremaining: 56.4s\n",
            "250:\ttest: 0.8579565\tbest: 0.8579565 (250)\ttotal: 47.3s\tremaining: 46.9s\n",
            "300:\ttest: 0.8582003\tbest: 0.8582014 (299)\ttotal: 56.7s\tremaining: 37.5s\n",
            "350:\ttest: 0.8583222\tbest: 0.8583222 (350)\ttotal: 1m 5s\tremaining: 28s\n",
            "400:\ttest: 0.8583669\tbest: 0.8583767 (395)\ttotal: 1m 14s\tremaining: 18.5s\n",
            "450:\ttest: 0.8584048\tbest: 0.8584155 (434)\ttotal: 1m 24s\tremaining: 9.15s\n",
            "499:\ttest: 0.8584443\tbest: 0.8584488 (494)\ttotal: 1m 33s\tremaining: 0us\n",
            "\n",
            "bestTest = 0.8584487794\n",
            "bestIteration = 494\n",
            "\n",
            "Shrink model to first 495 iterations.\n"
          ]
        },
        {
          "data": {
            "text/plain": [
              "<catboost.core.CatBoostClassifier at 0x7f383f76d450>"
            ]
          },
          "execution_count": 58,
          "metadata": {},
          "output_type": "execute_result"
        }
      ],
      "source": [
        "# fit the model with the best parameters\n",
        "\n",
        "best_params=cb_model.best_params_\n",
        "\n",
        "cat = CatBoostClassifier(**best_params)\n",
        "\n",
        "cat.fit(X_train, y_train,\n",
        "        cat_features=cat_col,\n",
        "        eval_set=(X_test, y_test),\n",
        "        early_stopping_rounds=50,\n",
        "        verbose=50)"
      ]
    },
    {
      "cell_type": "code",
      "execution_count": null,
      "metadata": {
        "colab": {
          "background_save": true
        },
        "id": "9kpFh6QcDBtg"
      },
      "outputs": [],
      "source": [
        "# make predictions using the model with the best parameters\n",
        "\n",
        "y_pred=cat.predict(X_test)"
      ]
    },
    {
      "cell_type": "code",
      "execution_count": null,
      "metadata": {
        "colab": {
          "background_save": true
        },
        "id": "jjbGgJVfC0iL",
        "outputId": "471c0573-9000-42e3-85b4-933245e15b3f"
      },
      "outputs": [
        {
          "name": "stdout",
          "output_type": "stream",
          "text": [
            "CatBoost ROC AUC SCORE: 0.8584487793960526\n"
          ]
        }
      ],
      "source": [
        "# ROC AUC score with the model having best parameters\n",
        "\n",
        "pred_proba = cat.predict_proba(X_test)[:, 1]\n",
        "print('CatBoost ROC AUC SCORE: {}'.format(roc_auc_score(y_test,pred_proba)))"
      ]
    },
    {
      "cell_type": "markdown",
      "metadata": {
        "id": "fFmJNFVzXOAe"
      },
      "source": [
        "###Observation:\n",
        "\n",
        "1. ROC AUC score has improved from 0.856173 to 0.858495"
      ]
    },
    {
      "cell_type": "code",
      "execution_count": null,
      "metadata": {
        "colab": {
          "background_save": true
        },
        "id": "H6Zfe5Z7C6Vn",
        "outputId": "3dba1117-6b51-4430-8726-770d321b49fd"
      },
      "outputs": [
        {
          "name": "stdout",
          "output_type": "stream",
          "text": [
            "              precision    recall  f1-score   support\n",
            "\n",
            "           0       0.88      1.00      0.93     66846\n",
            "           1       0.54      0.01      0.01      9376\n",
            "\n",
            "    accuracy                           0.88     76222\n",
            "   macro avg       0.71      0.50      0.47     76222\n",
            "weighted avg       0.84      0.88      0.82     76222\n",
            "\n"
          ]
        }
      ],
      "source": [
        "# classification report\n",
        "\n",
        "print(classification_report(y_test, y_pred))"
      ]
    },
    {
      "cell_type": "code",
      "execution_count": null,
      "metadata": {
        "colab": {
          "background_save": true
        },
        "id": "pchxmrnOExrF",
        "outputId": "67d1c8fc-369f-44b3-bd9e-112692481c7c"
      },
      "outputs": [
        {
          "data": {
            "text/plain": [
              "array([[66805,    41],\n",
              "       [ 9328,    48]])"
            ]
          },
          "execution_count": 62,
          "metadata": {},
          "output_type": "execute_result"
        }
      ],
      "source": [
        "# confusion matrix\n",
        "\n",
        "confusion_matrix(y_test, y_pred)"
      ]
    },
    {
      "cell_type": "code",
      "execution_count": null,
      "metadata": {
        "colab": {
          "background_save": true
        },
        "id": "hbzjo7nEF2ks",
        "outputId": "a01a8431-b741-4129-94c8-b6cb268069d3"
      },
      "outputs": [
        {
          "data": {
            "image/png": "[encoded data removed]",
            "text/plain": [
              "<Figure size 576x576 with 1 Axes>"
            ]
          },
          "metadata": {},
          "output_type": "display_data"
        }
      ],
      "source": [
        "# plot for feature importance\n",
        "\n",
        "from sklearn.inspection import permutation_importance\n",
        "\n",
        "# get feature importance data using feature_importances_ attribute\n",
        "\n",
        "feature_importance = cat.feature_importances_\n",
        "sorted_idx = np.argsort(feature_importance)\n",
        "pos = np.arange(sorted_idx.shape[0]) + .5\n",
        "\n",
        "# plot the feature importance\n",
        "\n",
        "fig = plt.figure(figsize=(8, 8))\n",
        "plt.barh(pos, feature_importance[sorted_idx], align='center')\n",
        "plt.yticks(pos, np.array(X.columns)[sorted_idx])\n",
        "plt.title('Feature Importance (MDI)')\n",
        "\n",
        "result = permutation_importance(cat, X_test, y_test, \n",
        "                                n_repeats=10,\n",
        "                                random_state=100, \n",
        "                                n_jobs=2)\n",
        "sorted_idx = result.importances_mean.argsort()\n",
        "\n",
        "fig.tight_layout()\n",
        "plt.show()"
      ]
    },
    {
      "cell_type": "markdown",
      "metadata": {
        "id": "nAzhe3DQXnDV"
      },
      "source": [
        "###Observations:\n",
        "\n",
        "1. The important features in the classification are Previously Insured, Vehicle Damage, Age."
      ]
    },
    {
      "cell_type": "code",
      "execution_count": null,
      "metadata": {
        "colab": {
          "background_save": true
        },
        "id": "B3adBhUiRUqo"
      },
      "outputs": [],
      "source": []
    },
    {
      "cell_type": "code",
      "execution_count": null,
      "metadata": {
        "colab": {
          "background_save": true
        },
        "id": "NC_3mFmUL8BE"
      },
      "outputs": [],
      "source": [
        "# precision, recall and threshold\n",
        "\n",
        "precision, recall, th = precision_recall_curve(y_test, y_pred)"
      ]
    },
    {
      "cell_type": "code",
      "execution_count": null,
      "metadata": {
        "colab": {
          "background_save": true
        },
        "id": "-DE0PuOZMYl-",
        "outputId": "a8a327a2-b178-4816-fc61-2091eca68008"
      },
      "outputs": [
        {
          "data": {
            "image/png": "[encoded data removed]",
            "text/plain": [
              "<Figure size 432x288 with 1 Axes>"
            ]
          },
          "metadata": {},
          "output_type": "display_data"
        }
      ],
      "source": [
        "# plot Precision and Recall with respect to Threshold\n",
        "\n",
        "plt.plot(th, precision[1:], label=\"Precision\",linewidth=5) \n",
        "plt.plot(th, recall[1:], label=\"Recall\",linewidth=5) \n",
        "plt.title('Precision and recall for different threshold values') \n",
        "plt.xlabel('Threshold') \n",
        "plt.ylabel('Precision/Recall') \n",
        "plt.legend() \n",
        "plt.show()"
      ]
    },
    {
      "cell_type": "code",
      "execution_count": null,
      "metadata": {
        "colab": {
          "background_save": true
        },
        "id": "JIO39SlQRWby",
        "outputId": "76da7f7a-4a6c-4c26-af2c-8902a69e0299"
      },
      "outputs": [
        {
          "data": {
            "image/png": "[encoded data removed]",
            "text/plain": [
              "<Figure size 432x288 with 1 Axes>"
            ]
          },
          "metadata": {},
          "output_type": "display_data"
        },
        {
          "name": "stdout",
          "output_type": "stream",
          "text": [
            "Area under curve (AUC):  0.8584487793960526\n"
          ]
        }
      ],
      "source": [
        "# plot ROC curve\n",
        "\n",
        "y_score = cat.predict_proba(X_test)[:,1]\n",
        "fpr, tpr, _ = roc_curve(y_test, y_score)\n",
        "\n",
        "plt.figure()\n",
        "plt.title('ROC curve')\n",
        "plt.xlabel('FPR (Precision)')\n",
        "plt.ylabel('TPR (Recall)')\n",
        "\n",
        "plt.plot(fpr,tpr)\n",
        "plt.plot((0,1), ls='dashed',color='black')\n",
        "plt.show()\n",
        "print ('Area under curve (AUC): ', auc(fpr,tpr))"
      ]
    }
  ],
  "metadata": {
    "colab": {
      "collapsed_sections": [
        "WChQVDaHSIav",
        "kfMoQxQESgJC",
        "c00McuYlb9pA",
        "Tv5OXm3yfyVe",
        "AeLAswwwfe9w",
        "Fry6Qamph5PM",
        "wHqWC5c1mAPB",
        "5TRw2sxJmxOr"
      ],
      "provenance": []
    },
    "kernelspec": {
      "display_name": "Python 3",
      "name": "python3"
    },
    "language_info": {
      "name": "python"
    }
  },
  "nbformat": 4,
  "nbformat_minor": 0
}